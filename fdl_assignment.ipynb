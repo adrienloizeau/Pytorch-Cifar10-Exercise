{
  "metadata": {
    "colab": {
      "provenance": [],
      "collapsed_sections": [
        "o3QK7dhJRKmH"
      ],
      "toc_visible": true,
      "include_colab_link": true
    },
    "kernelspec": {
      "name": "python3",
      "display_name": "Python 3",
      "language": "python"
    },
    "language_info": {
      "name": "python",
      "version": "3.7.12",
      "mimetype": "text/x-python",
      "codemirror_mode": {
        "name": "ipython",
        "version": 3
      },
      "pygments_lexer": "ipython3",
      "nbconvert_exporter": "python",
      "file_extension": ".py"
    },
    "vscode": {
      "interpreter": {
        "hash": "d8a1dba90a7a3c73ffa205c3fa0146003aed819f1f43d631078b51d929ccab9c"
      }
    },
    "accelerator": "GPU",
    "gpuClass": "standard"
  },
  "nbformat_minor": 0,
  "nbformat": 4,
  "cells": [
    {
      "cell_type": "markdown",
      "metadata": {
        "id": "view-in-github",
        "colab_type": "text"
      },
      "source": [
        "<a href=\"https://colab.research.google.com/github/adrienloizeau/cifar-pytorch-model-/blob/main/fdl_assignment.ipynb\" target=\"_parent\"><img src=\"https://colab.research.google.com/assets/colab-badge.svg\" alt=\"Open In Colab\"/></a>"
      ]
    },
    {
      "cell_type": "markdown",
      "source": [
        "## FDL- DSBA Assignment 2022-2023\n",
        "\n",
        "### Please fill the blanks in the code and answer to the questions that are asked in the Jupyter Notebook (\"Markdown\" cell). \n",
        "\n",
        "### Instructions: Rename the jupyter adding your name at the end of the title FDL_Assignment-<YOUR NAME\\>.ipynb\n",
        "\n",
        "### Upload your solution on Edunao before the 19/12/2022 (December the 12th), and set the file name to FDL_Assignment-<YOUR NAME\\>\n",
        "\n",
        "For any questions, please contact Arthur Ledaguenel at arthur.ledaguenel@centralesupelec.fr and put \\[FDL\\] in the object of the mail"
      ],
      "metadata": {
        "id": "HzT-fZzFRKly"
      }
    },
    {
      "cell_type": "markdown",
      "source": [
        "# Question 1 -  TRAIN ON CIFAR DATASET\n",
        "In this exercise you are asked to train a Convolutional Neural Network (CNN) on the CIFAR10 dataset and visualize its feature maps."
      ],
      "metadata": {
        "id": "zPUOV6dFRKl7"
      }
    },
    {
      "cell_type": "markdown",
      "source": [
        "## 1a) Download the CIFAR10 dataset using the already provided PyTorch dataloaders. \n",
        "*   Read and understand the following code\n",
        "*   Feel free to add additional transformations of data. Explain if so. "
      ],
      "metadata": {
        "id": "lCX0xLejRKl9"
      }
    },
    {
      "cell_type": "code",
      "source": [
        "batch_size = 10"
      ],
      "metadata": {
        "id": "31bJgkWSUt8u"
      },
      "execution_count": 23,
      "outputs": []
    },
    {
      "cell_type": "code",
      "source": [
        "## Download the CIFAR10 dataset using the PyTorch dataloaders\n",
        "import json \n",
        "from pprint import pprint\n",
        "import torch\n",
        "import torchvision\n",
        "import torchvision.transforms as transforms\n",
        "\n",
        "# *****START CODE \n",
        "## Data\n",
        "##Here you are free to add further transform functions if you wish\n",
        "print('==> Preparing data..')\n",
        "transform_train = transforms.Compose([\n",
        "    transforms.ToTensor(),\n",
        "])\n",
        "\n",
        "transform_test = transforms.Compose([\n",
        "    transforms.ToTensor(),\n",
        "    transforms.Normalize((0.5, 0.5, 0.5), (0.5, 0.5, 0.5))\n",
        "])\n",
        "\n",
        "trainset = torchvision.datasets.CIFAR10(root='./data', train=True, download=True, transform=transform_train)\n",
        "train_dataloader = torch.utils.data.DataLoader(trainset, batch_size= batch_size , shuffle=True)\n",
        "\n",
        "testset = torchvision.datasets.CIFAR10(root='./data', train=False, download=True, transform=transform_test)\n",
        "val_dataloader = torch.utils.data.DataLoader(testset, batch_size= batch_size, shuffle=False)\n",
        "# *****END CODE"
      ],
      "metadata": {
        "id": "5KyVunArRKl-",
        "outputId": "9659ad08-8425-4df6-90f9-e36f78b4395e",
        "colab": {
          "base_uri": "https://localhost:8080/"
        },
        "execution": {
          "iopub.status.busy": "2022-12-14T15:04:29.144140Z",
          "iopub.execute_input": "2022-12-14T15:04:29.144487Z",
          "iopub.status.idle": "2022-12-14T15:04:30.820640Z",
          "shell.execute_reply.started": "2022-12-14T15:04:29.144458Z",
          "shell.execute_reply": "2022-12-14T15:04:30.819654Z"
        },
        "trusted": true
      },
      "execution_count": 35,
      "outputs": [
        {
          "output_type": "stream",
          "name": "stdout",
          "text": [
            "==> Preparing data..\n",
            "Files already downloaded and verified\n",
            "Files already downloaded and verified\n"
          ]
        }
      ]
    },
    {
      "cell_type": "markdown",
      "source": [
        "## 1b) Create your convolutional neural network.\n",
        "*   Go to https://dljudge.io/generate + /<YOUR NAME\\> or use curl below\n",
        "*   Save the page as json \n",
        "*   Build your CNN architecture based on those modules and hyperparameters\n",
        "*   Use the right value for 'COMPUTE' \n",
        "*   See the example below"
      ],
      "metadata": {
        "id": "3S-ITJo9RKmA"
      }
    },
    {
      "cell_type": "code",
      "source": [
        "!curl https://dljudge.io/generate/adrienloizeau -o network1.json"
      ],
      "metadata": {
        "id": "gnmWWieDVm-g",
        "execution": {
          "iopub.status.busy": "2022-12-14T15:04:30.822377Z",
          "iopub.execute_input": "2022-12-14T15:04:30.823081Z",
          "iopub.status.idle": "2022-12-14T15:04:31.894808Z",
          "shell.execute_reply.started": "2022-12-14T15:04:30.823040Z",
          "shell.execute_reply": "2022-12-14T15:04:31.893610Z"
        },
        "trusted": true
      },
      "execution_count": null,
      "outputs": []
    },
    {
      "cell_type": "code",
      "source": [
        "def validate_network(model, input_dict):\n",
        "    \"\"\"\n",
        "    Validate if your network definition is same as provided architecture\n",
        "    \"\"\"\n",
        "    output = {}\n",
        "    i = 1\n",
        "    for layer in model.children():\n",
        "        if isinstance(layer, nn.Conv2d):\n",
        "            output[f'Layer_{str(i).zfill(3)}'] = {'type': 'Conv2d',\n",
        "                                                  'kernel_size': layer.kernel_size[0],\n",
        "                                                   'input': layer.in_channels,\n",
        "                                                   'output': layer.out_channels,\n",
        "                                                   'padding': layer.padding[0]}\n",
        "\n",
        "        if isinstance(layer, nn.ReLU):\n",
        "            output[f'Layer_{str(i).zfill(3)}'] = {'type': 'ReLU'}\n",
        "\n",
        "        if isinstance(layer, nn.MaxPool2d):\n",
        "            output[f'Layer_{str(i).zfill(3)}'] = {'type': 'MaxPool2d',\n",
        "                                                  'kernel_size': layer.kernel_size,\n",
        "                                                  'stride': layer.stride}\n",
        "\n",
        "        if isinstance(layer, nn.AdaptiveAvgPool2d):\n",
        "            output[f'Layer_{str(i).zfill(3)}'] = {'type': 'AdaptiveAvgPool2d',\n",
        "                                                  'output': layer.output_size}\n",
        "\n",
        "        if isinstance(layer, nn.BatchNorm2d):\n",
        "            output[f'Layer_{str(i).zfill(3)}'] = {'type': 'BatchNorm2d',\n",
        "                                                  'input': layer.num_features}\n",
        "\n",
        "        if isinstance(layer, nn.Dropout):\n",
        "            output[f'Layer_{str(i).zfill(3)}'] = {'type': 'Dropout',\n",
        "                                                  'p': layer.p}\n",
        "\n",
        "        if isinstance(layer, nn.Linear):\n",
        "            output[f'Layer_{str(i).zfill(3)}'] = {'type': 'Linear',\n",
        "                                                  'input': layer.in_features,\n",
        "                                                  'output': layer.out_features}\n",
        "\n",
        "        i += 1\n",
        "\n",
        "    \n",
        "    correct = True\n",
        "    for l in output.keys():\n",
        "        if l in input_dict:\n",
        "            inp_kvs = input_dict[l]\n",
        "            out_kvs = output[l]\n",
        "            for k in out_kvs:\n",
        "                if inp_kvs[k] != 'COMPUTE':\n",
        "                    if out_kvs[k] != inp_kvs[k]:\n",
        "                        print(out_kvs[k])\n",
        "                        print (f'Error in {l}, {k}!')\n",
        "                        correct = False\n",
        "\n",
        "    if correct:\n",
        "        print ('OK!')"
      ],
      "metadata": {
        "id": "fut0mqaSVm-g",
        "execution": {
          "iopub.status.busy": "2022-12-14T15:04:31.897452Z",
          "iopub.execute_input": "2022-12-14T15:04:31.897880Z",
          "iopub.status.idle": "2022-12-14T15:04:31.910698Z",
          "shell.execute_reply.started": "2022-12-14T15:04:31.897825Z",
          "shell.execute_reply": "2022-12-14T15:04:31.909659Z"
        },
        "trusted": true
      },
      "execution_count": 36,
      "outputs": []
    },
    {
      "cell_type": "code",
      "source": [
        "# *****START CODE \n",
        "# Import your individual architecture dictionnary here\n",
        "fin = open('CNN.json', 'r')\n",
        "my_architecture_dict = json.load(fin)\n",
        "fin.close()\n",
        "\n",
        "pprint(my_architecture_dict)\n",
        "# *****END CODE"
      ],
      "metadata": {
        "id": "hiihuvTRVm-h",
        "colab": {
          "base_uri": "https://localhost:8080/"
        },
        "outputId": "a6355748-1e40-44b8-9c36-4416a1a8c7b1",
        "execution": {
          "iopub.status.busy": "2022-12-14T15:04:32.505968Z",
          "iopub.execute_input": "2022-12-14T15:04:32.506314Z",
          "iopub.status.idle": "2022-12-14T15:04:32.516331Z",
          "shell.execute_reply.started": "2022-12-14T15:04:32.506284Z",
          "shell.execute_reply": "2022-12-14T15:04:32.515318Z"
        },
        "trusted": true
      },
      "execution_count": 37,
      "outputs": [
        {
          "output_type": "stream",
          "name": "stdout",
          "text": [
            "{'Layer_001': {'input': 3,\n",
            "               'kernel_size': 3,\n",
            "               'output': 56,\n",
            "               'padding': 1,\n",
            "               'type': 'Conv2d'},\n",
            " 'Layer_002': {'type': 'ReLU'},\n",
            " 'Layer_003': {'kernel_size': 2, 'stride': 2, 'type': 'MaxPool2d'},\n",
            " 'Layer_004': {'input': 56,\n",
            "               'kernel_size': 3,\n",
            "               'output': 135,\n",
            "               'padding': 1,\n",
            "               'type': 'Conv2d'},\n",
            " 'Layer_005': {'type': 'ReLU'},\n",
            " 'Layer_006': {'kernel_size': 2, 'stride': 2, 'type': 'MaxPool2d'},\n",
            " 'Layer_007': {'input': 135,\n",
            "               'kernel_size': 3,\n",
            "               'output': 246,\n",
            "               'padding': 1,\n",
            "               'type': 'Conv2d'},\n",
            " 'Layer_008': {'type': 'ReLU'},\n",
            " 'Layer_009': {'input': 246,\n",
            "               'kernel_size': 3,\n",
            "               'output': 246,\n",
            "               'padding': 1,\n",
            "               'type': 'Conv2d'},\n",
            " 'Layer_010': {'type': 'ReLU'},\n",
            " 'Layer_011': {'kernel_size': 2, 'stride': 2, 'type': 'MaxPool2d'},\n",
            " 'Layer_012': {'input': 246,\n",
            "               'kernel_size': 3,\n",
            "               'output': 520,\n",
            "               'padding': 1,\n",
            "               'type': 'Conv2d'},\n",
            " 'Layer_013': {'type': 'ReLU'},\n",
            " 'Layer_014': {'input': 520,\n",
            "               'kernel_size': 3,\n",
            "               'output': 520,\n",
            "               'padding': 1,\n",
            "               'type': 'Conv2d'},\n",
            " 'Layer_015': {'type': 'ReLU'},\n",
            " 'Layer_016': {'kernel_size': 2, 'stride': 2, 'type': 'MaxPool2d'},\n",
            " 'Layer_017': {'input': 520,\n",
            "               'kernel_size': 3,\n",
            "               'output': 520,\n",
            "               'padding': 1,\n",
            "               'type': 'Conv2d'},\n",
            " 'Layer_018': {'type': 'ReLU'},\n",
            " 'Layer_019': {'input': 520,\n",
            "               'kernel_size': 3,\n",
            "               'output': 520,\n",
            "               'padding': 1,\n",
            "               'type': 'Conv2d'},\n",
            " 'Layer_020': {'type': 'ReLU'},\n",
            " 'Layer_021': {'kernel_size': 2, 'stride': 2, 'type': 'MaxPool2d'},\n",
            " 'Layer_022': {'output': 'COMPUTE', 'type': 'AdaptiveAvgPool2d'},\n",
            " 'Layer_023': {'p': 0.5112472379693787, 'type': 'Dropout'},\n",
            " 'Layer_024': {'input': 'COMPUTE', 'output': 2142, 'type': 'Linear'},\n",
            " 'Layer_025': {'type': 'ReLU'},\n",
            " 'Layer_026': {'p': 0.5112472379693787, 'type': 'Dropout'},\n",
            " 'Layer_027': {'input': 2142, 'output': 3067, 'type': 'Linear'},\n",
            " 'Layer_028': {'type': 'ReLU'},\n",
            " 'Layer_029': {'p': 0.5112472379693787, 'type': 'Dropout'},\n",
            " 'Layer_030': {'input': 3067, 'output': 3922, 'type': 'Linear'},\n",
            " 'Layer_031': {'type': 'ReLU'},\n",
            " 'Layer_032': {'input': 3922, 'output': 'COMPUTE', 'type': 'Linear'},\n",
            " 'StudentName': 'adrienloizeau',\n",
            " 'UUID': 'cefc8f3e5faa458c8add44008a6a7390'}\n"
          ]
        }
      ]
    },
    {
      "cell_type": "markdown",
      "source": [
        "### Defining the model"
      ],
      "metadata": {
        "id": "H0GdydoAakXk"
      }
    },
    {
      "cell_type": "code",
      "source": [
        "import torch\n",
        "import torch.nn as nn\n",
        "import torch.nn.functional as F\n",
        "\n",
        "# *****START CODE\n",
        "class ConvNet(nn.Module):\n",
        "    def __init__(self, inplanes :int, planes : int, stride = 1, downsample = None, \n",
        "                 groups = 1, base_width = 64, dilation = 1, norm_layer = None, final_images = 16):\n",
        "        super(ConvNet, self).__init__()\n",
        "        if norm_layer is None:\n",
        "            norm_layer = nn.BatchNorm2d\n",
        "\n",
        "        # ? \n",
        "        # width = int(planes * (base_width / 64.0)) * groups\n",
        "\n",
        "        width = int(planes * (base_width / 64.0)) * groups\n",
        "\n",
        "        self.conv1  = nn.Conv2d(width,56,3,padding  = 1)\n",
        "        self.batch1 =nn.BatchNorm2d(56)\n",
        "\n",
        "        self.relu1  = nn.ReLU()\n",
        "        self.maxpool1 = nn.MaxPool2d(2,2)\n",
        "\n",
        "        self.conv2  = nn.Conv2d(56,135,3,padding  = 1)\n",
        "        self.batch2 =nn.BatchNorm2d(135)\n",
        "\n",
        "        self.relu2  = nn.ReLU()\n",
        "        self.maxpool2 = nn.MaxPool2d(2,2)\n",
        "        \n",
        "        self.conv3  = nn.Conv2d(135,246,3,padding  = 1)\n",
        "        self.batch3 =nn.BatchNorm2d(246)\n",
        "        \n",
        "        self.relu3  = nn.ReLU()\n",
        "        self.conv4  = nn.Conv2d(246,246,3,padding  = 1)\n",
        "        \n",
        "        self.batch4 =nn.BatchNorm2d(246)\n",
        "        self.relu4  = nn.ReLU()\n",
        "        #10 \n",
        "        \n",
        "        self.maxpool3 = nn.MaxPool2d(2,2)\n",
        "        self.conv5  = nn.Conv2d(246,520,3,padding  = 1)\n",
        "        \n",
        "        self.batch5 =nn.BatchNorm2d(520)\n",
        "        self.relu5  = nn.ReLU()\n",
        "        \n",
        "        self.conv6  = nn.Conv2d(520,520,3,padding  = 1)\n",
        "        self.batch6 =nn.BatchNorm2d(520)\n",
        "\n",
        "        self.relu6  = nn.ReLU()\n",
        "        self.maxpool4 = nn.MaxPool2d(2,2)\n",
        "        \n",
        "        self.conv7  = nn.Conv2d(520,520,3,padding  = 1)\n",
        "        self.batch7 = nn.BatchNorm2d(520)\n",
        "        \n",
        "        self.relu7  = nn.ReLU()\n",
        "        self.conv8  = nn.Conv2d(520,520,3,padding  = 1)\n",
        "        \n",
        "        self.batch8 = nn.BatchNorm2d(520)\n",
        "        self.relu8  = nn.ReLU()\n",
        "        \n",
        "        self.maxpool5 = nn.MaxPool2d(2,2)\n",
        "        # Compute here set to 520 to fit the previous modules. \n",
        "        # AdaptiveAvgPool2d makes an average pooling\n",
        "        self.adapt1 = nn.AdaptiveAvgPool2d(1)\n",
        "        \n",
        "        # Does not modify the size \n",
        "        self.dropout1 = nn.Dropout(p=0.5112472379693787)\n",
        "        # We still are only with 520\n",
        "        # self.flaten1 = nn.Flatten()\n",
        "        self.linear1 = nn.Linear(520, 2142)\n",
        "        \n",
        "        self.relu9 = nn.ReLU()\n",
        "        self.dropout2 = nn.Dropout(p=0.5112472379693787)\n",
        "        \n",
        "        self.linear2 = nn.Linear(2142,3067)\n",
        "        self.relu10 = nn.ReLU()\n",
        "\n",
        "        self.dropout3 = nn.Dropout(p=0.5112472379693787)\n",
        "        self.linear3 = nn.Linear(3067,3922)\n",
        "        \n",
        "        self.relu11 = nn.ReLU()\n",
        "        \n",
        "        self.linear4 = nn.Linear(3922,batch_size * planes)\n",
        "\n",
        "        \n",
        "    def forward(self, x):\n",
        "        x = self.conv1(x)\n",
        "        x = self.batch1(x)\n",
        "        x = self.relu1(x)\n",
        "        x = self.maxpool1(x)\n",
        "        x = self.conv2(x)\n",
        "        \n",
        "        x = self.batch2(x)\n",
        "        x = self.relu2(x)\n",
        "        \n",
        "        x = self.maxpool2(x)\n",
        "        x = self.conv3(x)\n",
        "\n",
        "        x = self.batch3(x)\n",
        "        x = self.relu3(x)\n",
        "\n",
        "        x = self.conv4(x)\n",
        "        x = self.batch4(x)\n",
        "        \n",
        "        x = self.relu4(x)\n",
        "        x = self.maxpool3(x)\n",
        "\n",
        "        x = self.conv5(x)\n",
        "        x = self.batch5(x)\n",
        "        \n",
        "        x = self.relu5(x)\n",
        "        x = self.conv6(x)\n",
        "        \n",
        "        x = self.batch6(x)\n",
        "        x = self.relu6(x)\n",
        "        \n",
        "        x = self.maxpool4(x)\n",
        "        x = self.conv7(x)\n",
        "\n",
        "        x = self.batch7(x)\n",
        "        x = self.relu7(x)\n",
        "        \n",
        "        x = self.conv8(x)\n",
        "        x = self.batch8(x)\n",
        "\n",
        "        \n",
        "        x = self.relu8(x)\n",
        "        x = self.maxpool5(x)\n",
        "        \n",
        "        x = self.adapt1(x)\n",
        "        x = self.dropout1(x)\n",
        "        x = torch.flatten(x, 1)\n",
        "        \n",
        "        x = self.linear1(x)\n",
        "        x = self.relu9(x)\n",
        "\n",
        "        x = self.dropout2(x)\n",
        "        x = self.linear2(x)\n",
        "        \n",
        "        x = self.relu10(x)\n",
        "        x = self.dropout3(x)\n",
        "\n",
        "        x = self.linear3(x)\n",
        "        x = self.relu11(x)\n",
        "\n",
        "        x = self.linear4(x)\n",
        "        return x\n",
        "# *****END CODE"
      ],
      "metadata": {
        "id": "9hb1skoXRKmA",
        "execution": {
          "iopub.status.busy": "2022-12-14T15:04:33.105546Z",
          "iopub.execute_input": "2022-12-14T15:04:33.106906Z",
          "iopub.status.idle": "2022-12-14T15:04:33.128005Z",
          "shell.execute_reply.started": "2022-12-14T15:04:33.106860Z",
          "shell.execute_reply": "2022-12-14T15:04:33.126969Z"
        },
        "trusted": true
      },
      "execution_count": 38,
      "outputs": []
    },
    {
      "cell_type": "markdown",
      "source": [
        "## 1c) Create the training scheme\n",
        "*    Initialize the model\n",
        "*    Validate the model\n",
        "*    Specify the training hyperparameters like type of optimizer, criterion and learning rate\n",
        "*    Specify number of epochs\n",
        "*    Connect the model and any further informations to WandB\n",
        "\n",
        "Then train the model, doing one evaluation pass per epoch (make sure to log any interesting metric to WandB during training)."
      ],
      "metadata": {
        "id": "1oCW4FGORKmC"
      }
    },
    {
      "cell_type": "markdown",
      "source": [
        "### Installing wandb"
      ],
      "metadata": {
        "id": "IYf6_blAW26z"
      }
    },
    {
      "cell_type": "code",
      "source": [
        "!pip install wandb --quiet\n",
        "\n",
        "# Import the library\n",
        "import wandb\n",
        "# Then connect to your W&B account\n",
        "def wandb_connect():\n",
        "    wandb_api_key_label = \"77e0a94a0fa993f825495a3021ebfa5477225ce9\"\n",
        "    wandb_api_key = \"\" # here use your API key from WandB interface\n",
        "\n",
        "    wandb_conx = wandb.login(key = wandb_api_key)\n",
        "    print(f\"Connected to Wandb online interface : {wandb_conx}\")\n",
        "\n",
        "wandb_connect()"
      ],
      "metadata": {
        "colab": {
          "base_uri": "https://localhost:8080/"
        },
        "id": "VsIk7NZCxeVO",
        "outputId": "a94efb01-5851-4e5d-84e5-da833cb97b0a",
        "execution": {
          "iopub.status.busy": "2022-12-14T15:04:34.726659Z",
          "iopub.execute_input": "2022-12-14T15:04:34.727535Z",
          "iopub.status.idle": "2022-12-14T15:04:44.377813Z",
          "shell.execute_reply.started": "2022-12-14T15:04:34.727496Z",
          "shell.execute_reply": "2022-12-14T15:04:44.376661Z"
        },
        "trusted": true
      },
      "execution_count": 39,
      "outputs": [
        {
          "output_type": "stream",
          "name": "stderr",
          "text": [
            "\u001b[34m\u001b[1mwandb\u001b[0m: \u001b[33mWARNING\u001b[0m Calling wandb.login() after wandb.init() has no effect.\n"
          ]
        },
        {
          "output_type": "stream",
          "name": "stdout",
          "text": [
            "Connected to Wandb online interface : True\n"
          ]
        }
      ]
    },
    {
      "cell_type": "code",
      "source": [
        "!pip install torchnet\n",
        "import torchnet as tnt # why not use torch metrics ?\n",
        "\n",
        "# define confusion matrix using tnt package\n",
        "confusion_matrix = tnt.meter.ConfusionMeter(10)"
      ],
      "metadata": {
        "colab": {
          "base_uri": "https://localhost:8080/"
        },
        "id": "ssNEw2adXbWV",
        "outputId": "e4039d5b-c16d-49ce-db59-a2a7e0a8ba76",
        "execution": {
          "iopub.status.busy": "2022-12-14T15:04:44.380122Z",
          "iopub.execute_input": "2022-12-14T15:04:44.380907Z",
          "iopub.status.idle": "2022-12-14T15:04:53.699735Z",
          "shell.execute_reply.started": "2022-12-14T15:04:44.380864Z",
          "shell.execute_reply": "2022-12-14T15:04:53.698553Z"
        },
        "trusted": true
      },
      "execution_count": 40,
      "outputs": [
        {
          "output_type": "stream",
          "name": "stdout",
          "text": [
            "Looking in indexes: https://pypi.org/simple, https://us-python.pkg.dev/colab-wheels/public/simple/\n",
            "Requirement already satisfied: torchnet in /usr/local/lib/python3.8/dist-packages (0.0.4)\n",
            "Requirement already satisfied: torch in /usr/local/lib/python3.8/dist-packages (from torchnet) (1.13.0+cu116)\n",
            "Requirement already satisfied: six in /usr/local/lib/python3.8/dist-packages (from torchnet) (1.15.0)\n",
            "Requirement already satisfied: visdom in /usr/local/lib/python3.8/dist-packages (from torchnet) (0.2.3)\n",
            "Requirement already satisfied: typing-extensions in /usr/local/lib/python3.8/dist-packages (from torch->torchnet) (4.4.0)\n",
            "Requirement already satisfied: numpy>=1.8 in /usr/local/lib/python3.8/dist-packages (from visdom->torchnet) (1.21.6)\n",
            "Requirement already satisfied: pillow in /usr/local/lib/python3.8/dist-packages (from visdom->torchnet) (7.1.2)\n",
            "Requirement already satisfied: requests in /usr/local/lib/python3.8/dist-packages (from visdom->torchnet) (2.23.0)\n",
            "Requirement already satisfied: scipy in /usr/local/lib/python3.8/dist-packages (from visdom->torchnet) (1.7.3)\n",
            "Requirement already satisfied: websocket-client in /usr/local/lib/python3.8/dist-packages (from visdom->torchnet) (1.4.2)\n",
            "Requirement already satisfied: networkx in /usr/local/lib/python3.8/dist-packages (from visdom->torchnet) (2.8.8)\n",
            "Requirement already satisfied: jsonpatch in /usr/local/lib/python3.8/dist-packages (from visdom->torchnet) (1.32)\n",
            "Requirement already satisfied: tornado in /usr/local/lib/python3.8/dist-packages (from visdom->torchnet) (6.0.4)\n",
            "Requirement already satisfied: jsonpointer>=1.9 in /usr/local/lib/python3.8/dist-packages (from jsonpatch->visdom->torchnet) (2.3)\n",
            "Requirement already satisfied: chardet<4,>=3.0.2 in /usr/local/lib/python3.8/dist-packages (from requests->visdom->torchnet) (3.0.4)\n",
            "Requirement already satisfied: certifi>=2017.4.17 in /usr/local/lib/python3.8/dist-packages (from requests->visdom->torchnet) (2022.9.24)\n",
            "Requirement already satisfied: urllib3!=1.25.0,!=1.25.1,<1.26,>=1.21.1 in /usr/local/lib/python3.8/dist-packages (from requests->visdom->torchnet) (1.24.3)\n",
            "Requirement already satisfied: idna<3,>=2.5 in /usr/local/lib/python3.8/dist-packages (from requests->visdom->torchnet) (2.10)\n"
          ]
        }
      ]
    },
    {
      "cell_type": "markdown",
      "source": [
        "### Exploring data before training"
      ],
      "metadata": {
        "id": "-j4WwxfJLPX-"
      }
    },
    {
      "cell_type": "code",
      "source": [
        "import matplotlib.pyplot as plt\n",
        "import numpy as np\n",
        "\n",
        "# functions to show an image\n",
        "def imshow(img):\n",
        "    img = img / 2 + 0.5     # unnormalize\n",
        "    npimg = img.numpy()\n",
        "    plt.imshow(np.transpose(npimg, (1, 2, 0)))\n",
        "    plt.show()\n",
        "\n",
        "\n",
        "batch_size= 2\n",
        "classes = ('plane', 'car', 'bird', 'cat',\n",
        "           'deer', 'dog', 'frog', 'horse', 'ship', 'truck')\n",
        "    \n",
        "# get some random training images\n",
        "dataiter = iter(train_dataloader)\n",
        "images, labels = next(dataiter)\n",
        "\n",
        "# show images\n",
        "imshow(torchvision.utils.make_grid(images))\n",
        "# print labels\n",
        "print(' '.join(f'{classes[labels[j]]:5s}' for j in range(batch_size)))"
      ],
      "metadata": {
        "execution": {
          "iopub.status.busy": "2022-12-14T15:04:53.701543Z",
          "iopub.execute_input": "2022-12-14T15:04:53.701973Z",
          "iopub.status.idle": "2022-12-14T15:04:53.953799Z",
          "shell.execute_reply.started": "2022-12-14T15:04:53.701931Z",
          "shell.execute_reply": "2022-12-14T15:04:53.952825Z"
        },
        "trusted": true,
        "colab": {
          "base_uri": "https://localhost:8080/",
          "height": 155
        },
        "id": "H8wIQB1KLPX-",
        "outputId": "7fde130e-5a22-4f14-951f-58740cad6b21"
      },
      "execution_count": 20,
      "outputs": [
        {
          "output_type": "display_data",
          "data": {
            "text/plain": [
              "<Figure size 432x288 with 1 Axes>"
            ],
            "image/png": "[encoded data removed]"
          },
          "metadata": {
            "needs_background": "light"
          }
        },
        {
          "output_type": "stream",
          "name": "stdout",
          "text": [
            "car   bird \n"
          ]
        }
      ]
    },
    {
      "cell_type": "markdown",
      "source": [
        "### Back to code : defining the learning rate, optimizer and criterion"
      ],
      "metadata": {
        "id": "8xreesy0LPX_"
      }
    },
    {
      "cell_type": "code",
      "source": [
        "# *****START CODE\n",
        "import torch\n",
        "\n",
        "lr = 0.01\n",
        "model = ConvNet(3,3, batch_size= 10)\n",
        "#validate_network(model, my_architecture_dict)\n",
        "optimizer = torch.optim.SGD(model.parameters(), lr=lr, momentum = 0.9)\n",
        "criterion = nn.CrossEntropyLoss()\n",
        "epochs = 10\n",
        "confusion_matrix.reset()\n",
        "# *****END CODE"
      ],
      "metadata": {
        "id": "emDRadjhRKmD",
        "execution": {
          "iopub.status.busy": "2022-12-14T15:04:53.956301Z",
          "iopub.execute_input": "2022-12-14T15:04:53.956971Z",
          "iopub.status.idle": "2022-12-14T15:04:54.235721Z",
          "shell.execute_reply.started": "2022-12-14T15:04:53.956934Z",
          "shell.execute_reply": "2022-12-14T15:04:54.234644Z"
        },
        "trusted": true
      },
      "execution_count": 32,
      "outputs": []
    },
    {
      "cell_type": "code",
      "source": [
        "# Complete the hyperparams dict with the infos of your run\n",
        "# *****START CODE\n",
        "hyperparams = {\"Batch size\":32,\n",
        "               \"Learning rate\":lr,\n",
        "               \"Epochs\":epochs}\n",
        "# *****END CODE\n",
        "\n",
        "# Init the WandB run with hyperparams\n",
        "wandb.init(config=hyperparams)"
      ],
      "metadata": {
        "colab": {
          "base_uri": "https://localhost:8080/",
          "height": 92
        },
        "id": "bNx4JHRJUl3j",
        "outputId": "5d9d61f2-195a-4d7c-cf5e-94f86d2239b6"
      },
      "execution_count": 24,
      "outputs": [
        {
          "output_type": "display_data",
          "data": {
            "text/plain": [
              "<IPython.core.display.HTML object>"
            ],
            "text/html": [
              "Tracking run with wandb version 0.13.6"
            ]
          },
          "metadata": {}
        },
        {
          "output_type": "display_data",
          "data": {
            "text/plain": [
              "<IPython.core.display.HTML object>"
            ],
            "text/html": [
              "Run data is saved locally in <code>/content/wandb/run-20221214_154915-1usz1md9</code>"
            ]
          },
          "metadata": {}
        },
        {
          "output_type": "display_data",
          "data": {
            "text/plain": [
              "<IPython.core.display.HTML object>"
            ],
            "text/html": [
              "Syncing run <strong><a href=\"https://wandb.ai/adrienloizeau/uncategorized/runs/1usz1md9\" target=\"_blank\">cosmic-voice-5</a></strong> to <a href=\"https://wandb.ai/adrienloizeau/uncategorized\" target=\"_blank\">Weights & Biases</a> (<a href=\"https://wandb.me/run\" target=\"_blank\">docs</a>)<br/>"
            ]
          },
          "metadata": {}
        },
        {
          "output_type": "execute_result",
          "data": {
            "text/html": [
              "<button onClick=\"this.nextSibling.style.display='block';this.style.display='none';\">Display W&B run</button><iframe src=\"https://wandb.ai/adrienloizeau/uncategorized/runs/1usz1md9?jupyter=true\" style=\"border:none;width:100%;height:420px;display:none;\"></iframe>"
            ],
            "text/plain": [
              "<wandb.sdk.wandb_run.Run at 0x7f501188ce20>"
            ]
          },
          "metadata": {},
          "execution_count": 24
        }
      ]
    },
    {
      "cell_type": "markdown",
      "source": [
        "### First training loop"
      ],
      "metadata": {
        "id": "vZfe1nY7LPYA"
      }
    },
    {
      "cell_type": "code",
      "source": [
        "# Training on GPU\n",
        "device = torch.device('cuda:0' if torch.cuda.is_available() else 'cpu')\n",
        "\n",
        "# Assuming that we are on a CUDA machine, this should print a CUDA device:\n",
        "\n",
        "print(device)"
      ],
      "metadata": {
        "execution": {
          "iopub.status.busy": "2022-12-14T15:04:54.237373Z",
          "iopub.execute_input": "2022-12-14T15:04:54.237780Z",
          "iopub.status.idle": "2022-12-14T15:04:54.244433Z",
          "shell.execute_reply.started": "2022-12-14T15:04:54.237743Z",
          "shell.execute_reply": "2022-12-14T15:04:54.243366Z"
        },
        "trusted": true,
        "colab": {
          "base_uri": "https://localhost:8080/"
        },
        "id": "uux0Yf09LPYB",
        "outputId": "53d0b210-c151-442c-a60d-a17b3f2c381b"
      },
      "execution_count": 22,
      "outputs": [
        {
          "output_type": "stream",
          "name": "stdout",
          "text": [
            "cuda:0\n"
          ]
        }
      ]
    },
    {
      "cell_type": "code",
      "source": [
        "from tqdm import tqdm\n",
        "for epoch in range(epochs):  # loop over the dataset multiple times\n",
        "\n",
        "    running_loss = 0.0\n",
        "    for i, data in enumerate(tqdm(train_dataloader, 0)):\n",
        "        # get the inputs; data is a list of [inputs, labels]\n",
        "        inputs, labels = data\n",
        "\n",
        "        # zero the parameter gradients\n",
        "        optimizer.zero_grad()\n",
        "\n",
        "        # forward + backward + optimize\n",
        "        outputs = model(inputs)\n",
        "        loss = criterion(outputs, labels)\n",
        "        loss.backward()\n",
        "        optimizer.step()\n",
        "\n",
        "        # print statistics\n",
        "        running_loss += loss.item()\n",
        "        if i % 2000 == 1999:    # print every 2000 mini-batches\n",
        "            print(f'[{epoch + 1}, {i + 1:5d}] loss: {running_loss / 2000:.3f}')\n",
        "            running_loss = 0.0\n",
        "\n",
        "print('Finished Training')"
      ],
      "metadata": {
        "execution": {
          "iopub.status.busy": "2022-12-14T15:04:54.245731Z",
          "iopub.execute_input": "2022-12-14T15:04:54.246654Z"
        },
        "trusted": true,
        "colab": {
          "base_uri": "https://localhost:8080/",
          "height": 416
        },
        "id": "gqzUm6MILPYC",
        "outputId": "a76350aa-a80f-4a5f-d3c5-51539016a9ea"
      },
      "execution_count": 33,
      "outputs": [
        {
          "output_type": "stream",
          "name": "stderr",
          "text": [
            "  1%|          | 38/5000 [00:14<31:19,  2.64it/s]\n"
          ]
        },
        {
          "output_type": "error",
          "ename": "KeyboardInterrupt",
          "evalue": "ignored",
          "traceback": [
            "\u001b[0;31m---------------------------------------------------------------------------\u001b[0m",
            "\u001b[0;31mKeyboardInterrupt\u001b[0m                         Traceback (most recent call last)",
            "\u001b[0;32m<ipython-input-33-d0d423db9489>\u001b[0m in \u001b[0;36m<module>\u001b[0;34m\u001b[0m\n\u001b[1;32m     13\u001b[0m         \u001b[0moutputs\u001b[0m \u001b[0;34m=\u001b[0m \u001b[0mmodel\u001b[0m\u001b[0;34m(\u001b[0m\u001b[0minputs\u001b[0m\u001b[0;34m)\u001b[0m\u001b[0;34m\u001b[0m\u001b[0;34m\u001b[0m\u001b[0m\n\u001b[1;32m     14\u001b[0m         \u001b[0mloss\u001b[0m \u001b[0;34m=\u001b[0m \u001b[0mcriterion\u001b[0m\u001b[0;34m(\u001b[0m\u001b[0moutputs\u001b[0m\u001b[0;34m,\u001b[0m \u001b[0mlabels\u001b[0m\u001b[0;34m)\u001b[0m\u001b[0;34m\u001b[0m\u001b[0;34m\u001b[0m\u001b[0m\n\u001b[0;32m---> 15\u001b[0;31m         \u001b[0mloss\u001b[0m\u001b[0;34m.\u001b[0m\u001b[0mbackward\u001b[0m\u001b[0;34m(\u001b[0m\u001b[0;34m)\u001b[0m\u001b[0;34m\u001b[0m\u001b[0;34m\u001b[0m\u001b[0m\n\u001b[0m\u001b[1;32m     16\u001b[0m         \u001b[0moptimizer\u001b[0m\u001b[0;34m.\u001b[0m\u001b[0mstep\u001b[0m\u001b[0;34m(\u001b[0m\u001b[0;34m)\u001b[0m\u001b[0;34m\u001b[0m\u001b[0;34m\u001b[0m\u001b[0m\n\u001b[1;32m     17\u001b[0m \u001b[0;34m\u001b[0m\u001b[0m\n",
            "\u001b[0;32m/usr/local/lib/python3.8/dist-packages/torch/_tensor.py\u001b[0m in \u001b[0;36mbackward\u001b[0;34m(self, gradient, retain_graph, create_graph, inputs)\u001b[0m\n\u001b[1;32m    485\u001b[0m                 \u001b[0minputs\u001b[0m\u001b[0;34m=\u001b[0m\u001b[0minputs\u001b[0m\u001b[0;34m,\u001b[0m\u001b[0;34m\u001b[0m\u001b[0;34m\u001b[0m\u001b[0m\n\u001b[1;32m    486\u001b[0m             )\n\u001b[0;32m--> 487\u001b[0;31m         torch.autograd.backward(\n\u001b[0m\u001b[1;32m    488\u001b[0m             \u001b[0mself\u001b[0m\u001b[0;34m,\u001b[0m \u001b[0mgradient\u001b[0m\u001b[0;34m,\u001b[0m \u001b[0mretain_graph\u001b[0m\u001b[0;34m,\u001b[0m \u001b[0mcreate_graph\u001b[0m\u001b[0;34m,\u001b[0m \u001b[0minputs\u001b[0m\u001b[0;34m=\u001b[0m\u001b[0minputs\u001b[0m\u001b[0;34m\u001b[0m\u001b[0;34m\u001b[0m\u001b[0m\n\u001b[1;32m    489\u001b[0m         )\n",
            "\u001b[0;32m/usr/local/lib/python3.8/dist-packages/torch/autograd/__init__.py\u001b[0m in \u001b[0;36mbackward\u001b[0;34m(tensors, grad_tensors, retain_graph, create_graph, grad_variables, inputs)\u001b[0m\n\u001b[1;32m    195\u001b[0m     \u001b[0;31m# some Python versions print out the first line of a multi-line function\u001b[0m\u001b[0;34m\u001b[0m\u001b[0;34m\u001b[0m\u001b[0;34m\u001b[0m\u001b[0m\n\u001b[1;32m    196\u001b[0m     \u001b[0;31m# calls in the traceback and some print out the last line\u001b[0m\u001b[0;34m\u001b[0m\u001b[0;34m\u001b[0m\u001b[0;34m\u001b[0m\u001b[0m\n\u001b[0;32m--> 197\u001b[0;31m     Variable._execution_engine.run_backward(  # Calls into the C++ engine to run the backward pass\n\u001b[0m\u001b[1;32m    198\u001b[0m         \u001b[0mtensors\u001b[0m\u001b[0;34m,\u001b[0m \u001b[0mgrad_tensors_\u001b[0m\u001b[0;34m,\u001b[0m \u001b[0mretain_graph\u001b[0m\u001b[0;34m,\u001b[0m \u001b[0mcreate_graph\u001b[0m\u001b[0;34m,\u001b[0m \u001b[0minputs\u001b[0m\u001b[0;34m,\u001b[0m\u001b[0;34m\u001b[0m\u001b[0;34m\u001b[0m\u001b[0m\n\u001b[1;32m    199\u001b[0m         allow_unreachable=True, accumulate_grad=True)  # Calls into the C++ engine to run the backward pass\n",
            "\u001b[0;31mKeyboardInterrupt\u001b[0m: "
          ]
        }
      ]
    },
    {
      "cell_type": "code",
      "source": [
        "# Saving the model\n",
        "PATH = 'model-10.pth'\n",
        "torch.save(net.state_dict(), PATH)"
      ],
      "metadata": {
        "trusted": true,
        "id": "8fh8_wBgLPYD"
      },
      "execution_count": null,
      "outputs": []
    },
    {
      "cell_type": "code",
      "source": [
        "print(outputs)\n",
        "print(criterion(outputs, labels))"
      ],
      "metadata": {
        "id": "4kW13_XuYTnC",
        "colab": {
          "base_uri": "https://localhost:8080/"
        },
        "outputId": "1c997e7e-af18-4d94-c50d-fc5b781c8c35"
      },
      "execution_count": 56,
      "outputs": [
        {
          "output_type": "stream",
          "name": "stdout",
          "text": [
            "tensor([[-0.1426,  0.9196, -0.1024,  0.5389,  0.2232,  0.0480,  0.0388,  0.2114,\n",
            "         -0.0804,  0.3333,  0.0158, -0.0602,  0.2669, -0.0930, -0.1573, -0.1403,\n",
            "          0.1423, -0.0308, -0.2987, -0.0271,  0.0049, -0.1397, -0.1588,  0.1229,\n",
            "          0.2475, -0.1603, -0.0563, -0.2315, -0.0585, -0.2889],\n",
            "        [ 0.0110,  0.9931, -0.3682,  0.6564,  0.0942,  0.1168,  0.0602,  0.1620,\n",
            "         -0.1767,  0.3298, -0.0150,  0.0742, -0.1464, -0.1788,  0.1259, -0.0043,\n",
            "         -0.0740, -0.1604, -0.1224, -0.3596, -0.0384, -0.2524, -0.1658,  0.0110,\n",
            "          0.0055, -0.2441, -0.1090, -0.0881, -0.1346, -0.1471],\n",
            "        [-0.1591,  0.9636, -0.4409,  0.6767,  0.1636,  0.0215,  0.1832,  0.4554,\n",
            "         -0.1759,  0.5849,  0.1015, -0.2128, -0.0584, -0.1195, -0.1582,  0.1315,\n",
            "         -0.2566, -0.1444, -0.3929, -0.2485, -0.0600, -0.2951, -0.2408, -0.1551,\n",
            "          0.0102, -0.1544, -0.1824, -0.1129, -0.1445, -0.2294],\n",
            "        [-0.1722,  0.7117, -0.2799,  0.3305,  0.0445, -0.0430,  0.1599,  0.5368,\n",
            "         -0.1322,  0.3294, -0.0139, -0.1138,  0.0698,  0.0695, -0.1040,  0.0357,\n",
            "         -0.2153, -0.2136,  0.0673, -0.0738,  0.1787, -0.3119, -0.2031,  0.0050,\n",
            "          0.2884, -0.3285, -0.1694, -0.0274, -0.3029, -0.0969],\n",
            "        [-0.1652,  1.0912, -0.1939,  0.4158,  0.4010, -0.0447, -0.1465,  0.2501,\n",
            "         -0.5569,  0.2900,  0.0942, -0.0713, -0.1266, -0.1418, -0.0625, -0.2057,\n",
            "         -0.1094, -0.2109, -0.2057, -0.0665, -0.0323, -0.1877, -0.3998, -0.0255,\n",
            "          0.0130, -0.1177, -0.2016, -0.2704, -0.0972, -0.1166],\n",
            "        [-0.1867,  0.9003, -0.2741,  0.6343,  0.1720, -0.1515,  0.1855,  0.3540,\n",
            "         -0.0461,  0.4493, -0.0042,  0.0279, -0.2102,  0.1239, -0.1085, -0.1268,\n",
            "         -0.0625, -0.1916, -0.0205, -0.2974,  0.0220, -0.1191, -0.1007, -0.2760,\n",
            "         -0.1497, -0.0494, -0.2711, -0.0148, -0.0829,  0.1063],\n",
            "        [-0.1718,  1.1756, -0.1382,  0.6462,  0.0484, -0.0574,  0.1533,  0.3171,\n",
            "         -0.1570,  0.1190, -0.0055, -0.0161, -0.1948, -0.2257, -0.0094, -0.1213,\n",
            "         -0.2057, -0.0043, -0.1620, -0.1242,  0.1423, -0.0788, -0.1900,  0.0244,\n",
            "          0.0182, -0.2323, -0.1835, -0.2282, -0.2118, -0.2838],\n",
            "        [-0.0188,  0.6611, -0.2178,  0.3920,  0.0889,  0.0255, -0.0540,  0.3811,\n",
            "         -0.1198,  0.2744,  0.0151, -0.0408, -0.0360,  0.0889,  0.0295, -0.1539,\n",
            "         -0.1494, -0.1022, -0.2004, -0.0600,  0.0382, -0.0530, -0.2806, -0.1131,\n",
            "          0.0014, -0.0048, -0.1155,  0.0325,  0.0022, -0.1388],\n",
            "        [ 0.0422,  1.2918, -0.4416,  0.5200, -0.0920,  0.2443,  0.5422,  0.5007,\n",
            "         -0.0339,  0.1776,  0.2208,  0.1201, -0.0025, -0.1272, -0.2257, -0.0322,\n",
            "          0.0969,  0.0488, -0.2382, -0.1239,  0.0217, -0.2581, -0.4165,  0.0517,\n",
            "          0.0493, -0.3650,  0.0256, -0.2873, -0.0199,  0.0434],\n",
            "        [-0.1981,  0.7632, -0.1224,  0.5031,  0.0348, -0.0617,  0.0894,  0.2686,\n",
            "          0.0676,  0.4718,  0.0082,  0.0902, -0.0531, -0.1083,  0.0932, -0.1313,\n",
            "         -0.0885, -0.1909, -0.1972, -0.2187, -0.1165, -0.2670, -0.1883, -0.1903,\n",
            "          0.0418, -0.0389, -0.1279, -0.1007, -0.0740, -0.0261]],\n",
            "       grad_fn=<AddmmBackward0>)\n",
            "tensor(2.8970, grad_fn=<NllLossBackward0>)\n"
          ]
        }
      ]
    },
    {
      "cell_type": "markdown",
      "source": [
        "## 1d) Validate your model\n",
        "\n",
        "- Show that the model is not overfitting\n",
        "- How does your model perform ?"
      ],
      "metadata": {
        "id": "cIAwvLE7RKmD"
      }
    },
    {
      "cell_type": "code",
      "execution_count": 65,
      "metadata": {
        "id": "ciDEi2W6oPhr"
      },
      "outputs": [],
      "source": [
        "# define model, optimizer, criterion and number of training epochs\n",
        "# *****START CODE\n",
        "\n",
        "model = ConvNet(3,3, final_images = 16)\n",
        "optimizer = torch.optim.SGD(model.parameters(), lr=0.01)\n",
        "criterion = nn.CrossEntropyLoss()\n",
        "epochs = 1\n",
        "confusion_matrix = tnt.meter.ConfusionMeter(30) \n",
        "confusion_matrix.reset()\n",
        "# *****END CODE"
      ]
    },
    {
      "cell_type": "code",
      "source": [
        "import tqdm \n",
        "\n",
        "for epoch in range(epochs):\n",
        "    ##TRAINING##\n",
        "    model.train()\n",
        "    train_losses = []\n",
        "    confusion_matrix.reset()\n",
        "\n",
        "    for i, batch, in enumerate(tqdm.tqdm(train_dataloader)):\n",
        "        img_batch, lbl_batch = batch\n",
        "\n",
        "        ##implement the forward and backward backpropagation\n",
        "        # *****START CODE\n",
        "        optimizer.zero_grad()\n",
        "        \n",
        "        # forward + backward + optimize\n",
        "        outputs = model(inputs)\n",
        "        loss = criterion(outputs, labels)\n",
        "        \n",
        "        loss.backward()\n",
        "        optimizer.step()\n",
        "        # *****END CODE\n",
        "\n",
        "        # log the training loss at each batch\n",
        "        wandb.log({\"train_loss\":loss.item()})\n",
        "        confusion_matrix.add(outputs.data.squeeze(), lbl_batch.long())\n",
        "\n",
        "    train_acc=(np.trace(confusion_matrix.conf)/float(np.ndarray.sum(confusion_matrix.conf))) *100\n",
        "\n",
        "    ##VALIDATION##\n",
        "    model.eval()\n",
        "    val_losses = []\n",
        "    confusion_matrix.reset()\n",
        "\n",
        "    for i, batch, in enumerate(val_dataloader):\n",
        "        img_batch, lbl_batch = batch\n",
        "   \n",
        "        ##pass the images to the model and calculate the loss\n",
        "        # *****START CODE\n",
        "        with torch.no_grad():\n",
        "          outputs=model(img_batch.float())\n",
        "          loss=criterion(outputs, lbl_batch.long())\n",
        "        # *****END CODE\n",
        "\n",
        "        confusion_matrix.add(outputs.data.squeeze(), lbl_batch.long())\n",
        "        val_losses.append(loss.item())\n",
        "\n",
        "    val_acc=(np.trace(confusion_matrix.conf)/float(np.ndarray.sum(confusion_matrix.conf))) *100\n",
        "    val_loss_mean = np.mean(val_losses)\n",
        "\n",
        "    # log the train & val accuracy and the val loss at each epoch\n",
        "    wandb.log({\"train_acc\":train_acc, \"val_acc\":val_acc, \"val_loss\":val_loss_mean})"
      ],
      "metadata": {
        "colab": {
          "base_uri": "https://localhost:8080/"
        },
        "id": "XOV-WsrWTzx7",
        "outputId": "9065e443-fffc-4909-cd96-0b9af51ba421"
      },
      "execution_count": null,
      "outputs": [
        {
          "output_type": "stream",
          "name": "stderr",
          "text": [
            " 95%|█████████▍| 4735/5000 [27:27<01:32,  2.88it/s]"
          ]
        }
      ]
    },
    {
      "cell_type": "markdown",
      "source": [
        "1e) Try to optimize hyperparameters, does it improve the performance of your model ?\n",
        "Anwser with a graph and comment on the result."
      ],
      "metadata": {
        "id": "J7B9gOlwbYny"
      }
    },
    {
      "cell_type": "markdown",
      "source": [
        "### Let's decrease the learning rate\n",
        "\n",
        "lr = 0.001"
      ],
      "metadata": {
        "id": "qDWWHnFXLPYF"
      }
    },
    {
      "cell_type": "code",
      "source": [
        "optimizer = torch.optim.SGD(model.parameters(), lr=lr, momentum = 0.9)\n",
        "\n",
        "\n"
      ],
      "metadata": {
        "id": "k5ePcF28dUMv",
        "trusted": true
      },
      "execution_count": null,
      "outputs": []
    },
    {
      "cell_type": "markdown",
      "source": [
        "## Train the model and validate it after each epoch.\n",
        "# *****START CODE\n",
        "\n",
        "from tqdm import tqdm\n",
        "import torch.nn.functional as F\n",
        "total_train_losses = []\n",
        "total_val_losses = []\n",
        "\n",
        "for epoch in range(1,epochs+1):\n",
        "    ##TRAINING##\n",
        "    model.train()\n",
        "    train_losses = []\n",
        "    confusion_matrix.reset()\n",
        "\n",
        "    for i, batch, in enumerate(tqdm(train_dataloader)):\n",
        "        img_batch, lbl_batch = batch\n",
        "\n",
        "        ##implement the forward and backward backpropagation\n",
        "        optimizer.zero_grad()\n",
        "        outputs = model(img_batch.float())\n",
        "        loss=criterion(outputs, lbl_batch.long())\n",
        "        loss.backward()\n",
        "        optimizer.step()\n",
        "\n",
        "        train_losses.append(loss.item())\n",
        "        confusion_matrix.add(outputs.data.squeeze(), lbl_batch.long())\n",
        "\n",
        "        if i % 100 == 0:\n",
        "            print('Train (epoch {}/{}) [{}/{} ({:.0f}%)]\\tLoss: {:.6f}'.format(\n",
        "                epoch, epochs, i, len(train_dataloader),100.*i/len(train_dataloader), loss.item()))\n",
        "\n",
        "    \n",
        "\n",
        "    train_acc=(np.trace(confusion_matrix.conf)/float(np.ndarray.sum(confusion_matrix.conf))) *100\n",
        "        train_loss_mean = np.mean(train_losses)\n",
        "        total_train_losses.append(train_loss_mean)\n",
        "\n",
        "\n",
        "     ##VALIDATION##\n",
        "    model.eval()\n",
        "    val_losses = []\n",
        "    confusion_matrix.reset()\n",
        "\n",
        "    for i, batch, in enumerate(tqdm(val_dataloader)):\n",
        "        img_batch, lbl_batch = batch\n",
        "   \n",
        "        ##pass the images to the model and calculate the loss\n",
        "        # *****START CODE\n",
        "        with torch.no_grad():\n",
        "          outputs=model(img_batch.float())\n",
        "          loss=criterion(outputs, lbl_batch.long())\n",
        "        # *****END CODE\n",
        "\n",
        "        confusion_matrix.add(outputs.data.squeeze(), lbl_batch.long())\n",
        "        val_losses.append(loss.item())\n",
        "\n",
        "    print('Confusion Matrix:')\n",
        "    print(confusion_matrix.conf)\n",
        "\n",
        "    val_acc=(np.trace(confusion_matrix.conf)/float(np.ndarray.sum(confusion_matrix.conf))) *100\n",
        "    val_loss_mean = np.mean(val_losses)\n",
        "    total_val_losses.append(val_loss_mean)\n",
        "\n",
        "    print('TRAIN_LOSS: ', '%.3f' % train_loss_mean, 'TRAIN_ACC: ', '%.3f' % train_acc)\n",
        "    print('VAL_LOSS: ', '%.3f' % val_loss_mean, 'VAL_ACC: ', '%.3f' % val_acc)\n",
        "\n",
        "    write_results(save_folder, epoch, train_acc, val_acc, train_loss_mean, val_loss_mean)\n",
        "\n",
        "    torch.save(model.state_dict(), save_folder + '/model_{}.pt'.format(epoch))\n",
        "\n",
        "save_graph(total_train_losses, total_val_losses, epochs, save_folder)\n"
      ],
      "metadata": {
        "id": "e26RnrNULPYF"
      }
    },
    {
      "cell_type": "code",
      "source": [
        "# Test pour savoir si ca marche bien ou non "
      ],
      "metadata": {
        "trusted": true,
        "id": "_srvNVlmLPYH"
      },
      "execution_count": null,
      "outputs": []
    },
    {
      "cell_type": "markdown",
      "source": [
        "1f) Get an intermediate layer from your convolutional neural network and visualize what patterns the network has learned\n",
        "*   Complete the following code that visualizes the patterns of the network\n",
        "*   Write a small description commenting on the visualized maps. What do you observe in the different visualizations of the feature maps?"
      ],
      "metadata": {
        "id": "1Kp8nRiGRKmF"
      }
    },
    {
      "cell_type": "code",
      "source": [
        "# The intermediate layer you should visualize:\n",
        "print('My intermediate layer to visualize is: %s'%(my_architecture_dict['visualize']))"
      ],
      "metadata": {
        "id": "jSSGZEoFVm-k",
        "trusted": true
      },
      "execution_count": null,
      "outputs": []
    },
    {
      "cell_type": "code",
      "source": [
        "import sys\n",
        "from skimage import io\n",
        "import torchvision.utils as vutils\n",
        "\n",
        "##function for printing the loss during optimization\n",
        "def write_flush(text, stream=sys.stdout):\n",
        "    stream.write(text)\n",
        "    stream.flush()\n",
        "    return\n",
        "\n",
        "## Number of feature maps in the intermediate layer that you have chosen. \n",
        "# *****START CODE\n",
        "n_conv =   # e.g 64\n",
        "# *****END CODE\n",
        "\n",
        "## Size of visualised filter.\n",
        "img_size = 32\n",
        "\n",
        "##load your optimal model\n",
        "# *****START CODE\n",
        "model = ConvNet()\n",
        "model.load_state_dict(torch.load('drive/..../model.pt')) \n",
        "# *****END CODE\n",
        "\n",
        "## Create a submodel, until the intermediate layer of your choice.\n",
        "## Hint: Use model.#name# to create the succession of layers, where #name#\n",
        "## stands for the layer names that you defined in the initialization function \n",
        "## of your model.\n",
        "# *****START CODE\n",
        "submodel = nn.Sequential(\n",
        "\n",
        "    \n",
        ")\n",
        "# *****END CODE\n",
        "\n",
        "## Put submodel in eval mode.\n",
        "submodel.eval()\n",
        "\n",
        "## Tensor to visualised filters. \n",
        "img_stack = torch.zeros((n_conv, 3, img_size, img_size))\n",
        "\n",
        "## Number of epochs to run for every filter. \n",
        "# *****START CODE\n",
        "n_epochs_per_filt =   #e.g 30\n",
        "# *****END CODE\n",
        "\n",
        "## Visualise every convolution. \n",
        "for c in range(n_conv):\n",
        "    ## Initialise with random image. \n",
        "    img = torch.rand(1, 3, img_size, img_size).float()\n",
        "\n",
        "    ## Turn on gradient calculation on the image\n",
        "    # *****START CODE\n",
        "\n",
        "    # *****END CODE\n",
        "\n",
        "    ## Define optimizer.\n",
        "    # *****START CODE\n",
        "    \n",
        "    # *****END CODE\n",
        "    \n",
        "    for f in range(n_epochs_per_filt):\n",
        "        optimizer.zero_grad()\n",
        "\n",
        "        ## Feedforward propagation\n",
        "        ## Hint: In order to find the loss, compupte the negative of the activation of the hidden layer. \n",
        "        ## The objective is to produce an input image which maximizes the activation \n",
        "        ## of neurons in a particular hidden layer. \n",
        "        # *****START CODE\n",
        "        \n",
        "        \n",
        "        \n",
        "        # *****END CODE\n",
        "        write_flush('\\rFilter %d. Epoch %d. Loss = %.4f'%(c, f+1, loss.item()))\n",
        "\n",
        "    write_flush('\\n')\n",
        "    img_stack[c, :, :, :] = img[0].detach()\n",
        "\n",
        "## Make grid out of visualized filters. \n",
        "##Here you may have to adjust the properties of vutils.make_grid, depending on your needs. \n",
        "##For example, you may need to change the number of rows.\n",
        "G = vutils.make_grid(img_stack, nrow=8, normalize=True, padding=1).permute(1,2,0).numpy()\n",
        "plt.figure(figsize=(10,5))\n",
        "plt.imshow(G)\n",
        "plt.axis('equal')\n",
        "plt.axis('off')\n",
        "plt.show()"
      ],
      "metadata": {
        "id": "xk4FadJSRKmG",
        "trusted": true
      },
      "execution_count": null,
      "outputs": []
    },
    {
      "cell_type": "markdown",
      "source": [
        "1g) Use GradCAM algorithm to visualize the saliency maps of your trained model at the same intermediate layer\n",
        "*   Install pytorch grad cam package if needed (https://github.com/jacobgil/pytorch-grad-cam)\n",
        "*   Complete the following code that visualizes GradCAM heatmaps on an input image from your model\n",
        "*   Try on several input images / classes. \n",
        "*   Write a small description commenting on the visualized heatmaps. "
      ],
      "metadata": {
        "id": "4dfeLUNQVm-k"
      }
    },
    {
      "cell_type": "code",
      "source": [
        "# Install pytorch grad cam package\n",
        "'''UNCOMMENT IF NEEDED (using google colab for example)\n",
        "! pip install grad-cam\n",
        "'''\n"
      ],
      "metadata": {
        "id": "jkXGgb11Vm-l",
        "trusted": true
      },
      "execution_count": null,
      "outputs": []
    },
    {
      "cell_type": "code",
      "source": [
        "from pytorch_grad_cam import GradCAM\n",
        "from pytorch_grad_cam.utils.image import show_cam_on_image\n",
        "use_cuda = True\n",
        "\n",
        "# *****START CODE\n",
        "model = ConvNet()\n",
        "model.load_state_dict(torch.load('drive/..../model.pt'))\n",
        "\n",
        "# Get your intermediate layer\n",
        "target_layers = [model. ...]\n",
        "\n",
        "rgb_img = \n",
        "input_tensor = # Create an input tensor from your image for your model..\n",
        "# Note: input_tensor can be a batch tensor with several images!\n",
        "target_category = \n",
        "# *****END CODE\n",
        "\n",
        "# Construct the CAM object once, and then re-use it on many images:\n",
        "cam = GradCAM(model=model, target_layers=target_layers, use_cuda=use_cuda)\n",
        "\n",
        "# You can also pass aug_smooth=True and eigen_smooth=True, to apply smoothing.\n",
        "grayscale_cam = cam(input_tensor=input_tensor, target_category=target_category)\n",
        "\n",
        "# In this example grayscale_cam has only one image in the batch:\n",
        "grayscale_cam = grayscale_cam[0, :]\n",
        "visualization = show_cam_on_image(rgb_img, grayscale_cam, use_rgb=True)\n",
        "\n",
        "# Plot figure\n",
        "plt.figure()\n",
        "plt.imshow(visualization)"
      ],
      "metadata": {
        "id": "FU7OPn3cVm-l",
        "trusted": true
      },
      "execution_count": null,
      "outputs": []
    },
    {
      "cell_type": "markdown",
      "source": [
        "### Question 2 - Train on geometrical shapes"
      ],
      "metadata": {
        "id": "o3QK7dhJRKmH"
      }
    },
    {
      "cell_type": "markdown",
      "source": [
        "Function 'generate_a_triangle' produces images depicting random triangles along with the (x,y) coordinates of the vertices. Create a convolutional neural network that receives as input the triangle image and predicts the corresponding (x,y) coordinates of the triangle's vertices. \n",
        "*  Read and understand the following code"
      ],
      "metadata": {
        "id": "-yudhcXrRKmH"
      }
    },
    {
      "cell_type": "code",
      "source": [
        "import matplotlib.pyplot as plt\n",
        "%matplotlib inline\n",
        "import numpy as np\n",
        "\n",
        "# On some implementations of matplotlib, you may need to change this value\n",
        "IMAGE_SIZE = 72\n",
        "\n",
        "def generate_a_drawing(figsize, U, V):\n",
        "    fig = plt.figure(figsize=(figsize,figsize))\n",
        "    ax = plt.subplot(111)\n",
        "    plt.axis('Off')\n",
        "    ax.set_xlim(0,figsize)\n",
        "    ax.set_ylim(0,figsize)\n",
        "    ax.fill(U, V, \"k\")\n",
        "    fig.canvas.draw()\n",
        "    imdata = np.frombuffer(fig.canvas.tostring_rgb(), dtype=np.uint8)[::3].astype(np.float32)\n",
        "    imdata = imdata + np.random.random(imdata.size)\n",
        "    plt.close(fig)\n",
        "    return imdata\n",
        "\n",
        "def generate_a_triangle():\n",
        "    figsize = 1.0\n",
        "    U = np.random.random(3)\n",
        "    V = np.random.random(3)\n",
        "    imdata = generate_a_drawing(figsize, U, V)\n",
        "    return [imdata, [U[0], V[0], U[1], V[1], U[2], V[2]]]\n",
        "\n",
        "[im, v] = generate_a_triangle()\n",
        "plt.imshow(im.reshape(IMAGE_SIZE,IMAGE_SIZE), cmap='gray')\n",
        "\n",
        "def generate_dataset_regression(nb_samples):\n",
        "    # Getting im_size:\n",
        "    im_size = generate_a_triangle()[0].shape[0]\n",
        "    X = np.zeros([nb_samples,im_size])\n",
        "    Y = np.zeros([nb_samples, 6])\n",
        "    print('Creating data:')\n",
        "    for i in range(nb_samples):\n",
        "        if i % 10 == 0:\n",
        "            print(i)\n",
        "        [X[i], Y[i]] = generate_a_triangle()\n",
        "    X = X / 255\n",
        "    return [X, Y]\n",
        "\n",
        "import matplotlib.patches as patches\n",
        "\n",
        "def visualize_prediction(x, y):\n",
        "    fig, ax = plt.subplots(figsize=(5, 5))\n",
        "    I = x.reshape((IMAGE_SIZE,IMAGE_SIZE))\n",
        "    ax.imshow(I, extent=[-0.15,1.15,-0.15,1.15],cmap='gray')\n",
        "    ax.set_xlim([0,1])\n",
        "    ax.set_ylim([0,1])\n",
        "\n",
        "    xy = y.reshape(3,2)\n",
        "    tri = patches.Polygon(xy, closed=True, fill = False, edgecolor = 'r', linewidth = 5, alpha = 0.5)\n",
        "    ax.add_patch(tri)\n",
        "\n",
        "    plt.show()\n",
        "\n",
        "def generate_test_set_regression():\n",
        "    np.random.seed(42)\n",
        "    [X_test, Y_test] = generate_dataset_regression(300)\n",
        "    return [X_test, Y_test]"
      ],
      "metadata": {
        "id": "aptobJOZbRZd",
        "trusted": true
      },
      "execution_count": null,
      "outputs": []
    },
    {
      "cell_type": "markdown",
      "source": [
        "2a) Use function 'generate_dataset_regression' to create the dataset. Split the dataset to training and validation parts."
      ],
      "metadata": {
        "id": "clB8r3jMRKmI"
      }
    },
    {
      "cell_type": "code",
      "source": [
        "##generate dataset\n",
        "# *****START CODE\n",
        "\n",
        "# *****END CODE"
      ],
      "metadata": {
        "id": "6Y7mW83fRKmJ",
        "trusted": true
      },
      "execution_count": null,
      "outputs": []
    },
    {
      "cell_type": "code",
      "source": [
        "##split the dataset to training and validation parts\n",
        "# *****START CODE\n",
        "\n",
        "# *****END CODE"
      ],
      "metadata": {
        "id": "xIwVanB4RKmK",
        "execution": {
          "iopub.status.busy": "2022-12-14T14:53:20.295512Z",
          "iopub.status.idle": "2022-12-14T14:53:20.296180Z",
          "shell.execute_reply.started": "2022-12-14T14:53:20.295882Z",
          "shell.execute_reply": "2022-12-14T14:53:20.295908Z"
        },
        "trusted": true
      },
      "execution_count": null,
      "outputs": []
    },
    {
      "cell_type": "markdown",
      "source": [
        "2b) Use function 'generate_test_set' to create the testing dataset."
      ],
      "metadata": {
        "id": "NEoZyhgZRKmK"
      }
    },
    {
      "cell_type": "code",
      "source": [
        "##generate test dataset\n",
        "# *****START CODE\n",
        "\n",
        "# *****END CODE"
      ],
      "metadata": {
        "id": "PE6e3nszRKmK",
        "execution": {
          "iopub.status.busy": "2022-12-14T14:53:20.297733Z",
          "iopub.status.idle": "2022-12-14T14:53:20.298463Z",
          "shell.execute_reply.started": "2022-12-14T14:53:20.298175Z",
          "shell.execute_reply": "2022-12-14T14:53:20.298200Z"
        },
        "trusted": true
      },
      "execution_count": null,
      "outputs": []
    },
    {
      "cell_type": "markdown",
      "source": [
        "2c) Create your own convolutional neural network.\n",
        "* Begin with the previous exercise model architecture\n",
        "* Optimize the architecture to perform well on predicting the different coordinates"
      ],
      "metadata": {
        "id": "tcsDj8eQRKmK"
      }
    },
    {
      "cell_type": "code",
      "source": [
        "import torch\n",
        "import torch.nn as nn\n",
        "import torch.nn.functional as F\n",
        "\n",
        "# *****START CODE\n",
        "class ConvNetR(nn.Module):\n",
        "    def __init__(self):\n",
        "        super(ConvNetR, self).__init__()\n",
        "\n",
        "\n",
        "\n",
        "    def forward(self, x):\n",
        "\n",
        "\n",
        "# *****END CODE"
      ],
      "metadata": {
        "id": "hQYXQV5LRKmL",
        "execution": {
          "iopub.status.busy": "2022-12-14T14:53:20.301455Z",
          "iopub.status.idle": "2022-12-14T14:53:20.302789Z",
          "shell.execute_reply.started": "2022-12-14T14:53:20.302489Z",
          "shell.execute_reply": "2022-12-14T14:53:20.302518Z"
        },
        "trusted": true
      },
      "execution_count": null,
      "outputs": []
    },
    {
      "cell_type": "markdown",
      "source": [
        "2d) Define learning rate, model, optimizer, criterion and number of epochs."
      ],
      "metadata": {
        "id": "U6PxmyfqRKmM"
      }
    },
    {
      "cell_type": "code",
      "source": [
        "# *****START CODE\n",
        "lr = \n",
        "model = \n",
        "optimizer = \n",
        "criterion = \n",
        "epochs = \n",
        "# *****END CODE"
      ],
      "metadata": {
        "id": "vS9LIDmlRKmM",
        "execution": {
          "iopub.status.busy": "2022-12-14T14:53:20.304202Z",
          "iopub.status.idle": "2022-12-14T14:53:20.304766Z",
          "shell.execute_reply.started": "2022-12-14T14:53:20.304463Z",
          "shell.execute_reply": "2022-12-14T14:53:20.304497Z"
        },
        "trusted": true
      },
      "execution_count": null,
      "outputs": []
    },
    {
      "cell_type": "markdown",
      "source": [
        "2e) What criterion did you choose and why?\n",
        "* Write a small description for the loss function that you want to use for this specific problem.\n",
        "* What was your intuition for using this loss?"
      ],
      "metadata": {
        "id": "JNtKYgzTRKmM"
      }
    },
    {
      "cell_type": "markdown",
      "source": [
        "2f) Train your model and validate it at the end of each epoch.\n",
        "* Similarly to the previous question train and validate your network for each epoch\n",
        "* Write a small description on how you decide which is the optimal epoch\n",
        "* Use this epoch and evaluate your model on the test set\n",
        "* Visualise some predictions using the function 'visualize_prediction'\n",
        "* What do you observe?"
      ],
      "metadata": {
        "id": "HmjN0W-KRKmN"
      }
    },
    {
      "cell_type": "code",
      "source": [
        "# *****START CODE\n",
        "\n",
        "\n",
        "\n",
        "# *****END CODE"
      ],
      "metadata": {
        "id": "VZfRftoFRKmN",
        "execution": {
          "iopub.status.busy": "2022-12-14T14:53:20.306222Z",
          "iopub.status.idle": "2022-12-14T14:53:20.306904Z",
          "shell.execute_reply.started": "2022-12-14T14:53:20.306580Z",
          "shell.execute_reply": "2022-12-14T14:53:20.306622Z"
        },
        "trusted": true
      },
      "execution_count": null,
      "outputs": []
    },
    {
      "cell_type": "markdown",
      "source": [
        "2g) Think and implement a preprocessing step that can boost the accuracy of your network"
      ],
      "metadata": {
        "id": "zTCMv88pRKmN"
      }
    },
    {
      "cell_type": "code",
      "source": [
        "# *****START CODE\n",
        "\n",
        "\n",
        "\n",
        "# *****END CODE"
      ],
      "metadata": {
        "id": "jTqLTm8LRKmN",
        "execution": {
          "iopub.status.busy": "2022-12-14T14:53:20.308652Z",
          "iopub.status.idle": "2022-12-14T14:53:20.309416Z",
          "shell.execute_reply.started": "2022-12-14T14:53:20.309202Z",
          "shell.execute_reply": "2022-12-14T14:53:20.309224Z"
        },
        "trusted": true
      },
      "execution_count": null,
      "outputs": []
    },
    {
      "cell_type": "markdown",
      "source": [
        "#Question 3\n",
        "Answer these generic questions:"
      ],
      "metadata": {
        "id": "qmogb4BZqanY"
      }
    },
    {
      "cell_type": "markdown",
      "source": [
        "3a) What is a metric? What is a loss? What is the difference between both?"
      ],
      "metadata": {
        "id": "UI7zK3GOqiPU"
      }
    },
    {
      "cell_type": "markdown",
      "source": [
        "Your answer:"
      ],
      "metadata": {
        "id": "Fse981-xqsaR"
      }
    },
    {
      "cell_type": "markdown",
      "source": [
        "3b) Why deep learning models are difficult to understand even on a particular prediction?"
      ],
      "metadata": {
        "id": "LEPKyXQzqu0T"
      }
    },
    {
      "cell_type": "markdown",
      "source": [
        "Your answer:"
      ],
      "metadata": {
        "id": "zkE-FQ3aq_Pi"
      }
    },
    {
      "cell_type": "markdown",
      "source": [
        "3c) What is \"out of domain data\"?"
      ],
      "metadata": {
        "id": "nB17ceedrBvD"
      }
    },
    {
      "cell_type": "markdown",
      "source": [
        "Your answer:"
      ],
      "metadata": {
        "id": "GSxTeaBbrN39"
      }
    },
    {
      "cell_type": "markdown",
      "source": [
        "3d) Name five tasks where Deep Learning models are the state-of-the-art:\n",
        "For example: Folding proteins in Biology"
      ],
      "metadata": {
        "id": "gW4zn1h6rO8J"
      }
    },
    {
      "cell_type": "markdown",
      "source": [
        "Your answer:"
      ],
      "metadata": {
        "id": "26X2qPH6ruN8"
      }
    },
    {
      "cell_type": "markdown",
      "source": [
        "3e)What is an “activation function” and what is it used for in Deep Learning models?"
      ],
      "metadata": {
        "id": "z9aeE0ikrvUI"
      }
    },
    {
      "cell_type": "markdown",
      "source": [
        "Your answer:"
      ],
      "metadata": {
        "id": "pIgnFkHGtA-k"
      }
    }
  ]
}