{
  "metadata": {
    "colab": {
      "provenance": [],
      "collapsed_sections": [
        "o3QK7dhJRKmH"
      ],
      "include_colab_link": true
    },
    "kernelspec": {
      "name": "python3",
      "display_name": "Python 3",
      "language": "python"
    },
    "language_info": {
      "name": "python",
      "version": "3.7.12",
      "mimetype": "text/x-python",
      "codemirror_mode": {
        "name": "ipython",
        "version": 3
      },
      "pygments_lexer": "ipython3",
      "nbconvert_exporter": "python",
      "file_extension": ".py"
    },
    "vscode": {
      "interpreter": {
        "hash": "d8a1dba90a7a3c73ffa205c3fa0146003aed819f1f43d631078b51d929ccab9c"
      }
    },
    "accelerator": "GPU",
    "gpuClass": "standard",
    "widgets": {
      "application/vnd.jupyter.widget-state+json": {
        "ce82705266b349e09428dd1b5c6e4bad": {
          "model_module": "@jupyter-widgets/controls",
          "model_name": "HBoxModel",
          "model_module_version": "1.5.0",
          "state": {
            "_dom_classes": [],
            "_model_module": "@jupyter-widgets/controls",
            "_model_module_version": "1.5.0",
            "_model_name": "HBoxModel",
            "_view_count": null,
            "_view_module": "@jupyter-widgets/controls",
            "_view_module_version": "1.5.0",
            "_view_name": "HBoxView",
            "box_style": "",
            "children": [
              "IPY_MODEL_94e7206bdf5a4bcc8cc143bb4aad5731",
              "IPY_MODEL_2d42f5e0700b4fabb7d55bc44ac7f934",
              "IPY_MODEL_a44fc462ab3a46abaf6d49cdc9b6252a"
            ],
            "layout": "IPY_MODEL_6d0551d379d647b598830b76dc6d776f"
          }
        },
        "94e7206bdf5a4bcc8cc143bb4aad5731": {
          "model_module": "@jupyter-widgets/controls",
          "model_name": "HTMLModel",
          "model_module_version": "1.5.0",
          "state": {
            "_dom_classes": [],
            "_model_module": "@jupyter-widgets/controls",
            "_model_module_version": "1.5.0",
            "_model_name": "HTMLModel",
            "_view_count": null,
            "_view_module": "@jupyter-widgets/controls",
            "_view_module_version": "1.5.0",
            "_view_name": "HTMLView",
            "description": "",
            "description_tooltip": null,
            "layout": "IPY_MODEL_e13f301f58934be48963cd221432b5ba",
            "placeholder": "​",
            "style": "IPY_MODEL_4c9b3ba971624f0ea4399163525dc5c0",
            "value": "100%"
          }
        },
        "2d42f5e0700b4fabb7d55bc44ac7f934": {
          "model_module": "@jupyter-widgets/controls",
          "model_name": "FloatProgressModel",
          "model_module_version": "1.5.0",
          "state": {
            "_dom_classes": [],
            "_model_module": "@jupyter-widgets/controls",
            "_model_module_version": "1.5.0",
            "_model_name": "FloatProgressModel",
            "_view_count": null,
            "_view_module": "@jupyter-widgets/controls",
            "_view_module_version": "1.5.0",
            "_view_name": "ProgressView",
            "bar_style": "success",
            "description": "",
            "description_tooltip": null,
            "layout": "IPY_MODEL_65aa3550e0b54b7f9e8c1951e95b4f92",
            "max": 170498071,
            "min": 0,
            "orientation": "horizontal",
            "style": "IPY_MODEL_17e09ee0c40b40c2b1e77fdecfb2de72",
            "value": 170498071
          }
        },
        "a44fc462ab3a46abaf6d49cdc9b6252a": {
          "model_module": "@jupyter-widgets/controls",
          "model_name": "HTMLModel",
          "model_module_version": "1.5.0",
          "state": {
            "_dom_classes": [],
            "_model_module": "@jupyter-widgets/controls",
            "_model_module_version": "1.5.0",
            "_model_name": "HTMLModel",
            "_view_count": null,
            "_view_module": "@jupyter-widgets/controls",
            "_view_module_version": "1.5.0",
            "_view_name": "HTMLView",
            "description": "",
            "description_tooltip": null,
            "layout": "IPY_MODEL_7cb567ee7bf64627ade2bd6deb621f76",
            "placeholder": "​",
            "style": "IPY_MODEL_44a63a0938a04133b8898811941f80a5",
            "value": " 170498071/170498071 [00:13&lt;00:00, 14237127.38it/s]"
          }
        },
        "6d0551d379d647b598830b76dc6d776f": {
          "model_module": "@jupyter-widgets/base",
          "model_name": "LayoutModel",
          "model_module_version": "1.2.0",
          "state": {
            "_model_module": "@jupyter-widgets/base",
            "_model_module_version": "1.2.0",
            "_model_name": "LayoutModel",
            "_view_count": null,
            "_view_module": "@jupyter-widgets/base",
            "_view_module_version": "1.2.0",
            "_view_name": "LayoutView",
            "align_content": null,
            "align_items": null,
            "align_self": null,
            "border": null,
            "bottom": null,
            "display": null,
            "flex": null,
            "flex_flow": null,
            "grid_area": null,
            "grid_auto_columns": null,
            "grid_auto_flow": null,
            "grid_auto_rows": null,
            "grid_column": null,
            "grid_gap": null,
            "grid_row": null,
            "grid_template_areas": null,
            "grid_template_columns": null,
            "grid_template_rows": null,
            "height": null,
            "justify_content": null,
            "justify_items": null,
            "left": null,
            "margin": null,
            "max_height": null,
            "max_width": null,
            "min_height": null,
            "min_width": null,
            "object_fit": null,
            "object_position": null,
            "order": null,
            "overflow": null,
            "overflow_x": null,
            "overflow_y": null,
            "padding": null,
            "right": null,
            "top": null,
            "visibility": null,
            "width": null
          }
        },
        "e13f301f58934be48963cd221432b5ba": {
          "model_module": "@jupyter-widgets/base",
          "model_name": "LayoutModel",
          "model_module_version": "1.2.0",
          "state": {
            "_model_module": "@jupyter-widgets/base",
            "_model_module_version": "1.2.0",
            "_model_name": "LayoutModel",
            "_view_count": null,
            "_view_module": "@jupyter-widgets/base",
            "_view_module_version": "1.2.0",
            "_view_name": "LayoutView",
            "align_content": null,
            "align_items": null,
            "align_self": null,
            "border": null,
            "bottom": null,
            "display": null,
            "flex": null,
            "flex_flow": null,
            "grid_area": null,
            "grid_auto_columns": null,
            "grid_auto_flow": null,
            "grid_auto_rows": null,
            "grid_column": null,
            "grid_gap": null,
            "grid_row": null,
            "grid_template_areas": null,
            "grid_template_columns": null,
            "grid_template_rows": null,
            "height": null,
            "justify_content": null,
            "justify_items": null,
            "left": null,
            "margin": null,
            "max_height": null,
            "max_width": null,
            "min_height": null,
            "min_width": null,
            "object_fit": null,
            "object_position": null,
            "order": null,
            "overflow": null,
            "overflow_x": null,
            "overflow_y": null,
            "padding": null,
            "right": null,
            "top": null,
            "visibility": null,
            "width": null
          }
        },
        "4c9b3ba971624f0ea4399163525dc5c0": {
          "model_module": "@jupyter-widgets/controls",
          "model_name": "DescriptionStyleModel",
          "model_module_version": "1.5.0",
          "state": {
            "_model_module": "@jupyter-widgets/controls",
            "_model_module_version": "1.5.0",
            "_model_name": "DescriptionStyleModel",
            "_view_count": null,
            "_view_module": "@jupyter-widgets/base",
            "_view_module_version": "1.2.0",
            "_view_name": "StyleView",
            "description_width": ""
          }
        },
        "65aa3550e0b54b7f9e8c1951e95b4f92": {
          "model_module": "@jupyter-widgets/base",
          "model_name": "LayoutModel",
          "model_module_version": "1.2.0",
          "state": {
            "_model_module": "@jupyter-widgets/base",
            "_model_module_version": "1.2.0",
            "_model_name": "LayoutModel",
            "_view_count": null,
            "_view_module": "@jupyter-widgets/base",
            "_view_module_version": "1.2.0",
            "_view_name": "LayoutView",
            "align_content": null,
            "align_items": null,
            "align_self": null,
            "border": null,
            "bottom": null,
            "display": null,
            "flex": null,
            "flex_flow": null,
            "grid_area": null,
            "grid_auto_columns": null,
            "grid_auto_flow": null,
            "grid_auto_rows": null,
            "grid_column": null,
            "grid_gap": null,
            "grid_row": null,
            "grid_template_areas": null,
            "grid_template_columns": null,
            "grid_template_rows": null,
            "height": null,
            "justify_content": null,
            "justify_items": null,
            "left": null,
            "margin": null,
            "max_height": null,
            "max_width": null,
            "min_height": null,
            "min_width": null,
            "object_fit": null,
            "object_position": null,
            "order": null,
            "overflow": null,
            "overflow_x": null,
            "overflow_y": null,
            "padding": null,
            "right": null,
            "top": null,
            "visibility": null,
            "width": null
          }
        },
        "17e09ee0c40b40c2b1e77fdecfb2de72": {
          "model_module": "@jupyter-widgets/controls",
          "model_name": "ProgressStyleModel",
          "model_module_version": "1.5.0",
          "state": {
            "_model_module": "@jupyter-widgets/controls",
            "_model_module_version": "1.5.0",
            "_model_name": "ProgressStyleModel",
            "_view_count": null,
            "_view_module": "@jupyter-widgets/base",
            "_view_module_version": "1.2.0",
            "_view_name": "StyleView",
            "bar_color": null,
            "description_width": ""
          }
        },
        "7cb567ee7bf64627ade2bd6deb621f76": {
          "model_module": "@jupyter-widgets/base",
          "model_name": "LayoutModel",
          "model_module_version": "1.2.0",
          "state": {
            "_model_module": "@jupyter-widgets/base",
            "_model_module_version": "1.2.0",
            "_model_name": "LayoutModel",
            "_view_count": null,
            "_view_module": "@jupyter-widgets/base",
            "_view_module_version": "1.2.0",
            "_view_name": "LayoutView",
            "align_content": null,
            "align_items": null,
            "align_self": null,
            "border": null,
            "bottom": null,
            "display": null,
            "flex": null,
            "flex_flow": null,
            "grid_area": null,
            "grid_auto_columns": null,
            "grid_auto_flow": null,
            "grid_auto_rows": null,
            "grid_column": null,
            "grid_gap": null,
            "grid_row": null,
            "grid_template_areas": null,
            "grid_template_columns": null,
            "grid_template_rows": null,
            "height": null,
            "justify_content": null,
            "justify_items": null,
            "left": null,
            "margin": null,
            "max_height": null,
            "max_width": null,
            "min_height": null,
            "min_width": null,
            "object_fit": null,
            "object_position": null,
            "order": null,
            "overflow": null,
            "overflow_x": null,
            "overflow_y": null,
            "padding": null,
            "right": null,
            "top": null,
            "visibility": null,
            "width": null
          }
        },
        "44a63a0938a04133b8898811941f80a5": {
          "model_module": "@jupyter-widgets/controls",
          "model_name": "DescriptionStyleModel",
          "model_module_version": "1.5.0",
          "state": {
            "_model_module": "@jupyter-widgets/controls",
            "_model_module_version": "1.5.0",
            "_model_name": "DescriptionStyleModel",
            "_view_count": null,
            "_view_module": "@jupyter-widgets/base",
            "_view_module_version": "1.2.0",
            "_view_name": "StyleView",
            "description_width": ""
          }
        },
        "15a0617e93404ab7aa532c1861f5e174": {
          "model_module": "@jupyter-widgets/controls",
          "model_name": "VBoxModel",
          "model_module_version": "1.5.0",
          "state": {
            "_dom_classes": [],
            "_model_module": "@jupyter-widgets/controls",
            "_model_module_version": "1.5.0",
            "_model_name": "VBoxModel",
            "_view_count": null,
            "_view_module": "@jupyter-widgets/controls",
            "_view_module_version": "1.5.0",
            "_view_name": "VBoxView",
            "box_style": "",
            "children": [
              "IPY_MODEL_50a3d3192a4e4945907ce20f750270c2",
              "IPY_MODEL_25774188a2ef478eba5d9aa75573148c"
            ],
            "layout": "IPY_MODEL_185e2decbf0e41a2af93fa56c1a4285f"
          }
        },
        "50a3d3192a4e4945907ce20f750270c2": {
          "model_module": "@jupyter-widgets/controls",
          "model_name": "LabelModel",
          "model_module_version": "1.5.0",
          "state": {
            "_dom_classes": [],
            "_model_module": "@jupyter-widgets/controls",
            "_model_module_version": "1.5.0",
            "_model_name": "LabelModel",
            "_view_count": null,
            "_view_module": "@jupyter-widgets/controls",
            "_view_module_version": "1.5.0",
            "_view_name": "LabelView",
            "description": "",
            "description_tooltip": null,
            "layout": "IPY_MODEL_ce0ab3fca6504bddbd138e0b26003193",
            "placeholder": "​",
            "style": "IPY_MODEL_aada7a5a48f14a1a80cda0a3a5036af3",
            "value": "0.008 MB of 0.008 MB uploaded (0.000 MB deduped)\r"
          }
        },
        "25774188a2ef478eba5d9aa75573148c": {
          "model_module": "@jupyter-widgets/controls",
          "model_name": "FloatProgressModel",
          "model_module_version": "1.5.0",
          "state": {
            "_dom_classes": [],
            "_model_module": "@jupyter-widgets/controls",
            "_model_module_version": "1.5.0",
            "_model_name": "FloatProgressModel",
            "_view_count": null,
            "_view_module": "@jupyter-widgets/controls",
            "_view_module_version": "1.5.0",
            "_view_name": "ProgressView",
            "bar_style": "",
            "description": "",
            "description_tooltip": null,
            "layout": "IPY_MODEL_403495a0f3fe45d1b9a16e499b41075d",
            "max": 1,
            "min": 0,
            "orientation": "horizontal",
            "style": "IPY_MODEL_75d64b63a3d543be97887d3cb90c749b",
            "value": 1
          }
        },
        "185e2decbf0e41a2af93fa56c1a4285f": {
          "model_module": "@jupyter-widgets/base",
          "model_name": "LayoutModel",
          "model_module_version": "1.2.0",
          "state": {
            "_model_module": "@jupyter-widgets/base",
            "_model_module_version": "1.2.0",
            "_model_name": "LayoutModel",
            "_view_count": null,
            "_view_module": "@jupyter-widgets/base",
            "_view_module_version": "1.2.0",
            "_view_name": "LayoutView",
            "align_content": null,
            "align_items": null,
            "align_self": null,
            "border": null,
            "bottom": null,
            "display": null,
            "flex": null,
            "flex_flow": null,
            "grid_area": null,
            "grid_auto_columns": null,
            "grid_auto_flow": null,
            "grid_auto_rows": null,
            "grid_column": null,
            "grid_gap": null,
            "grid_row": null,
            "grid_template_areas": null,
            "grid_template_columns": null,
            "grid_template_rows": null,
            "height": null,
            "justify_content": null,
            "justify_items": null,
            "left": null,
            "margin": null,
            "max_height": null,
            "max_width": null,
            "min_height": null,
            "min_width": null,
            "object_fit": null,
            "object_position": null,
            "order": null,
            "overflow": null,
            "overflow_x": null,
            "overflow_y": null,
            "padding": null,
            "right": null,
            "top": null,
            "visibility": null,
            "width": null
          }
        },
        "ce0ab3fca6504bddbd138e0b26003193": {
          "model_module": "@jupyter-widgets/base",
          "model_name": "LayoutModel",
          "model_module_version": "1.2.0",
          "state": {
            "_model_module": "@jupyter-widgets/base",
            "_model_module_version": "1.2.0",
            "_model_name": "LayoutModel",
            "_view_count": null,
            "_view_module": "@jupyter-widgets/base",
            "_view_module_version": "1.2.0",
            "_view_name": "LayoutView",
            "align_content": null,
            "align_items": null,
            "align_self": null,
            "border": null,
            "bottom": null,
            "display": null,
            "flex": null,
            "flex_flow": null,
            "grid_area": null,
            "grid_auto_columns": null,
            "grid_auto_flow": null,
            "grid_auto_rows": null,
            "grid_column": null,
            "grid_gap": null,
            "grid_row": null,
            "grid_template_areas": null,
            "grid_template_columns": null,
            "grid_template_rows": null,
            "height": null,
            "justify_content": null,
            "justify_items": null,
            "left": null,
            "margin": null,
            "max_height": null,
            "max_width": null,
            "min_height": null,
            "min_width": null,
            "object_fit": null,
            "object_position": null,
            "order": null,
            "overflow": null,
            "overflow_x": null,
            "overflow_y": null,
            "padding": null,
            "right": null,
            "top": null,
            "visibility": null,
            "width": null
          }
        },
        "aada7a5a48f14a1a80cda0a3a5036af3": {
          "model_module": "@jupyter-widgets/controls",
          "model_name": "DescriptionStyleModel",
          "model_module_version": "1.5.0",
          "state": {
            "_model_module": "@jupyter-widgets/controls",
            "_model_module_version": "1.5.0",
            "_model_name": "DescriptionStyleModel",
            "_view_count": null,
            "_view_module": "@jupyter-widgets/base",
            "_view_module_version": "1.2.0",
            "_view_name": "StyleView",
            "description_width": ""
          }
        },
        "403495a0f3fe45d1b9a16e499b41075d": {
          "model_module": "@jupyter-widgets/base",
          "model_name": "LayoutModel",
          "model_module_version": "1.2.0",
          "state": {
            "_model_module": "@jupyter-widgets/base",
            "_model_module_version": "1.2.0",
            "_model_name": "LayoutModel",
            "_view_count": null,
            "_view_module": "@jupyter-widgets/base",
            "_view_module_version": "1.2.0",
            "_view_name": "LayoutView",
            "align_content": null,
            "align_items": null,
            "align_self": null,
            "border": null,
            "bottom": null,
            "display": null,
            "flex": null,
            "flex_flow": null,
            "grid_area": null,
            "grid_auto_columns": null,
            "grid_auto_flow": null,
            "grid_auto_rows": null,
            "grid_column": null,
            "grid_gap": null,
            "grid_row": null,
            "grid_template_areas": null,
            "grid_template_columns": null,
            "grid_template_rows": null,
            "height": null,
            "justify_content": null,
            "justify_items": null,
            "left": null,
            "margin": null,
            "max_height": null,
            "max_width": null,
            "min_height": null,
            "min_width": null,
            "object_fit": null,
            "object_position": null,
            "order": null,
            "overflow": null,
            "overflow_x": null,
            "overflow_y": null,
            "padding": null,
            "right": null,
            "top": null,
            "visibility": null,
            "width": null
          }
        },
        "75d64b63a3d543be97887d3cb90c749b": {
          "model_module": "@jupyter-widgets/controls",
          "model_name": "ProgressStyleModel",
          "model_module_version": "1.5.0",
          "state": {
            "_model_module": "@jupyter-widgets/controls",
            "_model_module_version": "1.5.0",
            "_model_name": "ProgressStyleModel",
            "_view_count": null,
            "_view_module": "@jupyter-widgets/base",
            "_view_module_version": "1.2.0",
            "_view_name": "StyleView",
            "bar_color": null,
            "description_width": ""
          }
        },
        "9350079cb8c5494fbd20f915722023ef": {
          "model_module": "@jupyter-widgets/controls",
          "model_name": "VBoxModel",
          "model_module_version": "1.5.0",
          "state": {
            "_dom_classes": [],
            "_model_module": "@jupyter-widgets/controls",
            "_model_module_version": "1.5.0",
            "_model_name": "VBoxModel",
            "_view_count": null,
            "_view_module": "@jupyter-widgets/controls",
            "_view_module_version": "1.5.0",
            "_view_name": "VBoxView",
            "box_style": "",
            "children": [
              "IPY_MODEL_a3d1c13f20a447efb3300bbf58e28f80",
              "IPY_MODEL_3ffab511079842968f880bf132791a0f"
            ],
            "layout": "IPY_MODEL_1a0c261ee395475e8086163c78625223"
          }
        },
        "a3d1c13f20a447efb3300bbf58e28f80": {
          "model_module": "@jupyter-widgets/controls",
          "model_name": "LabelModel",
          "model_module_version": "1.5.0",
          "state": {
            "_dom_classes": [],
            "_model_module": "@jupyter-widgets/controls",
            "_model_module_version": "1.5.0",
            "_model_name": "LabelModel",
            "_view_count": null,
            "_view_module": "@jupyter-widgets/controls",
            "_view_module_version": "1.5.0",
            "_view_name": "LabelView",
            "description": "",
            "description_tooltip": null,
            "layout": "IPY_MODEL_3d29ee0992b143bfbff1899e9ae4ac30",
            "placeholder": "​",
            "style": "IPY_MODEL_eb6e48e989d7491c8dadb5790ffedf19",
            "value": "0.012 MB of 0.012 MB uploaded (0.000 MB deduped)\r"
          }
        },
        "3ffab511079842968f880bf132791a0f": {
          "model_module": "@jupyter-widgets/controls",
          "model_name": "FloatProgressModel",
          "model_module_version": "1.5.0",
          "state": {
            "_dom_classes": [],
            "_model_module": "@jupyter-widgets/controls",
            "_model_module_version": "1.5.0",
            "_model_name": "FloatProgressModel",
            "_view_count": null,
            "_view_module": "@jupyter-widgets/controls",
            "_view_module_version": "1.5.0",
            "_view_name": "ProgressView",
            "bar_style": "",
            "description": "",
            "description_tooltip": null,
            "layout": "IPY_MODEL_e3dd49f054634a7bb6fb2e210eac9614",
            "max": 1,
            "min": 0,
            "orientation": "horizontal",
            "style": "IPY_MODEL_22dc35cd144048f2b055ed773544b4f1",
            "value": 1
          }
        },
        "1a0c261ee395475e8086163c78625223": {
          "model_module": "@jupyter-widgets/base",
          "model_name": "LayoutModel",
          "model_module_version": "1.2.0",
          "state": {
            "_model_module": "@jupyter-widgets/base",
            "_model_module_version": "1.2.0",
            "_model_name": "LayoutModel",
            "_view_count": null,
            "_view_module": "@jupyter-widgets/base",
            "_view_module_version": "1.2.0",
            "_view_name": "LayoutView",
            "align_content": null,
            "align_items": null,
            "align_self": null,
            "border": null,
            "bottom": null,
            "display": null,
            "flex": null,
            "flex_flow": null,
            "grid_area": null,
            "grid_auto_columns": null,
            "grid_auto_flow": null,
            "grid_auto_rows": null,
            "grid_column": null,
            "grid_gap": null,
            "grid_row": null,
            "grid_template_areas": null,
            "grid_template_columns": null,
            "grid_template_rows": null,
            "height": null,
            "justify_content": null,
            "justify_items": null,
            "left": null,
            "margin": null,
            "max_height": null,
            "max_width": null,
            "min_height": null,
            "min_width": null,
            "object_fit": null,
            "object_position": null,
            "order": null,
            "overflow": null,
            "overflow_x": null,
            "overflow_y": null,
            "padding": null,
            "right": null,
            "top": null,
            "visibility": null,
            "width": null
          }
        },
        "3d29ee0992b143bfbff1899e9ae4ac30": {
          "model_module": "@jupyter-widgets/base",
          "model_name": "LayoutModel",
          "model_module_version": "1.2.0",
          "state": {
            "_model_module": "@jupyter-widgets/base",
            "_model_module_version": "1.2.0",
            "_model_name": "LayoutModel",
            "_view_count": null,
            "_view_module": "@jupyter-widgets/base",
            "_view_module_version": "1.2.0",
            "_view_name": "LayoutView",
            "align_content": null,
            "align_items": null,
            "align_self": null,
            "border": null,
            "bottom": null,
            "display": null,
            "flex": null,
            "flex_flow": null,
            "grid_area": null,
            "grid_auto_columns": null,
            "grid_auto_flow": null,
            "grid_auto_rows": null,
            "grid_column": null,
            "grid_gap": null,
            "grid_row": null,
            "grid_template_areas": null,
            "grid_template_columns": null,
            "grid_template_rows": null,
            "height": null,
            "justify_content": null,
            "justify_items": null,
            "left": null,
            "margin": null,
            "max_height": null,
            "max_width": null,
            "min_height": null,
            "min_width": null,
            "object_fit": null,
            "object_position": null,
            "order": null,
            "overflow": null,
            "overflow_x": null,
            "overflow_y": null,
            "padding": null,
            "right": null,
            "top": null,
            "visibility": null,
            "width": null
          }
        },
        "eb6e48e989d7491c8dadb5790ffedf19": {
          "model_module": "@jupyter-widgets/controls",
          "model_name": "DescriptionStyleModel",
          "model_module_version": "1.5.0",
          "state": {
            "_model_module": "@jupyter-widgets/controls",
            "_model_module_version": "1.5.0",
            "_model_name": "DescriptionStyleModel",
            "_view_count": null,
            "_view_module": "@jupyter-widgets/base",
            "_view_module_version": "1.2.0",
            "_view_name": "StyleView",
            "description_width": ""
          }
        },
        "e3dd49f054634a7bb6fb2e210eac9614": {
          "model_module": "@jupyter-widgets/base",
          "model_name": "LayoutModel",
          "model_module_version": "1.2.0",
          "state": {
            "_model_module": "@jupyter-widgets/base",
            "_model_module_version": "1.2.0",
            "_model_name": "LayoutModel",
            "_view_count": null,
            "_view_module": "@jupyter-widgets/base",
            "_view_module_version": "1.2.0",
            "_view_name": "LayoutView",
            "align_content": null,
            "align_items": null,
            "align_self": null,
            "border": null,
            "bottom": null,
            "display": null,
            "flex": null,
            "flex_flow": null,
            "grid_area": null,
            "grid_auto_columns": null,
            "grid_auto_flow": null,
            "grid_auto_rows": null,
            "grid_column": null,
            "grid_gap": null,
            "grid_row": null,
            "grid_template_areas": null,
            "grid_template_columns": null,
            "grid_template_rows": null,
            "height": null,
            "justify_content": null,
            "justify_items": null,
            "left": null,
            "margin": null,
            "max_height": null,
            "max_width": null,
            "min_height": null,
            "min_width": null,
            "object_fit": null,
            "object_position": null,
            "order": null,
            "overflow": null,
            "overflow_x": null,
            "overflow_y": null,
            "padding": null,
            "right": null,
            "top": null,
            "visibility": null,
            "width": null
          }
        },
        "22dc35cd144048f2b055ed773544b4f1": {
          "model_module": "@jupyter-widgets/controls",
          "model_name": "ProgressStyleModel",
          "model_module_version": "1.5.0",
          "state": {
            "_model_module": "@jupyter-widgets/controls",
            "_model_module_version": "1.5.0",
            "_model_name": "ProgressStyleModel",
            "_view_count": null,
            "_view_module": "@jupyter-widgets/base",
            "_view_module_version": "1.2.0",
            "_view_name": "StyleView",
            "bar_color": null,
            "description_width": ""
          }
        }
      }
    }
  },
  "nbformat_minor": 0,
  "nbformat": 4,
  "cells": [
    {
      "cell_type": "markdown",
      "metadata": {
        "id": "view-in-github",
        "colab_type": "text"
      },
      "source": [
        "<a href=\"https://colab.research.google.com/github/adrienloizeau/cifar-pytorch-model-/blob/main/fdl_assignment.ipynb\" target=\"_parent\"><img src=\"https://colab.research.google.com/assets/colab-badge.svg\" alt=\"Open In Colab\"/></a>"
      ]
    },
    {
      "cell_type": "markdown",
      "source": [
        "## FDL- DSBA Assignment 2022-2023\n",
        "\n",
        "### Please fill the blanks in the code and answer to the questions that are asked in the Jupyter Notebook (\"Markdown\" cell). \n",
        "\n",
        "### Instructions: Rename the jupyter adding your name at the end of the title FDL_Assignment-<YOUR NAME\\>.ipynb\n",
        "\n",
        "### Upload your solution on Edunao before the 19/12/2022 (December the 12th), and set the file name to FDL_Assignment-<YOUR NAME\\>\n",
        "\n",
        "For any questions, please contact Arthur Ledaguenel at arthur.ledaguenel@centralesupelec.fr and put \\[FDL\\] in the object of the mail"
      ],
      "metadata": {
        "id": "HzT-fZzFRKly"
      }
    },
    {
      "cell_type": "markdown",
      "source": [
        "# Question 1 -  TRAIN ON CIFAR DATASET\n",
        "In this exercise you are asked to train a Convolutional Neural Network (CNN) on the CIFAR10 dataset and visualize its feature maps."
      ],
      "metadata": {
        "id": "zPUOV6dFRKl7"
      }
    },
    {
      "cell_type": "markdown",
      "source": [
        "## 1a) Download the CIFAR10 dataset using the already provided PyTorch dataloaders. \n",
        "*   Read and understand the following code\n",
        "*   Feel free to add additional transformations of data. Explain if so. "
      ],
      "metadata": {
        "id": "lCX0xLejRKl9"
      }
    },
    {
      "cell_type": "code",
      "source": [
        "batch_size = 64"
      ],
      "metadata": {
        "id": "31bJgkWSUt8u"
      },
      "execution_count": 2,
      "outputs": []
    },
    {
      "cell_type": "code",
      "source": [
        "## Download the CIFAR10 dataset using the PyTorch dataloaders\n",
        "import json \n",
        "from pprint import pprint\n",
        "import torch\n",
        "import torchvision\n",
        "import torchvision.transforms as transforms\n",
        "\n",
        "# *****START CODE \n",
        "## Data\n",
        "##Here you are free to add further transform functions if you wish\n",
        "print('==> Preparing data..')\n",
        "transform_train = transforms.Compose([\n",
        "    transforms.ToTensor(),\n",
        "    transforms.Normalize((0.5, 0.5, 0.5), (0.5, 0.5, 0.5)),\n",
        "    transforms.RandomVerticalFlip(0.3)\n",
        "])\n",
        "\n",
        "transform_test = transforms.Compose([\n",
        "    transforms.ToTensor(),\n",
        "    transforms.Normalize((0.5, 0.5, 0.5), (0.5, 0.5, 0.5)),\n",
        "    transforms.RandomVerticalFlip(0.3)\n",
        "])\n",
        "\n",
        "trainset = torchvision.datasets.CIFAR10(root='./data', train=True, download=True, transform=transform_train)\n",
        "train_dataloader = torch.utils.data.DataLoader(trainset, batch_size= batch_size , shuffle=True)\n",
        "\n",
        "testset = torchvision.datasets.CIFAR10(root='./data', train=False, download=True, transform=transform_test)\n",
        "val_dataloader = torch.utils.data.DataLoader(testset, batch_size= batch_size, shuffle=False)\n",
        "# *****END CODE"
      ],
      "metadata": {
        "id": "5KyVunArRKl-",
        "outputId": "3fc0e0bc-2fdc-467a-c9bc-d34216d17023",
        "colab": {
          "base_uri": "https://localhost:8080/",
          "height": 122,
          "referenced_widgets": [
            "ce82705266b349e09428dd1b5c6e4bad",
            "94e7206bdf5a4bcc8cc143bb4aad5731",
            "2d42f5e0700b4fabb7d55bc44ac7f934",
            "a44fc462ab3a46abaf6d49cdc9b6252a",
            "6d0551d379d647b598830b76dc6d776f",
            "e13f301f58934be48963cd221432b5ba",
            "4c9b3ba971624f0ea4399163525dc5c0",
            "65aa3550e0b54b7f9e8c1951e95b4f92",
            "17e09ee0c40b40c2b1e77fdecfb2de72",
            "7cb567ee7bf64627ade2bd6deb621f76",
            "44a63a0938a04133b8898811941f80a5"
          ]
        },
        "execution": {
          "iopub.status.busy": "2022-12-14T15:04:29.144140Z",
          "iopub.execute_input": "2022-12-14T15:04:29.144487Z",
          "iopub.status.idle": "2022-12-14T15:04:30.820640Z",
          "shell.execute_reply.started": "2022-12-14T15:04:29.144458Z",
          "shell.execute_reply": "2022-12-14T15:04:30.819654Z"
        },
        "trusted": true
      },
      "execution_count": 3,
      "outputs": [
        {
          "output_type": "stream",
          "name": "stdout",
          "text": [
            "==> Preparing data..\n",
            "Downloading https://www.cs.toronto.edu/~kriz/cifar-10-python.tar.gz to ./data/cifar-10-python.tar.gz\n"
          ]
        },
        {
          "output_type": "display_data",
          "data": {
            "text/plain": [
              "  0%|          | 0/170498071 [00:00<?, ?it/s]"
            ],
            "application/vnd.jupyter.widget-view+json": {
              "version_major": 2,
              "version_minor": 0,
              "model_id": "ce82705266b349e09428dd1b5c6e4bad"
            }
          },
          "metadata": {}
        },
        {
          "output_type": "stream",
          "name": "stdout",
          "text": [
            "Extracting ./data/cifar-10-python.tar.gz to ./data\n",
            "Files already downloaded and verified\n"
          ]
        }
      ]
    },
    {
      "cell_type": "markdown",
      "source": [
        "## 1b) Create your convolutional neural network.\n",
        "*   Go to https://dljudge.io/generate + /<YOUR NAME\\> or use curl below\n",
        "*   Save the page as json \n",
        "*   Build your CNN architecture based on those modules and hyperparameters\n",
        "*   Use the right value for 'COMPUTE' \n",
        "*   See the example below"
      ],
      "metadata": {
        "id": "3S-ITJo9RKmA"
      }
    },
    {
      "cell_type": "code",
      "source": [
        "!curl https://dljudge.io/generate/adrienloizeau -o network1.json"
      ],
      "metadata": {
        "id": "gnmWWieDVm-g",
        "execution": {
          "iopub.status.busy": "2022-12-14T15:04:30.822377Z",
          "iopub.execute_input": "2022-12-14T15:04:30.823081Z",
          "iopub.status.idle": "2022-12-14T15:04:31.894808Z",
          "shell.execute_reply.started": "2022-12-14T15:04:30.823040Z",
          "shell.execute_reply": "2022-12-14T15:04:31.893610Z"
        },
        "trusted": true,
        "colab": {
          "base_uri": "https://localhost:8080/"
        },
        "outputId": "94f1cebc-7fe6-46f5-df19-fb79362e90a3"
      },
      "execution_count": 4,
      "outputs": [
        {
          "output_type": "stream",
          "name": "stdout",
          "text": [
            "  % Total    % Received % Xferd  Average Speed   Time    Time     Time  Current\n",
            "                                 Dload  Upload   Total   Spent    Left  Speed\n",
            "100  2912  100  2912    0     0   1098      0  0:00:02  0:00:02 --:--:--  1098\n"
          ]
        }
      ]
    },
    {
      "cell_type": "code",
      "source": [
        "def validate_network(model, input_dict):\n",
        "    \"\"\"\n",
        "    Validate if your network definition is same as provided architecture\n",
        "    \"\"\"\n",
        "    output = {}\n",
        "    i = 1\n",
        "    for layer in model.children():\n",
        "        if isinstance(layer, nn.Conv2d):\n",
        "            output[f'Layer_{str(i).zfill(3)}'] = {'type': 'Conv2d',\n",
        "                                                  'kernel_size': layer.kernel_size[0],\n",
        "                                                   'input': layer.in_channels,\n",
        "                                                   'output': layer.out_channels,\n",
        "                                                   'padding': layer.padding[0]}\n",
        "\n",
        "        if isinstance(layer, nn.ReLU):\n",
        "            output[f'Layer_{str(i).zfill(3)}'] = {'type': 'ReLU'}\n",
        "\n",
        "        if isinstance(layer, nn.MaxPool2d):\n",
        "            output[f'Layer_{str(i).zfill(3)}'] = {'type': 'MaxPool2d',\n",
        "                                                  'kernel_size': layer.kernel_size,\n",
        "                                                  'stride': layer.stride}\n",
        "\n",
        "        if isinstance(layer, nn.AdaptiveAvgPool2d):\n",
        "            output[f'Layer_{str(i).zfill(3)}'] = {'type': 'AdaptiveAvgPool2d',\n",
        "                                                  'output': layer.output_size}\n",
        "\n",
        "        if isinstance(layer, nn.BatchNorm2d):\n",
        "            output[f'Layer_{str(i).zfill(3)}'] = {'type': 'BatchNorm2d',\n",
        "                                                  'input': layer.num_features}\n",
        "\n",
        "        if isinstance(layer, nn.Dropout):\n",
        "            output[f'Layer_{str(i).zfill(3)}'] = {'type': 'Dropout',\n",
        "                                                  'p': layer.p}\n",
        "\n",
        "        if isinstance(layer, nn.Linear):\n",
        "            output[f'Layer_{str(i).zfill(3)}'] = {'type': 'Linear',\n",
        "                                                  'input': layer.in_features,\n",
        "                                                  'output': layer.out_features}\n",
        "\n",
        "        i += 1\n",
        "\n",
        "    \n",
        "    correct = True\n",
        "    for l in output.keys():\n",
        "        if l in input_dict:\n",
        "            inp_kvs = input_dict[l]\n",
        "            out_kvs = output[l]\n",
        "            for k in out_kvs:\n",
        "                if inp_kvs[k] != 'COMPUTE':\n",
        "                    if out_kvs[k] != inp_kvs[k]:\n",
        "                        print(out_kvs[k])\n",
        "                        print (f'Error in {l}, {k}!')\n",
        "                        correct = False\n",
        "\n",
        "    if correct:\n",
        "        print ('OK!')"
      ],
      "metadata": {
        "id": "fut0mqaSVm-g",
        "execution": {
          "iopub.status.busy": "2022-12-14T15:04:31.897452Z",
          "iopub.execute_input": "2022-12-14T15:04:31.897880Z",
          "iopub.status.idle": "2022-12-14T15:04:31.910698Z",
          "shell.execute_reply.started": "2022-12-14T15:04:31.897825Z",
          "shell.execute_reply": "2022-12-14T15:04:31.909659Z"
        },
        "trusted": true
      },
      "execution_count": 5,
      "outputs": []
    },
    {
      "cell_type": "code",
      "source": [
        "# *****START CODE \n",
        "# Import your individual architecture dictionnary here\n",
        "fin = open('CNN.json', 'r')\n",
        "my_architecture_dict = json.load(fin)\n",
        "fin.close()\n",
        "\n",
        "pprint(my_architecture_dict)\n",
        "# *****END CODE"
      ],
      "metadata": {
        "id": "hiihuvTRVm-h",
        "colab": {
          "base_uri": "https://localhost:8080/"
        },
        "outputId": "44ef1586-29ce-4e2d-d081-b0840f3a9cd3",
        "execution": {
          "iopub.status.busy": "2022-12-14T15:04:32.505968Z",
          "iopub.execute_input": "2022-12-14T15:04:32.506314Z",
          "iopub.status.idle": "2022-12-14T15:04:32.516331Z",
          "shell.execute_reply.started": "2022-12-14T15:04:32.506284Z",
          "shell.execute_reply": "2022-12-14T15:04:32.515318Z"
        },
        "trusted": true
      },
      "execution_count": 23,
      "outputs": [
        {
          "output_type": "stream",
          "name": "stdout",
          "text": [
            "{'Layer_001': {'input': 3,\n",
            "               'kernel_size': 3,\n",
            "               'output': 56,\n",
            "               'padding': 1,\n",
            "               'type': 'Conv2d'},\n",
            " 'Layer_002': {'type': 'ReLU'},\n",
            " 'Layer_003': {'kernel_size': 2, 'stride': 2, 'type': 'MaxPool2d'},\n",
            " 'Layer_004': {'input': 56,\n",
            "               'kernel_size': 3,\n",
            "               'output': 135,\n",
            "               'padding': 1,\n",
            "               'type': 'Conv2d'},\n",
            " 'Layer_005': {'type': 'ReLU'},\n",
            " 'Layer_006': {'kernel_size': 2, 'stride': 2, 'type': 'MaxPool2d'},\n",
            " 'Layer_007': {'input': 135,\n",
            "               'kernel_size': 3,\n",
            "               'output': 246,\n",
            "               'padding': 1,\n",
            "               'type': 'Conv2d'},\n",
            " 'Layer_008': {'type': 'ReLU'},\n",
            " 'Layer_009': {'input': 246,\n",
            "               'kernel_size': 3,\n",
            "               'output': 246,\n",
            "               'padding': 1,\n",
            "               'type': 'Conv2d'},\n",
            " 'Layer_010': {'type': 'ReLU'},\n",
            " 'Layer_011': {'kernel_size': 2, 'stride': 2, 'type': 'MaxPool2d'},\n",
            " 'Layer_012': {'input': 246,\n",
            "               'kernel_size': 3,\n",
            "               'output': 520,\n",
            "               'padding': 1,\n",
            "               'type': 'Conv2d'},\n",
            " 'Layer_013': {'type': 'ReLU'},\n",
            " 'Layer_014': {'input': 520,\n",
            "               'kernel_size': 3,\n",
            "               'output': 520,\n",
            "               'padding': 1,\n",
            "               'type': 'Conv2d'},\n",
            " 'Layer_015': {'type': 'ReLU'},\n",
            " 'Layer_016': {'kernel_size': 2, 'stride': 2, 'type': 'MaxPool2d'},\n",
            " 'Layer_017': {'input': 520,\n",
            "               'kernel_size': 3,\n",
            "               'output': 520,\n",
            "               'padding': 1,\n",
            "               'type': 'Conv2d'},\n",
            " 'Layer_018': {'type': 'ReLU'},\n",
            " 'Layer_019': {'input': 520,\n",
            "               'kernel_size': 3,\n",
            "               'output': 520,\n",
            "               'padding': 1,\n",
            "               'type': 'Conv2d'},\n",
            " 'Layer_020': {'type': 'ReLU'},\n",
            " 'Layer_021': {'kernel_size': 2, 'stride': 2, 'type': 'MaxPool2d'},\n",
            " 'Layer_022': {'output': 'COMPUTE', 'type': 'AdaptiveAvgPool2d'},\n",
            " 'Layer_023': {'p': 0.5112472379693787, 'type': 'Dropout'},\n",
            " 'Layer_024': {'input': 'COMPUTE', 'output': 2142, 'type': 'Linear'},\n",
            " 'Layer_025': {'type': 'ReLU'},\n",
            " 'Layer_026': {'p': 0.5112472379693787, 'type': 'Dropout'},\n",
            " 'Layer_027': {'input': 2142, 'output': 3067, 'type': 'Linear'},\n",
            " 'Layer_028': {'type': 'ReLU'},\n",
            " 'Layer_029': {'p': 0.5112472379693787, 'type': 'Dropout'},\n",
            " 'Layer_030': {'input': 3067, 'output': 3922, 'type': 'Linear'},\n",
            " 'Layer_031': {'type': 'ReLU'},\n",
            " 'Layer_032': {'input': 3922, 'output': 'COMPUTE', 'type': 'Linear'},\n",
            " 'StudentName': 'adrienloizeau',\n",
            " 'UUID': 'cefc8f3e5faa458c8add44008a6a7390'}\n"
          ]
        }
      ]
    },
    {
      "cell_type": "markdown",
      "source": [
        "### Defining the model"
      ],
      "metadata": {
        "id": "H0GdydoAakXk"
      }
    },
    {
      "cell_type": "code",
      "source": [
        "import torch\n",
        "import torch.nn as nn\n",
        "import torch.nn.functional as F\n",
        "\n",
        "# *****START CODE\n",
        "class ConvNet(nn.Module):\n",
        "    def __init__(self, inplanes :int, planes : int, stride = 1, downsample = None, \n",
        "                 groups = 1, base_width = 64, dilation = 1, norm_layer = None, nb_labels = 16):\n",
        "        super(ConvNet, self).__init__()\n",
        "        if norm_layer is None:\n",
        "            norm_layer = nn.BatchNorm2d\n",
        "\n",
        "        # ? \n",
        "        # width = int(planes * (base_width / 64.0)) * groups\n",
        "\n",
        "        width = int(planes * (base_width / 64.0)) * groups\n",
        "\n",
        "        self.conv1  = nn.Conv2d(width,56,3,padding  = 1)\n",
        "        self.batch1 =nn.BatchNorm2d(56)\n",
        "\n",
        "        self.relu1  = nn.ReLU()\n",
        "        self.maxpool1 = nn.MaxPool2d(2,2)\n",
        "\n",
        "        self.conv2  = nn.Conv2d(56,135,3,padding  = 1)\n",
        "        self.batch2 =nn.BatchNorm2d(135)\n",
        "\n",
        "        self.relu2  = nn.ReLU()\n",
        "        self.maxpool2 = nn.MaxPool2d(2,2)\n",
        "        \n",
        "        self.conv3  = nn.Conv2d(135,246,3,padding  = 1)\n",
        "        self.batch3 =nn.BatchNorm2d(246)\n",
        "        \n",
        "        self.relu3  = nn.ReLU()\n",
        "        self.conv4  = nn.Conv2d(246,246,3,padding  = 1)\n",
        "        \n",
        "        self.batch4 =nn.BatchNorm2d(246)\n",
        "        self.relu4  = nn.ReLU()\n",
        "        #10 \n",
        "        \n",
        "        self.maxpool3 = nn.MaxPool2d(2,2)\n",
        "        self.conv5  = nn.Conv2d(246,520,3,padding  = 1)\n",
        "        \n",
        "        self.batch5 =nn.BatchNorm2d(520)\n",
        "        self.relu5  = nn.ReLU()\n",
        "        \n",
        "        self.conv6  = nn.Conv2d(520,520,3,padding  = 1)\n",
        "        self.batch6 =nn.BatchNorm2d(520)\n",
        "\n",
        "        self.relu6  = nn.ReLU()\n",
        "        self.maxpool4 = nn.MaxPool2d(2,2)\n",
        "        \n",
        "        self.conv7  = nn.Conv2d(520,520,3,padding  = 1)\n",
        "        self.batch7 = nn.BatchNorm2d(520)\n",
        "        \n",
        "        self.relu7  = nn.ReLU()\n",
        "        self.conv8  = nn.Conv2d(520,520,3,padding  = 1)\n",
        "        \n",
        "        self.batch8 = nn.BatchNorm2d(520)\n",
        "        self.relu8  = nn.ReLU()\n",
        "        \n",
        "        self.maxpool5 = nn.MaxPool2d(2,2)\n",
        "        # Compute here set to 520 to fit the previous modules. \n",
        "        # AdaptiveAvgPool2d makes an average pooling\n",
        "        self.adapt1 = nn.AdaptiveAvgPool2d(1)\n",
        "        \n",
        "        # Does not modify the size \n",
        "        self.dropout1 = nn.Dropout(p=0.5112472379693787)\n",
        "        # We still are only with 520\n",
        "        self.linear1 = nn.Linear(520, 2142)\n",
        "        \n",
        "        self.relu9 = nn.ReLU()\n",
        "        self.dropout2 = nn.Dropout(p=0.5112472379693787)\n",
        "        \n",
        "        self.linear2 = nn.Linear(2142,3067)\n",
        "        self.relu10 = nn.ReLU()\n",
        "\n",
        "        self.dropout3 = nn.Dropout(p=0.5112472379693787)\n",
        "        self.linear3 = nn.Linear(3067,3922)\n",
        "        \n",
        "        self.relu11 = nn.ReLU()\n",
        "        \n",
        "        self.linear4 = nn.Linear(3922,nb_labels * planes)\n",
        "\n",
        "        \n",
        "    def forward(self, x):\n",
        "        x = self.conv1(x)\n",
        "        x = self.batch1(x)\n",
        "        x = self.relu1(x)\n",
        "        x = self.maxpool1(x)\n",
        "        x = self.conv2(x)\n",
        "        \n",
        "        x = self.batch2(x)\n",
        "        x = self.relu2(x)\n",
        "        \n",
        "        x = self.maxpool2(x)\n",
        "        x = self.conv3(x)\n",
        "\n",
        "        x = self.batch3(x)\n",
        "        x = self.relu3(x)\n",
        "\n",
        "        x = self.conv4(x)\n",
        "        x = self.batch4(x)\n",
        "        \n",
        "        x = self.relu4(x)\n",
        "        x = self.maxpool3(x)\n",
        "\n",
        "        x = self.conv5(x)\n",
        "        x = self.batch5(x)\n",
        "        \n",
        "        x = self.relu5(x)\n",
        "        x = self.conv6(x)\n",
        "        \n",
        "        x = self.batch6(x)\n",
        "        x = self.relu6(x)\n",
        "        \n",
        "        x = self.maxpool4(x)\n",
        "        x = self.conv7(x)\n",
        "\n",
        "        x = self.batch7(x)\n",
        "        x = self.relu7(x)\n",
        "        \n",
        "        x = self.conv8(x)\n",
        "        x = self.batch8(x)\n",
        "\n",
        "        \n",
        "        x = self.relu8(x)\n",
        "        x = self.maxpool5(x)\n",
        "        \n",
        "        x = self.adapt1(x)\n",
        "        x = self.dropout1(x)\n",
        "        x = torch.flatten(x, 1)\n",
        "        \n",
        "        x = self.linear1(x)\n",
        "        x = self.relu9(x)\n",
        "\n",
        "        x = self.dropout2(x)\n",
        "        x = self.linear2(x)\n",
        "        \n",
        "        x = self.relu10(x)\n",
        "        x = self.dropout3(x)\n",
        "\n",
        "        x = self.linear3(x)\n",
        "        x = self.relu11(x)\n",
        "\n",
        "        x = self.linear4(x)\n",
        "        return x\n",
        "# *****END CODE"
      ],
      "metadata": {
        "id": "9hb1skoXRKmA",
        "execution": {
          "iopub.status.busy": "2022-12-14T15:04:33.105546Z",
          "iopub.execute_input": "2022-12-14T15:04:33.106906Z",
          "iopub.status.idle": "2022-12-14T15:04:33.128005Z",
          "shell.execute_reply.started": "2022-12-14T15:04:33.106860Z",
          "shell.execute_reply": "2022-12-14T15:04:33.126969Z"
        },
        "trusted": true
      },
      "execution_count": 7,
      "outputs": []
    },
    {
      "cell_type": "markdown",
      "source": [
        "## 1c) Create the training scheme\n",
        "*    Initialize the model\n",
        "*    Validate the model\n",
        "*    Specify the training hyperparameters like type of optimizer, criterion and learning rate\n",
        "*    Specify number of epochs\n",
        "*    Connect the model and any further informations to WandB\n",
        "\n",
        "Then train the model, doing one evaluation pass per epoch (make sure to log any interesting metric to WandB during training)."
      ],
      "metadata": {
        "id": "1oCW4FGORKmC"
      }
    },
    {
      "cell_type": "markdown",
      "source": [
        "### Installing wandb"
      ],
      "metadata": {
        "id": "IYf6_blAW26z"
      }
    },
    {
      "cell_type": "code",
      "source": [
        "!pip install wandb --quiet\n",
        "\n",
        "# Import the library\n",
        "import wandb\n",
        "# Then connect to your W&B account\n",
        "def wandb_connect():\n",
        "    wandb_api_key_label = \"\"\n",
        "    wandb_api_key = \"77e0a94a0fa993f825495a3021ebfa5477225ce9\" # here use your API key from WandB interface\n",
        "\n",
        "    wandb_conx = wandb.login(key = wandb_api_key)\n",
        "    print(f\"Connected to Wandb online interface : {wandb_conx}\")\n",
        "\n",
        "wandb_connect()"
      ],
      "metadata": {
        "colab": {
          "base_uri": "https://localhost:8080/"
        },
        "id": "VsIk7NZCxeVO",
        "outputId": "6ea1fc84-85e5-43ea-b809-bfa5960c63d5",
        "execution": {
          "iopub.status.busy": "2022-12-14T15:04:34.726659Z",
          "iopub.execute_input": "2022-12-14T15:04:34.727535Z",
          "iopub.status.idle": "2022-12-14T15:04:44.377813Z",
          "shell.execute_reply.started": "2022-12-14T15:04:34.727496Z",
          "shell.execute_reply": "2022-12-14T15:04:44.376661Z"
        },
        "trusted": true
      },
      "execution_count": 8,
      "outputs": [
        {
          "output_type": "stream",
          "name": "stdout",
          "text": [
            "\u001b[K     |████████████████████████████████| 1.9 MB 35.9 MB/s \n",
            "\u001b[K     |████████████████████████████████| 173 kB 64.2 MB/s \n",
            "\u001b[K     |████████████████████████████████| 182 kB 71.3 MB/s \n",
            "\u001b[K     |████████████████████████████████| 62 kB 1.4 MB/s \n",
            "\u001b[K     |████████████████████████████████| 168 kB 77.3 MB/s \n",
            "\u001b[K     |████████████████████████████████| 168 kB 80.9 MB/s \n",
            "\u001b[K     |████████████████████████████████| 166 kB 78.1 MB/s \n",
            "\u001b[K     |████████████████████████████████| 166 kB 83.6 MB/s \n",
            "\u001b[K     |████████████████████████████████| 162 kB 76.5 MB/s \n",
            "\u001b[K     |████████████████████████████████| 162 kB 82.3 MB/s \n",
            "\u001b[K     |████████████████████████████████| 158 kB 80.4 MB/s \n",
            "\u001b[K     |████████████████████████████████| 157 kB 79.3 MB/s \n",
            "\u001b[K     |████████████████████████████████| 157 kB 81.2 MB/s \n",
            "\u001b[K     |████████████████████████████████| 157 kB 56.7 MB/s \n",
            "\u001b[K     |████████████████████████████████| 157 kB 74.8 MB/s \n",
            "\u001b[K     |████████████████████████████████| 157 kB 61.3 MB/s \n",
            "\u001b[K     |████████████████████████████████| 157 kB 62.2 MB/s \n",
            "\u001b[K     |████████████████████████████████| 157 kB 82.0 MB/s \n",
            "\u001b[K     |████████████████████████████████| 156 kB 63.1 MB/s \n",
            "\u001b[?25h  Building wheel for pathtools (setup.py) ... \u001b[?25l\u001b[?25hdone\n"
          ]
        },
        {
          "output_type": "stream",
          "name": "stderr",
          "text": [
            "ERROR:wandb.jupyter:Failed to detect the name of this notebook, you can set it manually with the WANDB_NOTEBOOK_NAME environment variable to enable code saving.\n",
            "\u001b[34m\u001b[1mwandb\u001b[0m: W&B API key is configured. Use \u001b[1m`wandb login --relogin`\u001b[0m to force relogin\n",
            "\u001b[34m\u001b[1mwandb\u001b[0m: \u001b[33mWARNING\u001b[0m If you're specifying your api key in code, ensure this code is not shared publicly.\n",
            "\u001b[34m\u001b[1mwandb\u001b[0m: \u001b[33mWARNING\u001b[0m Consider setting the WANDB_API_KEY environment variable, or running `wandb login` from the command line.\n",
            "\u001b[34m\u001b[1mwandb\u001b[0m: Appending key for api.wandb.ai to your netrc file: /root/.netrc\n"
          ]
        },
        {
          "output_type": "stream",
          "name": "stdout",
          "text": [
            "Connected to Wandb online interface : True\n"
          ]
        }
      ]
    },
    {
      "cell_type": "code",
      "source": [
        "from sklearn.metrics import multilabel_confusion_matrix, accuracy_score, precision_score, recall_score, confusion_matrix, ConfusionMatrixDisplay, classification_report "
      ],
      "metadata": {
        "id": "aCYRCk_HRoe-"
      },
      "execution_count": 9,
      "outputs": []
    },
    {
      "cell_type": "markdown",
      "source": [
        "### Exploring data before training"
      ],
      "metadata": {
        "id": "-j4WwxfJLPX-"
      }
    },
    {
      "cell_type": "code",
      "source": [
        "import matplotlib.pyplot as plt\n",
        "import numpy as np\n",
        "\n",
        "# functions to show an image\n",
        "def imshow(img):\n",
        "    img = img / 2 + 0.5     # unnormalize\n",
        "    npimg = img.numpy()\n",
        "    plt.imshow(np.transpose(npimg, (1, 2, 0)))\n",
        "    plt.show()\n",
        "\n",
        "\n",
        "classes = ('plane', 'car', 'bird', 'cat',\n",
        "           'deer', 'dog', 'frog', 'horse', 'ship', 'truck')\n",
        "    \n",
        "# get some random training images\n",
        "dataiter = iter(train_dataloader)\n",
        "images, labels = next(dataiter)\n",
        "\n",
        "# show images\n",
        "imshow(torchvision.utils.make_grid(images))\n",
        "# print labels\n",
        "print(' '.join(f'{classes[labels[j]]:5s}' for j in range(batch_size)))"
      ],
      "metadata": {
        "execution": {
          "iopub.status.busy": "2022-12-14T15:04:53.701543Z",
          "iopub.execute_input": "2022-12-14T15:04:53.701973Z",
          "iopub.status.idle": "2022-12-14T15:04:53.953799Z",
          "shell.execute_reply.started": "2022-12-14T15:04:53.701931Z",
          "shell.execute_reply": "2022-12-14T15:04:53.952825Z"
        },
        "trusted": true,
        "colab": {
          "base_uri": "https://localhost:8080/",
          "height": 307
        },
        "id": "H8wIQB1KLPX-",
        "outputId": "7c006d5b-ffa9-4fe9-f2c9-3afe18f8deb9"
      },
      "execution_count": 10,
      "outputs": [
        {
          "output_type": "display_data",
          "data": {
            "text/plain": [
              "<Figure size 432x288 with 1 Axes>"
            ],
            "image/png": "[encoded data removed]"
          },
          "metadata": {
            "needs_background": "light"
          }
        },
        {
          "output_type": "stream",
          "name": "stdout",
          "text": [
            "plane bird  plane car   dog   ship  car   truck cat   deer  deer  frog  frog  truck ship  truck deer  bird  dog   truck bird  truck plane car   plane truck car   dog   bird  dog   truck cat   dog   dog   car   ship  car   bird  bird  truck deer  frog  bird  frog  truck horse deer  car   deer  deer  plane bird  bird  horse truck plane bird  dog   ship  truck horse cat   truck bird \n"
          ]
        }
      ]
    },
    {
      "cell_type": "markdown",
      "source": [
        "### Back to code : defining the learning rate, optimizer and criterion"
      ],
      "metadata": {
        "id": "8xreesy0LPX_"
      }
    },
    {
      "cell_type": "code",
      "source": [
        "# *****START CODE\n",
        "import torch\n",
        "\n",
        "lr = 0.01\n",
        "model = ConvNet(3,3, nb_labels= 16)\n",
        "#validate_network(model, my_architecture_dict)\n",
        "optimizer = torch.optim.SGD(model.parameters(), lr=lr, momentum = 0.9)\n",
        "criterion = nn.CrossEntropyLoss()\n",
        "epochs = 1\n",
        "# *****END CODE"
      ],
      "metadata": {
        "id": "emDRadjhRKmD",
        "execution": {
          "iopub.status.busy": "2022-12-14T15:04:53.956301Z",
          "iopub.execute_input": "2022-12-14T15:04:53.956971Z",
          "iopub.status.idle": "2022-12-14T15:04:54.235721Z",
          "shell.execute_reply.started": "2022-12-14T15:04:53.956934Z",
          "shell.execute_reply": "2022-12-14T15:04:54.234644Z"
        },
        "trusted": true
      },
      "execution_count": 11,
      "outputs": []
    },
    {
      "cell_type": "code",
      "source": [
        "# Complete the hyperparams dict with the infos of your run\n",
        "# *****START CODE\n",
        "hyperparams = {\"Batch size\":batch_size,\n",
        "               \"Learning rate\":lr,\n",
        "               \"Epochs\":epochs}\n",
        "# *****END CODE\n",
        "\n",
        "# Init the WandB run with hyperparams\n",
        "wandb.init(config=hyperparams)"
      ],
      "metadata": {
        "colab": {
          "base_uri": "https://localhost:8080/",
          "height": 110
        },
        "id": "bNx4JHRJUl3j",
        "outputId": "82a1b094-fb56-4e3d-b590-bee84d303535"
      },
      "execution_count": 12,
      "outputs": [
        {
          "output_type": "stream",
          "name": "stderr",
          "text": [
            "\u001b[34m\u001b[1mwandb\u001b[0m: Currently logged in as: \u001b[33madrienloizeau\u001b[0m. Use \u001b[1m`wandb login --relogin`\u001b[0m to force relogin\n"
          ]
        },
        {
          "output_type": "display_data",
          "data": {
            "text/plain": [
              "<IPython.core.display.HTML object>"
            ],
            "text/html": [
              "Tracking run with wandb version 0.13.7"
            ]
          },
          "metadata": {}
        },
        {
          "output_type": "display_data",
          "data": {
            "text/plain": [
              "<IPython.core.display.HTML object>"
            ],
            "text/html": [
              "Run data is saved locally in <code>/content/wandb/run-20221215_163103-2gti4xid</code>"
            ]
          },
          "metadata": {}
        },
        {
          "output_type": "display_data",
          "data": {
            "text/plain": [
              "<IPython.core.display.HTML object>"
            ],
            "text/html": [
              "Syncing run <strong><a href=\"https://wandb.ai/adrienloizeau/uncategorized/runs/2gti4xid\" target=\"_blank\">winter-energy-35</a></strong> to <a href=\"https://wandb.ai/adrienloizeau/uncategorized\" target=\"_blank\">Weights & Biases</a> (<a href=\"https://wandb.me/run\" target=\"_blank\">docs</a>)<br/>"
            ]
          },
          "metadata": {}
        },
        {
          "output_type": "execute_result",
          "data": {
            "text/html": [
              "<button onClick=\"this.nextSibling.style.display='block';this.style.display='none';\">Display W&B run</button><iframe src=\"https://wandb.ai/adrienloizeau/uncategorized/runs/2gti4xid?jupyter=true\" style=\"border:none;width:100%;height:420px;display:none;\"></iframe>"
            ],
            "text/plain": [
              "<wandb.sdk.wandb_run.Run at 0x7fb0a60b3040>"
            ]
          },
          "metadata": {},
          "execution_count": 12
        }
      ]
    },
    {
      "cell_type": "markdown",
      "source": [
        "### First training loop"
      ],
      "metadata": {
        "id": "vZfe1nY7LPYA"
      }
    },
    {
      "cell_type": "code",
      "source": [
        "# Training on GPU\n",
        "device = torch.device('cuda:0' if torch.cuda.is_available() else 'cpu')\n",
        "model.to(device)\n",
        "# Assuming that we are on a CUDA machine, this should print a CUDA device:\n",
        "\n",
        "print(device)"
      ],
      "metadata": {
        "execution": {
          "iopub.status.busy": "2022-12-14T15:04:54.237373Z",
          "iopub.execute_input": "2022-12-14T15:04:54.237780Z",
          "iopub.status.idle": "2022-12-14T15:04:54.244433Z",
          "shell.execute_reply.started": "2022-12-14T15:04:54.237743Z",
          "shell.execute_reply": "2022-12-14T15:04:54.243366Z"
        },
        "trusted": true,
        "colab": {
          "base_uri": "https://localhost:8080/"
        },
        "id": "uux0Yf09LPYB",
        "outputId": "873bf1ac-c084-49c7-e512-a39ac24a2837"
      },
      "execution_count": 13,
      "outputs": [
        {
          "output_type": "stream",
          "name": "stdout",
          "text": [
            "cuda:0\n"
          ]
        }
      ]
    },
    {
      "cell_type": "code",
      "source": [
        "# Accuracy = (TP+TN)/(TP+TN+FP+FN) # How the models performs accross all classes\n",
        "def accuracy(preds, labels):\n",
        "    return (labels==preds.cpu()).sum()/len(labels) # Argmax of logits is the argmax of the predictions (the softmax of the logits)\n",
        "\n",
        "# Precision = TP / (TP+FP) # How reliable the model is in classifying samples as Positive\n",
        "# Think about how the confusion matrix is constructed!\n",
        "def precision(cm):\n",
        "    return [col[i]/col.sum() for i, col in enumerate(cm.T)]\n",
        "\n",
        "# Recall = TP / (TP+FN)\n",
        "# Think about how the confusion matrix is constructed!\n",
        "def recall(cm):\n",
        "    return [row[i]/row.sum() for i, row in enumerate(cm)]"
      ],
      "metadata": {
        "id": "8bXhTE9IROrv"
      },
      "execution_count": 14,
      "outputs": []
    },
    {
      "cell_type": "code",
      "source": [
        "def first_training_loop(model, epochs, train_dataloader, val_dataloader, optimizer, criterion, device):\n",
        "    total_train_losses = []\n",
        "    total_val_losses = []\n",
        "\n",
        "    for epoch in range(1,epochs+1):\n",
        "        print(f'epoch: {epoch}')\n",
        "        ##TRAINING##\n",
        "        model.train()\n",
        "        train_losses = []\n",
        "        trn_lbl = torch.Tensor([])\n",
        "        trn_preds = torch.Tensor([])\n",
        "        for i, batch, in enumerate(tqdm(train_dataloader)):\n",
        "            img_batch, lbl_batch = batch\n",
        "            trn_lbl=torch.cat((trn_lbl, lbl_batch))\n",
        "            img_batch, lbl_batch = img_batch.to(device), lbl_batch.to(device)\n",
        "\n",
        "            optimizer.zero_grad()\n",
        "            logits = model(img_batch)\n",
        "            trn_preds=torch.cat((trn_preds, logits.argmax(1).cpu()))\n",
        "            loss=criterion(logits, lbl_batch)\n",
        "            wandb.log({\"train_loss\":loss.item()}) # log the training loss at each batch\n",
        "            loss.backward()\n",
        "            optimizer.step()\n",
        "\n",
        "            train_losses.append(loss.item())\n",
        "\n",
        "        train_acc=accuracy(trn_preds, trn_lbl)\n",
        "        train_loss_mean = np.mean(train_losses)\n",
        "        total_train_losses.append(train_loss_mean)\n"
      ],
      "metadata": {
        "id": "EFeNZ8aIRK60"
      },
      "execution_count": 15,
      "outputs": []
    },
    {
      "cell_type": "code",
      "source": [
        "\n",
        "def save_model(model, path):# Saving the model\n",
        "  torch.save(model.state_dict(), path)"
      ],
      "metadata": {
        "id": "BR60qjCLcV67"
      },
      "execution_count": 16,
      "outputs": []
    },
    {
      "cell_type": "code",
      "source": [
        "#first_training_loop(model, epochs, train_dataloader, val_dataloader, optimizer, criterion, device)\n",
        "#save_model(model, \"first_modele-1.pth\")"
      ],
      "metadata": {
        "id": "hMKARcZWSIol"
      },
      "execution_count": 17,
      "outputs": []
    },
    {
      "cell_type": "markdown",
      "source": [
        "## 1d) Validate your model\n",
        "\n",
        "- Show that the model is not overfitting\n",
        "- How does your model perform ?"
      ],
      "metadata": {
        "id": "cIAwvLE7RKmD"
      }
    },
    {
      "cell_type": "code",
      "source": [
        "from tqdm import tqdm \n",
        "from sklearn import metrics\n",
        "\n",
        "def training_loop(model, epochs, train_dataloader, val_dataloader, optimizer, criterion, device):\n",
        "    total_train_losses = []\n",
        "    total_train_acc = []\n",
        "    total_val_losses = []\n",
        "    total_val_acc = []\n",
        "\n",
        "    for epoch in range(1,epochs+1):\n",
        "        print(f'epoch: {epoch}')\n",
        "        ##TRAINING##\n",
        "        model.train()\n",
        "        train_losses = []\n",
        "        trn_lbl = torch.Tensor([])\n",
        "        trn_preds = torch.Tensor([])\n",
        "        for i, batch, in enumerate(tqdm(train_dataloader)):\n",
        "            img_batch, lbl_batch = batch\n",
        "            trn_lbl=torch.cat((trn_lbl, lbl_batch))\n",
        "            img_batch, lbl_batch = img_batch.to(device), lbl_batch.to(device)\n",
        "\n",
        "            optimizer.zero_grad()\n",
        "            logits = model(img_batch)\n",
        "            trn_preds=torch.cat((trn_preds, logits.argmax(1).cpu()))\n",
        "            loss=criterion(logits, lbl_batch)\n",
        "            wandb.log({\"train_loss\":loss.item()}) # log the training loss at each batch\n",
        "            loss.backward()\n",
        "            optimizer.step()\n",
        "\n",
        "            train_losses.append(loss.item())\n",
        "\n",
        "        train_acc=accuracy(trn_preds, trn_lbl)\n",
        "        train_loss_mean = np.mean(train_losses)\n",
        "\n",
        "        total_train_losses.append(train_loss_mean)\n",
        "        total_train_acc.append(train_acc)\n",
        "\n",
        "        ##VALIDATION##\n",
        "        model.eval()\n",
        "        val_losses = []\n",
        "        val_lbl = torch.Tensor([])\n",
        "        val_preds = torch.Tensor([])\n",
        "        with torch.no_grad():\n",
        "\n",
        "            for i, batch, in enumerate(tqdm(val_dataloader)):\n",
        "                img_batch, lbl_batch = batch\n",
        "                val_lbl=torch.cat((val_lbl, lbl_batch))\n",
        "                img_batch, lbl_batch = img_batch.to(device), lbl_batch.to(device)\n",
        "\n",
        "                logits=model(img_batch)\n",
        "                val_preds=torch.cat((val_preds, logits.argmax(1).cpu()))\n",
        "                loss=criterion(logits, lbl_batch)\n",
        "\n",
        "                val_losses.append(loss.item())\n",
        "\n",
        "        val_acc=accuracy(val_preds, val_lbl)\n",
        "        val_loss_mean = np.mean(val_losses)\n",
        "        wandb.log({\"train_acc\":train_acc, \"val_acc\":val_acc, \"val_loss\":val_loss_mean}) # log the train & val accuracy and the val loss at each epoch\n",
        "        \n",
        "        total_val_losses.append(val_loss_mean)\n",
        "        total_val_acc.append(val_acc)\n",
        "\n",
        "    cm = confusion_matrix(val_lbl, val_preds)\n",
        "    disp = ConfusionMatrixDisplay(cm, display_labels=classes)\n",
        "    disp.plot(xticks_rotation='vertical')\n",
        "    plt.show()\n",
        "    print(f'Accuracy: {accuracy(val_lbl, val_preds)}')\n",
        "    print(f'Precision: {precision(cm)}')\n",
        "    print(f'Recall: {recall(cm)}')\n",
        "    print(classification_report(val_lbl, val_preds, target_names=classes))\n",
        "\n",
        "    \n",
        "    return total_train_losses, total_train_acc, total_val_acc, total_val_losses\n",
        "\n",
        "    # save_graph(total_train_losses, total_val_losses, epochs, save_folder)\n",
        "\n"
      ],
      "metadata": {
        "id": "XOV-WsrWTzx7"
      },
      "execution_count": 18,
      "outputs": []
    },
    {
      "cell_type": "code",
      "source": [
        "lr = 0.01\n",
        "model = ConvNet(3,3, nb_labels= 16)\n",
        "optimizer = torch.optim.SGD(model.parameters(), lr=lr)\n",
        "criterion = nn.CrossEntropyLoss()\n",
        "epochs = 10\n",
        "\n",
        "# Training on GPU\n",
        "device = torch.device('cuda:0' if torch.cuda.is_available() else 'cpu')\n",
        "model.to(device)\n",
        "\n",
        "hyperparams = {\"Batch size\":batch_size,\n",
        "               \"Learning rate\":lr,\n",
        "               \"Epochs\":epochs}\n",
        "# *****END CODE\n",
        "\n",
        "# Init the WandB run with hyperparams\n",
        "#wandb.init(config=hyperparams)\n",
        "\n",
        "#total_train_losses, total_train_acc, total_val_acc, total_val_losses = training_loop(model, epochs, train_dataloader, val_dataloader, optimizer, criterion, device)\n",
        "\n",
        "#save_model(model, \"model-e10-lr01.pth\")"
      ],
      "metadata": {
        "id": "vKxZyzPTT-Ol"
      },
      "execution_count": 19,
      "outputs": []
    },
    {
      "cell_type": "code",
      "source": [
        "import matplotlib.pyplot as plt\n",
        "# plot the graphs \n",
        "\n",
        "def plot_results(total_train_losses, total_train_acc, total_val_acc, total_val_losses, epochs) :\n",
        "  # Accuracy\n",
        "  fig, ax = plt.subplots()\n",
        "  ax.plot(range(epochs),total_val_acc )\n",
        "  ax.plot(range(epochs),total_train_acc )\n",
        "  plt.title(\"Accuracy for each epoch for the training and the validation set\")\n",
        "  plt.ylabel(\"Accuracy\")\n",
        "  plt.xlabel(\"Epochs\")\n",
        "  plt.show()\n",
        "\n",
        "  # Loss \n",
        "  fig, ax = plt.subplots()\n",
        "  ax.plot(range(epochs),total_val_losses )\n",
        "  ax.plot(range(epochs),total_train_acc )\n",
        "  plt.title(\"Loss for each epoch for the training and the validation set\")\n",
        "  plt.ylabel(\"Loss\")\n",
        "  plt.xlabel(\"Epochs\")\n",
        "  plt.show()\n",
        "\n",
        "#plot_results(total_train_losses, total_train_acc, total_val_acc, total_val_losses, epochs)"
      ],
      "metadata": {
        "id": "M6EwCxxA83gS"
      },
      "execution_count": 20,
      "outputs": []
    },
    {
      "cell_type": "markdown",
      "source": [
        "**How does the model perform ?**\n",
        "\n",
        "From the graphs we can see that the training has gone well as threw time our each epoch our model is giving better and better performances on the training set. \n",
        "We can also see that the model seems to overfit as it has better performances on the train dataset but very poor ones on the validation..\n",
        "\n",
        "The confusion matrix seems to validate our observations as the F1-score is only 0.62. The accuracy isn't also very good neither are the other Precision and Recall. \n",
        "\n",
        "One solution we could have would be to optimize the hyperparameters."
      ],
      "metadata": {
        "id": "Ol0a2bYt7Ean"
      }
    },
    {
      "cell_type": "markdown",
      "source": [
        "## 1e) Try to optimize hyperparameters, does it improve the performance of your model ?\n",
        "Anwser with a graph and comment on the result."
      ],
      "metadata": {
        "id": "J7B9gOlwbYny"
      }
    },
    {
      "cell_type": "markdown",
      "source": [
        "Let's try with different learning rates and a slighty modificated optimizer."
      ],
      "metadata": {
        "id": "6dq2flMMnsKr"
      }
    },
    {
      "cell_type": "code",
      "source": [
        "# Train a model from scratch for all these different learning rates\n",
        "\n",
        "rates = [10**(-2),10**(-3), 10**(-4), 10**(-5)]\n",
        "\n",
        "# For each learning rate\n",
        "for lr in rates : \n",
        "  print(\"#\"*50)\n",
        "  print(\"#\"*20,f\"\\t {lr}\",\"#\"*20)\n",
        "  print(\"#\"*50)\n",
        "  \n",
        "  # Model\n",
        "  model = ConvNet(3,3, nb_labels= 16)\n",
        "  criterion = nn.CrossEntropyLoss()\n",
        "  epochs = 10\n",
        "\n",
        "  # We add a momentum of 0.9 to help accelerate the gradients vectors in the right direction and thus leading to faster convergence\n",
        "  optimizer = torch.optim.SGD(model.parameters(), lr=lr, momentum = 0.9)\n",
        "\n",
        "  device = torch.device('cuda:0' if torch.cuda.is_available() else 'cpu')\n",
        "  model.to(device)\n",
        "\n",
        "  # Wandb\n",
        "  hyperparams = {\"Batch size\":batch_size,\n",
        "                \"Learning rate\":lr,\n",
        "                \"Epochs\":epochs}\n",
        "  wandb.init(config=hyperparams)\n",
        "\n",
        "  # Saving the model and plotting its accuracy and losses.\n",
        "  total_train_losses, total_train_acc, total_val_acc, total_val_losses = training_loop(model, epochs, train_dataloader, val_dataloader, optimizer, criterion, device)\n",
        "  save_model(model, f\"model-e10-lr{lr}.pth\")\n",
        "  plot_results(total_train_losses, total_train_acc, total_val_acc, total_val_losses, epochs)"
      ],
      "metadata": {
        "colab": {
          "base_uri": "https://localhost:8080/",
          "height": 1000,
          "referenced_widgets": [
            "15a0617e93404ab7aa532c1861f5e174",
            "50a3d3192a4e4945907ce20f750270c2",
            "25774188a2ef478eba5d9aa75573148c",
            "185e2decbf0e41a2af93fa56c1a4285f",
            "ce0ab3fca6504bddbd138e0b26003193",
            "aada7a5a48f14a1a80cda0a3a5036af3",
            "403495a0f3fe45d1b9a16e499b41075d",
            "75d64b63a3d543be97887d3cb90c749b",
            "9350079cb8c5494fbd20f915722023ef",
            "a3d1c13f20a447efb3300bbf58e28f80",
            "3ffab511079842968f880bf132791a0f",
            "1a0c261ee395475e8086163c78625223",
            "3d29ee0992b143bfbff1899e9ae4ac30",
            "eb6e48e989d7491c8dadb5790ffedf19",
            "e3dd49f054634a7bb6fb2e210eac9614",
            "22dc35cd144048f2b055ed773544b4f1"
          ]
        },
        "id": "9bonlE17g1n-",
        "outputId": "be4d8f8b-c10f-4e21-e591-ea8143f82485"
      },
      "execution_count": 21,
      "outputs": [
        {
          "output_type": "display_data",
          "data": {
            "text/plain": [
              "<IPython.core.display.HTML object>"
            ],
            "text/html": [
              "Finishing last run (ID:2gti4xid) before initializing another..."
            ]
          },
          "metadata": {}
        },
        {
          "output_type": "display_data",
          "data": {
            "text/plain": [
              "<IPython.core.display.HTML object>"
            ],
            "text/html": [
              "Waiting for W&B process to finish... <strong style=\"color:green\">(success).</strong>"
            ]
          },
          "metadata": {}
        },
        {
          "output_type": "display_data",
          "data": {
            "text/plain": [
              "VBox(children=(Label(value='0.001 MB of 0.001 MB uploaded (0.000 MB deduped)\\r'), FloatProgress(value=1.0, max…"
            ],
            "application/vnd.jupyter.widget-view+json": {
              "version_major": 2,
              "version_minor": 0,
              "model_id": "15a0617e93404ab7aa532c1861f5e174"
            }
          },
          "metadata": {}
        },
        {
          "output_type": "display_data",
          "data": {
            "text/plain": [
              "<IPython.core.display.HTML object>"
            ],
            "text/html": [
              "Synced <strong style=\"color:#cdcd00\">winter-energy-35</strong>: <a href=\"https://wandb.ai/adrienloizeau/uncategorized/runs/2gti4xid\" target=\"_blank\">https://wandb.ai/adrienloizeau/uncategorized/runs/2gti4xid</a><br/>Synced 5 W&B file(s), 0 media file(s), 0 artifact file(s) and 0 other file(s)"
            ]
          },
          "metadata": {}
        },
        {
          "output_type": "display_data",
          "data": {
            "text/plain": [
              "<IPython.core.display.HTML object>"
            ],
            "text/html": [
              "Find logs at: <code>./wandb/run-20221215_163103-2gti4xid/logs</code>"
            ]
          },
          "metadata": {}
        },
        {
          "output_type": "display_data",
          "data": {
            "text/plain": [
              "<IPython.core.display.HTML object>"
            ],
            "text/html": [
              "Successfully finished last run (ID:2gti4xid). Initializing new run:<br/>"
            ]
          },
          "metadata": {}
        },
        {
          "output_type": "display_data",
          "data": {
            "text/plain": [
              "<IPython.core.display.HTML object>"
            ],
            "text/html": [
              "Tracking run with wandb version 0.13.7"
            ]
          },
          "metadata": {}
        },
        {
          "output_type": "display_data",
          "data": {
            "text/plain": [
              "<IPython.core.display.HTML object>"
            ],
            "text/html": [
              "Run data is saved locally in <code>/content/wandb/run-20221215_163114-id1y4rwf</code>"
            ]
          },
          "metadata": {}
        },
        {
          "output_type": "display_data",
          "data": {
            "text/plain": [
              "<IPython.core.display.HTML object>"
            ],
            "text/html": [
              "Syncing run <strong><a href=\"https://wandb.ai/adrienloizeau/uncategorized/runs/id1y4rwf\" target=\"_blank\">mild-hill-36</a></strong> to <a href=\"https://wandb.ai/adrienloizeau/uncategorized\" target=\"_blank\">Weights & Biases</a> (<a href=\"https://wandb.me/run\" target=\"_blank\">docs</a>)<br/>"
            ]
          },
          "metadata": {}
        },
        {
          "output_type": "stream",
          "name": "stdout",
          "text": [
            "epoch: 1\n"
          ]
        },
        {
          "output_type": "stream",
          "name": "stderr",
          "text": [
            "100%|██████████| 782/782 [00:52<00:00, 14.96it/s]\n",
            "100%|██████████| 157/157 [00:03<00:00, 42.92it/s]\n"
          ]
        },
        {
          "output_type": "stream",
          "name": "stdout",
          "text": [
            "epoch: 2\n"
          ]
        },
        {
          "output_type": "stream",
          "name": "stderr",
          "text": [
            "100%|██████████| 782/782 [00:36<00:00, 21.29it/s]\n",
            "100%|██████████| 157/157 [00:05<00:00, 26.73it/s]\n"
          ]
        },
        {
          "output_type": "stream",
          "name": "stdout",
          "text": [
            "epoch: 3\n"
          ]
        },
        {
          "output_type": "stream",
          "name": "stderr",
          "text": [
            "100%|██████████| 782/782 [00:35<00:00, 21.86it/s]\n",
            "100%|██████████| 157/157 [00:03<00:00, 43.42it/s]\n"
          ]
        },
        {
          "output_type": "stream",
          "name": "stdout",
          "text": [
            "epoch: 4\n"
          ]
        },
        {
          "output_type": "stream",
          "name": "stderr",
          "text": [
            "100%|██████████| 782/782 [00:33<00:00, 23.10it/s]\n",
            "100%|██████████| 157/157 [00:03<00:00, 44.58it/s]\n"
          ]
        },
        {
          "output_type": "stream",
          "name": "stdout",
          "text": [
            "epoch: 5\n"
          ]
        },
        {
          "output_type": "stream",
          "name": "stderr",
          "text": [
            "100%|██████████| 782/782 [00:37<00:00, 20.80it/s]\n",
            "100%|██████████| 157/157 [00:03<00:00, 43.17it/s]\n"
          ]
        },
        {
          "output_type": "stream",
          "name": "stdout",
          "text": [
            "epoch: 6\n"
          ]
        },
        {
          "output_type": "stream",
          "name": "stderr",
          "text": [
            "100%|██████████| 782/782 [00:35<00:00, 22.19it/s]\n",
            "100%|██████████| 157/157 [00:03<00:00, 44.99it/s]\n"
          ]
        },
        {
          "output_type": "stream",
          "name": "stdout",
          "text": [
            "epoch: 7\n"
          ]
        },
        {
          "output_type": "stream",
          "name": "stderr",
          "text": [
            "100%|██████████| 782/782 [00:39<00:00, 20.00it/s]\n",
            "100%|██████████| 157/157 [00:04<00:00, 31.70it/s]\n"
          ]
        },
        {
          "output_type": "stream",
          "name": "stdout",
          "text": [
            "epoch: 8\n"
          ]
        },
        {
          "output_type": "stream",
          "name": "stderr",
          "text": [
            "100%|██████████| 782/782 [00:41<00:00, 18.86it/s]\n",
            "100%|██████████| 157/157 [00:03<00:00, 43.04it/s]\n"
          ]
        },
        {
          "output_type": "stream",
          "name": "stdout",
          "text": [
            "epoch: 9\n"
          ]
        },
        {
          "output_type": "stream",
          "name": "stderr",
          "text": [
            "100%|██████████| 782/782 [00:42<00:00, 18.44it/s]\n",
            "100%|██████████| 157/157 [00:04<00:00, 31.73it/s]\n"
          ]
        },
        {
          "output_type": "stream",
          "name": "stdout",
          "text": [
            "epoch: 10\n"
          ]
        },
        {
          "output_type": "stream",
          "name": "stderr",
          "text": [
            "100%|██████████| 782/782 [00:35<00:00, 21.83it/s]\n",
            "100%|██████████| 157/157 [00:03<00:00, 45.57it/s]\n"
          ]
        },
        {
          "output_type": "display_data",
          "data": {
            "text/plain": [
              "<Figure size 432x288 with 2 Axes>"
            ],
            "image/png": "[encoded data removed]"
          },
          "metadata": {
            "needs_background": "light"
          }
        },
        {
          "output_type": "stream",
          "name": "stdout",
          "text": [
            "Accuracy: 0.7450000047683716\n",
            "Precision: [0.6480565371024735, 0.8471454880294659, 0.842948717948718, 0.4609279609279609, 0.7909407665505227, 0.9054054054054054, 0.6735294117647059, 0.9190535491905355, 0.937192118226601, 0.8714733542319749]\n",
            "Recall: [0.917, 0.92, 0.526, 0.755, 0.681, 0.402, 0.916, 0.738, 0.761, 0.834]\n",
            "              precision    recall  f1-score   support\n",
            "\n",
            "       plane       0.65      0.92      0.76      1000\n",
            "         car       0.85      0.92      0.88      1000\n",
            "        bird       0.84      0.53      0.65      1000\n",
            "         cat       0.46      0.76      0.57      1000\n",
            "        deer       0.79      0.68      0.73      1000\n",
            "         dog       0.91      0.40      0.56      1000\n",
            "        frog       0.67      0.92      0.78      1000\n",
            "       horse       0.92      0.74      0.82      1000\n",
            "        ship       0.94      0.76      0.84      1000\n",
            "       truck       0.87      0.83      0.85      1000\n",
            "\n",
            "    accuracy                           0.74     10000\n",
            "   macro avg       0.79      0.74      0.74     10000\n",
            "weighted avg       0.79      0.74      0.74     10000\n",
            "\n"
          ]
        },
        {
          "output_type": "display_data",
          "data": {
            "text/plain": [
              "<Figure size 432x288 with 1 Axes>"
            ],
            "image/png": "[encoded data removed]"
          },
          "metadata": {
            "needs_background": "light"
          }
        },
        {
          "output_type": "display_data",
          "data": {
            "text/plain": [
              "<Figure size 432x288 with 1 Axes>"
            ],
            "image/png": "[encoded data removed]"
          },
          "metadata": {
            "needs_background": "light"
          }
        },
        {
          "output_type": "display_data",
          "data": {
            "text/plain": [
              "<IPython.core.display.HTML object>"
            ],
            "text/html": [
              "Finishing last run (ID:id1y4rwf) before initializing another..."
            ]
          },
          "metadata": {}
        },
        {
          "output_type": "display_data",
          "data": {
            "text/plain": [
              "<IPython.core.display.HTML object>"
            ],
            "text/html": [
              "Waiting for W&B process to finish... <strong style=\"color:green\">(success).</strong>"
            ]
          },
          "metadata": {}
        },
        {
          "output_type": "display_data",
          "data": {
            "text/plain": [
              "<IPython.core.display.HTML object>"
            ],
            "text/html": [
              "<style>\n",
              "    table.wandb td:nth-child(1) { padding: 0 10px; text-align: left ; width: auto;} td:nth-child(2) {text-align: left ; width: 100%}\n",
              "    .wandb-row { display: flex; flex-direction: row; flex-wrap: wrap; justify-content: flex-start; width: 100% }\n",
              "    .wandb-col { display: flex; flex-direction: column; flex-basis: 100%; flex: 1; padding: 10px; }\n",
              "    </style>\n",
              "<div class=\"wandb-row\"><div class=\"wandb-col\"><h3>Run history:</h3><br/><table class=\"wandb\"><tr><td>train_acc</td><td>▁▄▅▆▆▇▇███</td></tr><tr><td>train_loss</td><td>█▆▆▅▆▄▃▅▄▄▃▄▃▃▃▄▂▅▂▃▂▃▂▂▂▂▁▃▂▂▂▂▂▁▂▂▂▁▂▂</td></tr><tr><td>val_acc</td><td>▁▃▅▅▇▇▇██▇</td></tr><tr><td>val_loss</td><td>█▅▄▃▂▂▂▁▁▂</td></tr></table><br/></div><div class=\"wandb-col\"><h3>Run summary:</h3><br/><table class=\"wandb\"><tr><td>train_acc</td><td>0.85492</td></tr><tr><td>train_loss</td><td>0.25521</td></tr><tr><td>val_acc</td><td>0.745</td></tr><tr><td>val_loss</td><td>0.72608</td></tr></table><br/></div></div>"
            ]
          },
          "metadata": {}
        },
        {
          "output_type": "display_data",
          "data": {
            "text/plain": [
              "<IPython.core.display.HTML object>"
            ],
            "text/html": [
              "Synced <strong style=\"color:#cdcd00\">mild-hill-36</strong>: <a href=\"https://wandb.ai/adrienloizeau/uncategorized/runs/id1y4rwf\" target=\"_blank\">https://wandb.ai/adrienloizeau/uncategorized/runs/id1y4rwf</a><br/>Synced 5 W&B file(s), 0 media file(s), 0 artifact file(s) and 0 other file(s)"
            ]
          },
          "metadata": {}
        },
        {
          "output_type": "display_data",
          "data": {
            "text/plain": [
              "<IPython.core.display.HTML object>"
            ],
            "text/html": [
              "Find logs at: <code>./wandb/run-20221215_163114-id1y4rwf/logs</code>"
            ]
          },
          "metadata": {}
        },
        {
          "output_type": "display_data",
          "data": {
            "text/plain": [
              "<IPython.core.display.HTML object>"
            ],
            "text/html": [
              "Successfully finished last run (ID:id1y4rwf). Initializing new run:<br/>"
            ]
          },
          "metadata": {}
        },
        {
          "output_type": "display_data",
          "data": {
            "text/plain": [
              "<IPython.core.display.HTML object>"
            ],
            "text/html": [
              "Tracking run with wandb version 0.13.7"
            ]
          },
          "metadata": {}
        },
        {
          "output_type": "display_data",
          "data": {
            "text/plain": [
              "<IPython.core.display.HTML object>"
            ],
            "text/html": [
              "Run data is saved locally in <code>/content/wandb/run-20221215_163835-1j0buuoj</code>"
            ]
          },
          "metadata": {}
        },
        {
          "output_type": "display_data",
          "data": {
            "text/plain": [
              "<IPython.core.display.HTML object>"
            ],
            "text/html": [
              "Syncing run <strong><a href=\"https://wandb.ai/adrienloizeau/uncategorized/runs/1j0buuoj\" target=\"_blank\">sunny-wood-37</a></strong> to <a href=\"https://wandb.ai/adrienloizeau/uncategorized\" target=\"_blank\">Weights & Biases</a> (<a href=\"https://wandb.me/run\" target=\"_blank\">docs</a>)<br/>"
            ]
          },
          "metadata": {}
        },
        {
          "output_type": "stream",
          "name": "stdout",
          "text": [
            "epoch: 1\n"
          ]
        },
        {
          "output_type": "stream",
          "name": "stderr",
          "text": [
            "100%|██████████| 782/782 [00:35<00:00, 21.78it/s]\n",
            "100%|██████████| 157/157 [00:03<00:00, 42.93it/s]\n"
          ]
        },
        {
          "output_type": "stream",
          "name": "stdout",
          "text": [
            "epoch: 2\n"
          ]
        },
        {
          "output_type": "stream",
          "name": "stderr",
          "text": [
            "100%|██████████| 782/782 [00:33<00:00, 23.28it/s]\n",
            "100%|██████████| 157/157 [00:03<00:00, 43.52it/s]\n"
          ]
        },
        {
          "output_type": "stream",
          "name": "stdout",
          "text": [
            "epoch: 3\n"
          ]
        },
        {
          "output_type": "stream",
          "name": "stderr",
          "text": [
            "100%|██████████| 782/782 [00:33<00:00, 23.29it/s]\n",
            "100%|██████████| 157/157 [00:03<00:00, 44.10it/s]\n"
          ]
        },
        {
          "output_type": "stream",
          "name": "stdout",
          "text": [
            "epoch: 4\n"
          ]
        },
        {
          "output_type": "stream",
          "name": "stderr",
          "text": [
            "100%|██████████| 782/782 [00:33<00:00, 23.24it/s]\n",
            "100%|██████████| 157/157 [00:03<00:00, 44.64it/s]\n"
          ]
        },
        {
          "output_type": "stream",
          "name": "stdout",
          "text": [
            "epoch: 5\n"
          ]
        },
        {
          "output_type": "stream",
          "name": "stderr",
          "text": [
            "100%|██████████| 782/782 [00:33<00:00, 23.26it/s]\n",
            "100%|██████████| 157/157 [00:03<00:00, 45.35it/s]\n"
          ]
        },
        {
          "output_type": "stream",
          "name": "stdout",
          "text": [
            "epoch: 6\n"
          ]
        },
        {
          "output_type": "stream",
          "name": "stderr",
          "text": [
            "100%|██████████| 782/782 [00:34<00:00, 22.78it/s]\n",
            "100%|██████████| 157/157 [00:05<00:00, 28.63it/s]\n"
          ]
        },
        {
          "output_type": "stream",
          "name": "stdout",
          "text": [
            "epoch: 7\n"
          ]
        },
        {
          "output_type": "stream",
          "name": "stderr",
          "text": [
            "100%|██████████| 782/782 [00:35<00:00, 22.28it/s]\n",
            "100%|██████████| 157/157 [00:03<00:00, 44.07it/s]\n"
          ]
        },
        {
          "output_type": "stream",
          "name": "stdout",
          "text": [
            "epoch: 8\n"
          ]
        },
        {
          "output_type": "stream",
          "name": "stderr",
          "text": [
            "100%|██████████| 782/782 [00:34<00:00, 22.70it/s]\n",
            "100%|██████████| 157/157 [00:03<00:00, 43.11it/s]\n"
          ]
        },
        {
          "output_type": "stream",
          "name": "stdout",
          "text": [
            "epoch: 9\n"
          ]
        },
        {
          "output_type": "stream",
          "name": "stderr",
          "text": [
            "100%|██████████| 782/782 [00:34<00:00, 22.97it/s]\n",
            "100%|██████████| 157/157 [00:03<00:00, 43.12it/s]\n"
          ]
        },
        {
          "output_type": "stream",
          "name": "stdout",
          "text": [
            "epoch: 10\n"
          ]
        },
        {
          "output_type": "stream",
          "name": "stderr",
          "text": [
            "100%|██████████| 782/782 [00:33<00:00, 23.05it/s]\n",
            "100%|██████████| 157/157 [00:03<00:00, 44.54it/s]\n"
          ]
        },
        {
          "output_type": "display_data",
          "data": {
            "text/plain": [
              "<Figure size 432x288 with 2 Axes>"
            ],
            "image/png": "[encoded data removed]"
          },
          "metadata": {
            "needs_background": "light"
          }
        },
        {
          "output_type": "stream",
          "name": "stdout",
          "text": [
            "Accuracy: 0.727400004863739\n",
            "Precision: [0.7108753315649867, 0.902547065337763, 0.6885069817400644, 0.5655172413793104, 0.7604651162790698, 0.5529920692141312, 0.8706293706293706, 0.7768924302788844, 0.7303556658395368, 0.7519788918205804]\n",
            "Recall: [0.804, 0.815, 0.641, 0.328, 0.654, 0.767, 0.747, 0.78, 0.883, 0.855]\n",
            "              precision    recall  f1-score   support\n",
            "\n",
            "       plane       0.71      0.80      0.75      1000\n",
            "         car       0.90      0.81      0.86      1000\n",
            "        bird       0.69      0.64      0.66      1000\n",
            "         cat       0.57      0.33      0.42      1000\n",
            "        deer       0.76      0.65      0.70      1000\n",
            "         dog       0.55      0.77      0.64      1000\n",
            "        frog       0.87      0.75      0.80      1000\n",
            "       horse       0.78      0.78      0.78      1000\n",
            "        ship       0.73      0.88      0.80      1000\n",
            "       truck       0.75      0.85      0.80      1000\n",
            "\n",
            "    accuracy                           0.73     10000\n",
            "   macro avg       0.73      0.73      0.72     10000\n",
            "weighted avg       0.73      0.73      0.72     10000\n",
            "\n"
          ]
        },
        {
          "output_type": "display_data",
          "data": {
            "text/plain": [
              "<Figure size 432x288 with 1 Axes>"
            ],
            "image/png": "[encoded data removed]"
          },
          "metadata": {
            "needs_background": "light"
          }
        },
        {
          "output_type": "display_data",
          "data": {
            "text/plain": [
              "<Figure size 432x288 with 1 Axes>"
            ],
            "image/png": "[encoded data removed]"
          },
          "metadata": {
            "needs_background": "light"
          }
        },
        {
          "output_type": "display_data",
          "data": {
            "text/plain": [
              "<IPython.core.display.HTML object>"
            ],
            "text/html": [
              "Finishing last run (ID:1j0buuoj) before initializing another..."
            ]
          },
          "metadata": {}
        },
        {
          "output_type": "display_data",
          "data": {
            "text/plain": [
              "<IPython.core.display.HTML object>"
            ],
            "text/html": [
              "Waiting for W&B process to finish... <strong style=\"color:green\">(success).</strong>"
            ]
          },
          "metadata": {}
        },
        {
          "output_type": "display_data",
          "data": {
            "text/plain": [
              "VBox(children=(Label(value='0.001 MB of 0.001 MB uploaded (0.000 MB deduped)\\r'), FloatProgress(value=1.0, max…"
            ],
            "application/vnd.jupyter.widget-view+json": {
              "version_major": 2,
              "version_minor": 0,
              "model_id": "9350079cb8c5494fbd20f915722023ef"
            }
          },
          "metadata": {}
        },
        {
          "output_type": "display_data",
          "data": {
            "text/plain": [
              "<IPython.core.display.HTML object>"
            ],
            "text/html": [
              "<style>\n",
              "    table.wandb td:nth-child(1) { padding: 0 10px; text-align: left ; width: auto;} td:nth-child(2) {text-align: left ; width: 100%}\n",
              "    .wandb-row { display: flex; flex-direction: row; flex-wrap: wrap; justify-content: flex-start; width: 100% }\n",
              "    .wandb-col { display: flex; flex-direction: column; flex-basis: 100%; flex: 1; padding: 10px; }\n",
              "    </style>\n",
              "<div class=\"wandb-row\"><div class=\"wandb-col\"><h3>Run history:</h3><br/><table class=\"wandb\"><tr><td>train_acc</td><td>▁▄▅▆▆▇▇▇██</td></tr><tr><td>train_loss</td><td>█▆▅▅▆▄▄▄▄▄▃▃▄▃▃▄▃▃▃▂▄▂▂▂▂▂▂▂▂▁▂▂▂▁▁▁▁▁▁▂</td></tr><tr><td>val_acc</td><td>▁▅▅▇▆▆▇███</td></tr><tr><td>val_loss</td><td>█▅▄▂▃▃▂▂▁▂</td></tr></table><br/></div><div class=\"wandb-col\"><h3>Run summary:</h3><br/><table class=\"wandb\"><tr><td>train_acc</td><td>0.82992</td></tr><tr><td>train_loss</td><td>0.34992</td></tr><tr><td>val_acc</td><td>0.7274</td></tr><tr><td>val_loss</td><td>0.87232</td></tr></table><br/></div></div>"
            ]
          },
          "metadata": {}
        },
        {
          "output_type": "display_data",
          "data": {
            "text/plain": [
              "<IPython.core.display.HTML object>"
            ],
            "text/html": [
              "Synced <strong style=\"color:#cdcd00\">sunny-wood-37</strong>: <a href=\"https://wandb.ai/adrienloizeau/uncategorized/runs/1j0buuoj\" target=\"_blank\">https://wandb.ai/adrienloizeau/uncategorized/runs/1j0buuoj</a><br/>Synced 5 W&B file(s), 0 media file(s), 0 artifact file(s) and 0 other file(s)"
            ]
          },
          "metadata": {}
        },
        {
          "output_type": "display_data",
          "data": {
            "text/plain": [
              "<IPython.core.display.HTML object>"
            ],
            "text/html": [
              "Find logs at: <code>./wandb/run-20221215_163835-1j0buuoj/logs</code>"
            ]
          },
          "metadata": {}
        },
        {
          "output_type": "display_data",
          "data": {
            "text/plain": [
              "<IPython.core.display.HTML object>"
            ],
            "text/html": [
              "Successfully finished last run (ID:1j0buuoj). Initializing new run:<br/>"
            ]
          },
          "metadata": {}
        },
        {
          "output_type": "display_data",
          "data": {
            "text/plain": [
              "<IPython.core.display.HTML object>"
            ],
            "text/html": [
              "Tracking run with wandb version 0.13.7"
            ]
          },
          "metadata": {}
        },
        {
          "output_type": "display_data",
          "data": {
            "text/plain": [
              "<IPython.core.display.HTML object>"
            ],
            "text/html": [
              "Run data is saved locally in <code>/content/wandb/run-20221215_164507-3fbyz7x0</code>"
            ]
          },
          "metadata": {}
        },
        {
          "output_type": "display_data",
          "data": {
            "text/plain": [
              "<IPython.core.display.HTML object>"
            ],
            "text/html": [
              "Syncing run <strong><a href=\"https://wandb.ai/adrienloizeau/uncategorized/runs/3fbyz7x0\" target=\"_blank\">sweet-flower-41</a></strong> to <a href=\"https://wandb.ai/adrienloizeau/uncategorized\" target=\"_blank\">Weights & Biases</a> (<a href=\"https://wandb.me/run\" target=\"_blank\">docs</a>)<br/>"
            ]
          },
          "metadata": {}
        },
        {
          "output_type": "stream",
          "name": "stdout",
          "text": [
            "epoch: 1\n"
          ]
        },
        {
          "output_type": "stream",
          "name": "stderr",
          "text": [
            "100%|██████████| 782/782 [00:34<00:00, 22.96it/s]\n",
            "100%|██████████| 157/157 [00:03<00:00, 43.07it/s]\n"
          ]
        },
        {
          "output_type": "stream",
          "name": "stdout",
          "text": [
            "epoch: 2\n"
          ]
        },
        {
          "output_type": "stream",
          "name": "stderr",
          "text": [
            "100%|██████████| 782/782 [00:35<00:00, 22.23it/s]\n",
            "100%|██████████| 157/157 [00:03<00:00, 41.63it/s]\n"
          ]
        },
        {
          "output_type": "stream",
          "name": "stdout",
          "text": [
            "epoch: 3\n"
          ]
        },
        {
          "output_type": "stream",
          "name": "stderr",
          "text": [
            "100%|██████████| 782/782 [00:36<00:00, 21.38it/s]\n",
            "100%|██████████| 157/157 [00:03<00:00, 43.33it/s]\n"
          ]
        },
        {
          "output_type": "stream",
          "name": "stdout",
          "text": [
            "epoch: 4\n"
          ]
        },
        {
          "output_type": "stream",
          "name": "stderr",
          "text": [
            "100%|██████████| 782/782 [00:34<00:00, 22.98it/s]\n",
            "100%|██████████| 157/157 [00:04<00:00, 35.73it/s]\n"
          ]
        },
        {
          "output_type": "stream",
          "name": "stdout",
          "text": [
            "epoch: 5\n"
          ]
        },
        {
          "output_type": "stream",
          "name": "stderr",
          "text": [
            "100%|██████████| 782/782 [00:34<00:00, 22.88it/s]\n",
            "100%|██████████| 157/157 [00:03<00:00, 42.83it/s]\n"
          ]
        },
        {
          "output_type": "stream",
          "name": "stdout",
          "text": [
            "epoch: 6\n"
          ]
        },
        {
          "output_type": "stream",
          "name": "stderr",
          "text": [
            "100%|██████████| 782/782 [00:37<00:00, 20.90it/s]\n",
            "100%|██████████| 157/157 [00:05<00:00, 29.39it/s]\n"
          ]
        },
        {
          "output_type": "stream",
          "name": "stdout",
          "text": [
            "epoch: 7\n"
          ]
        },
        {
          "output_type": "stream",
          "name": "stderr",
          "text": [
            "100%|██████████| 782/782 [00:39<00:00, 19.73it/s]\n",
            "100%|██████████| 157/157 [00:03<00:00, 41.36it/s]\n"
          ]
        },
        {
          "output_type": "stream",
          "name": "stdout",
          "text": [
            "epoch: 8\n"
          ]
        },
        {
          "output_type": "stream",
          "name": "stderr",
          "text": [
            "100%|██████████| 782/782 [00:33<00:00, 23.07it/s]\n",
            "100%|██████████| 157/157 [00:03<00:00, 45.81it/s]\n"
          ]
        },
        {
          "output_type": "stream",
          "name": "stdout",
          "text": [
            "epoch: 9\n"
          ]
        },
        {
          "output_type": "stream",
          "name": "stderr",
          "text": [
            "100%|██████████| 782/782 [00:33<00:00, 23.19it/s]\n",
            "100%|██████████| 157/157 [00:03<00:00, 44.05it/s]\n"
          ]
        },
        {
          "output_type": "stream",
          "name": "stdout",
          "text": [
            "epoch: 10\n"
          ]
        },
        {
          "output_type": "stream",
          "name": "stderr",
          "text": [
            "100%|██████████| 782/782 [00:33<00:00, 23.10it/s]\n",
            "100%|██████████| 157/157 [00:03<00:00, 43.19it/s]\n"
          ]
        },
        {
          "output_type": "display_data",
          "data": {
            "text/plain": [
              "<Figure size 432x288 with 2 Axes>"
            ],
            "image/png": "[encoded data removed]"
          },
          "metadata": {
            "needs_background": "light"
          }
        },
        {
          "output_type": "stream",
          "name": "stdout",
          "text": [
            "Accuracy: 0.5648999810218811\n",
            "Precision: [0.6443181818181818, 0.5779748706577975, 0.5036927621861153, 0.404296875, 0.5374233128834356, 0.4761544284632854, 0.6027696793002916, 0.6379310344827587, 0.5970394736842105, 0.5831533477321814]\n",
            "Recall: [0.567, 0.782, 0.341, 0.207, 0.438, 0.629, 0.827, 0.592, 0.726, 0.54]\n",
            "              precision    recall  f1-score   support\n",
            "\n",
            "       plane       0.64      0.57      0.60      1000\n",
            "         car       0.58      0.78      0.66      1000\n",
            "        bird       0.50      0.34      0.41      1000\n",
            "         cat       0.40      0.21      0.27      1000\n",
            "        deer       0.54      0.44      0.48      1000\n",
            "         dog       0.48      0.63      0.54      1000\n",
            "        frog       0.60      0.83      0.70      1000\n",
            "       horse       0.64      0.59      0.61      1000\n",
            "        ship       0.60      0.73      0.66      1000\n",
            "       truck       0.58      0.54      0.56      1000\n",
            "\n",
            "    accuracy                           0.56     10000\n",
            "   macro avg       0.56      0.56      0.55     10000\n",
            "weighted avg       0.56      0.56      0.55     10000\n",
            "\n"
          ]
        },
        {
          "output_type": "display_data",
          "data": {
            "text/plain": [
              "<Figure size 432x288 with 1 Axes>"
            ],
            "image/png": "[encoded data removed]"
          },
          "metadata": {
            "needs_background": "light"
          }
        },
        {
          "output_type": "display_data",
          "data": {
            "text/plain": [
              "<Figure size 432x288 with 1 Axes>"
            ],
            "image/png": "[encoded data removed]"
          },
          "metadata": {
            "needs_background": "light"
          }
        },
        {
          "output_type": "display_data",
          "data": {
            "text/plain": [
              "<IPython.core.display.HTML object>"
            ],
            "text/html": [
              "Finishing last run (ID:3fbyz7x0) before initializing another..."
            ]
          },
          "metadata": {}
        },
        {
          "output_type": "display_data",
          "data": {
            "text/plain": [
              "<IPython.core.display.HTML object>"
            ],
            "text/html": [
              "Waiting for W&B process to finish... <strong style=\"color:green\">(success).</strong>"
            ]
          },
          "metadata": {}
        },
        {
          "output_type": "display_data",
          "data": {
            "text/plain": [
              "<IPython.core.display.HTML object>"
            ],
            "text/html": [
              "<style>\n",
              "    table.wandb td:nth-child(1) { padding: 0 10px; text-align: left ; width: auto;} td:nth-child(2) {text-align: left ; width: 100%}\n",
              "    .wandb-row { display: flex; flex-direction: row; flex-wrap: wrap; justify-content: flex-start; width: 100% }\n",
              "    .wandb-col { display: flex; flex-direction: column; flex-basis: 100%; flex: 1; padding: 10px; }\n",
              "    </style>\n",
              "<div class=\"wandb-row\"><div class=\"wandb-col\"><h3>Run history:</h3><br/><table class=\"wandb\"><tr><td>train_acc</td><td>▁▂▃▄▅▆▆▇▇█</td></tr><tr><td>train_loss</td><td>█▅▅▅▅▅▅▄▄▃▄▃▃▃▃▃▂▂▂▂▂▃▂▂▂▂▂▃▂▂▂▂▂▂▂▂▁▁▁▁</td></tr><tr><td>val_acc</td><td>▁▂▃▅▅▆▆▇██</td></tr><tr><td>val_loss</td><td>█▅▄▃▃▂▂▁▁▁</td></tr></table><br/></div><div class=\"wandb-col\"><h3>Run summary:</h3><br/><table class=\"wandb\"><tr><td>train_acc</td><td>0.56088</td></tr><tr><td>train_loss</td><td>1.08632</td></tr><tr><td>val_acc</td><td>0.5649</td></tr><tr><td>val_loss</td><td>1.22039</td></tr></table><br/></div></div>"
            ]
          },
          "metadata": {}
        },
        {
          "output_type": "display_data",
          "data": {
            "text/plain": [
              "<IPython.core.display.HTML object>"
            ],
            "text/html": [
              "Synced <strong style=\"color:#cdcd00\">sweet-flower-41</strong>: <a href=\"https://wandb.ai/adrienloizeau/uncategorized/runs/3fbyz7x0\" target=\"_blank\">https://wandb.ai/adrienloizeau/uncategorized/runs/3fbyz7x0</a><br/>Synced 5 W&B file(s), 0 media file(s), 0 artifact file(s) and 0 other file(s)"
            ]
          },
          "metadata": {}
        },
        {
          "output_type": "display_data",
          "data": {
            "text/plain": [
              "<IPython.core.display.HTML object>"
            ],
            "text/html": [
              "Find logs at: <code>./wandb/run-20221215_164507-3fbyz7x0/logs</code>"
            ]
          },
          "metadata": {}
        },
        {
          "output_type": "display_data",
          "data": {
            "text/plain": [
              "<IPython.core.display.HTML object>"
            ],
            "text/html": [
              "Successfully finished last run (ID:3fbyz7x0). Initializing new run:<br/>"
            ]
          },
          "metadata": {}
        },
        {
          "output_type": "display_data",
          "data": {
            "text/plain": [
              "<IPython.core.display.HTML object>"
            ],
            "text/html": [
              "Tracking run with wandb version 0.13.7"
            ]
          },
          "metadata": {}
        },
        {
          "output_type": "display_data",
          "data": {
            "text/plain": [
              "<IPython.core.display.HTML object>"
            ],
            "text/html": [
              "Run data is saved locally in <code>/content/wandb/run-20221215_165150-14j63chq</code>"
            ]
          },
          "metadata": {}
        },
        {
          "output_type": "display_data",
          "data": {
            "text/plain": [
              "<IPython.core.display.HTML object>"
            ],
            "text/html": [
              "Syncing run <strong><a href=\"https://wandb.ai/adrienloizeau/uncategorized/runs/14j63chq\" target=\"_blank\">young-grass-43</a></strong> to <a href=\"https://wandb.ai/adrienloizeau/uncategorized\" target=\"_blank\">Weights & Biases</a> (<a href=\"https://wandb.me/run\" target=\"_blank\">docs</a>)<br/>"
            ]
          },
          "metadata": {}
        },
        {
          "output_type": "stream",
          "name": "stdout",
          "text": [
            "epoch: 1\n"
          ]
        },
        {
          "output_type": "stream",
          "name": "stderr",
          "text": [
            "100%|██████████| 782/782 [00:34<00:00, 22.74it/s]\n",
            "100%|██████████| 157/157 [00:03<00:00, 44.69it/s]\n"
          ]
        },
        {
          "output_type": "stream",
          "name": "stdout",
          "text": [
            "epoch: 2\n"
          ]
        },
        {
          "output_type": "stream",
          "name": "stderr",
          "text": [
            "100%|██████████| 782/782 [00:37<00:00, 20.86it/s]\n",
            "100%|██████████| 157/157 [00:04<00:00, 31.79it/s]\n"
          ]
        },
        {
          "output_type": "stream",
          "name": "stdout",
          "text": [
            "epoch: 3\n"
          ]
        },
        {
          "output_type": "stream",
          "name": "stderr",
          "text": [
            "100%|██████████| 782/782 [00:40<00:00, 19.19it/s]\n",
            "100%|██████████| 157/157 [00:03<00:00, 44.63it/s]\n"
          ]
        },
        {
          "output_type": "stream",
          "name": "stdout",
          "text": [
            "epoch: 4\n"
          ]
        },
        {
          "output_type": "stream",
          "name": "stderr",
          "text": [
            "100%|██████████| 782/782 [00:38<00:00, 20.25it/s]\n",
            "100%|██████████| 157/157 [00:03<00:00, 43.82it/s]\n"
          ]
        },
        {
          "output_type": "stream",
          "name": "stdout",
          "text": [
            "epoch: 5\n"
          ]
        },
        {
          "output_type": "stream",
          "name": "stderr",
          "text": [
            "100%|██████████| 782/782 [00:37<00:00, 20.62it/s]\n",
            "100%|██████████| 157/157 [00:04<00:00, 31.44it/s]\n"
          ]
        },
        {
          "output_type": "stream",
          "name": "stdout",
          "text": [
            "epoch: 6\n"
          ]
        },
        {
          "output_type": "stream",
          "name": "stderr",
          "text": [
            "100%|██████████| 782/782 [00:38<00:00, 20.14it/s]\n",
            "100%|██████████| 157/157 [00:04<00:00, 37.72it/s]\n"
          ]
        },
        {
          "output_type": "stream",
          "name": "stdout",
          "text": [
            "epoch: 7\n"
          ]
        },
        {
          "output_type": "stream",
          "name": "stderr",
          "text": [
            "100%|██████████| 782/782 [00:34<00:00, 22.92it/s]\n",
            "100%|██████████| 157/157 [00:03<00:00, 44.02it/s]\n"
          ]
        },
        {
          "output_type": "stream",
          "name": "stdout",
          "text": [
            "epoch: 8\n"
          ]
        },
        {
          "output_type": "stream",
          "name": "stderr",
          "text": [
            "100%|██████████| 782/782 [00:33<00:00, 23.06it/s]\n",
            "100%|██████████| 157/157 [00:05<00:00, 29.03it/s]\n"
          ]
        },
        {
          "output_type": "stream",
          "name": "stdout",
          "text": [
            "epoch: 9\n"
          ]
        },
        {
          "output_type": "stream",
          "name": "stderr",
          "text": [
            "100%|██████████| 782/782 [00:42<00:00, 18.48it/s]\n",
            "100%|██████████| 157/157 [00:05<00:00, 28.83it/s]\n"
          ]
        },
        {
          "output_type": "stream",
          "name": "stdout",
          "text": [
            "epoch: 10\n"
          ]
        },
        {
          "output_type": "stream",
          "name": "stderr",
          "text": [
            "100%|██████████| 782/782 [00:39<00:00, 19.92it/s]\n",
            "100%|██████████| 157/157 [00:05<00:00, 30.52it/s]\n"
          ]
        },
        {
          "output_type": "display_data",
          "data": {
            "text/plain": [
              "<Figure size 432x288 with 2 Axes>"
            ],
            "image/png": "[encoded data removed]"
          },
          "metadata": {
            "needs_background": "light"
          }
        },
        {
          "output_type": "stream",
          "name": "stdout",
          "text": [
            "Accuracy: 0.2459000051021576\n",
            "Precision: [0.40352811466372657, 0.2724707779121322, 0.0, nan, 0.17821994009413777, 0.4095238095238095, 0.3598130841121495, 0.21148825065274152, 0.411663807890223, 0.23308270676691728]\n",
            "Recall: [0.366, 0.676, 0.0, 0.0, 0.833, 0.043, 0.077, 0.162, 0.24, 0.062]\n",
            "              precision    recall  f1-score   support\n",
            "\n",
            "       plane       0.40      0.37      0.38      1000\n",
            "         car       0.27      0.68      0.39      1000\n",
            "        bird       0.00      0.00      0.00      1000\n",
            "         cat       0.00      0.00      0.00      1000\n",
            "        deer       0.18      0.83      0.29      1000\n",
            "         dog       0.41      0.04      0.08      1000\n",
            "        frog       0.36      0.08      0.13      1000\n",
            "       horse       0.21      0.16      0.18      1000\n",
            "        ship       0.41      0.24      0.30      1000\n",
            "       truck       0.23      0.06      0.10      1000\n",
            "\n",
            "    accuracy                           0.25     10000\n",
            "   macro avg       0.25      0.25      0.19     10000\n",
            "weighted avg       0.25      0.25      0.19     10000\n",
            "\n"
          ]
        },
        {
          "output_type": "stream",
          "name": "stderr",
          "text": [
            "<ipython-input-14-27d1d1af3757>:8: RuntimeWarning: invalid value encountered in long_scalars\n",
            "  return [col[i]/col.sum() for i, col in enumerate(cm.T)]\n",
            "/usr/local/lib/python3.8/dist-packages/sklearn/metrics/_classification.py:1318: UndefinedMetricWarning: Precision and F-score are ill-defined and being set to 0.0 in labels with no predicted samples. Use `zero_division` parameter to control this behavior.\n",
            "  _warn_prf(average, modifier, msg_start, len(result))\n",
            "/usr/local/lib/python3.8/dist-packages/sklearn/metrics/_classification.py:1318: UndefinedMetricWarning: Precision and F-score are ill-defined and being set to 0.0 in labels with no predicted samples. Use `zero_division` parameter to control this behavior.\n",
            "  _warn_prf(average, modifier, msg_start, len(result))\n",
            "/usr/local/lib/python3.8/dist-packages/sklearn/metrics/_classification.py:1318: UndefinedMetricWarning: Precision and F-score are ill-defined and being set to 0.0 in labels with no predicted samples. Use `zero_division` parameter to control this behavior.\n",
            "  _warn_prf(average, modifier, msg_start, len(result))\n"
          ]
        },
        {
          "output_type": "display_data",
          "data": {
            "text/plain": [
              "<Figure size 432x288 with 1 Axes>"
            ],
            "image/png": "[encoded data removed]"
          },
          "metadata": {
            "needs_background": "light"
          }
        },
        {
          "output_type": "display_data",
          "data": {
            "text/plain": [
              "<Figure size 432x288 with 1 Axes>"
            ],
            "image/png": "[encoded data removed]"
          },
          "metadata": {
            "needs_background": "light"
          }
        }
      ]
    },
    {
      "cell_type": "markdown",
      "source": [
        "**Modifying the learning rate**\n",
        "\n",
        "\n",
        "In order to compare these different models, we can examine their accuracy, F1score, and graphs. The model that performs the best in terms of accuracy is the one with a learning rate of $10^{-2}$. Its corresponding accuracy and mean are 0.74, and the graph indicates that there is no overfitting.\n",
        "\n",
        "The remaining models all perform worse, starting with the model with a learning rate of $10^{-3}$ and an accuracy of 0.73. The next model, with a learning rate of $10^{-4}$, has an accuracy of only 0.56. Finally, the last model has an accuracy of 0.24. We can conclude that as the learning rate decreases, the model loses its ability to learn quickly."
      ],
      "metadata": {
        "id": "eKeF_jxanVuY"
      }
    },
    {
      "cell_type": "markdown",
      "source": [
        "## 1f) Get an intermediate layer from your convolutional neural network and visualize what patterns the network has learned\n",
        "*   Complete the following code that visualizes the patterns of the network\n",
        "*   Write a small description commenting on the visualized maps. What do you observe in the different visualizations of the feature maps?"
      ],
      "metadata": {
        "id": "1Kp8nRiGRKmF"
      }
    },
    {
      "cell_type": "code",
      "source": [
        "# The intermediate layer you should visualize:\n",
        "# print('My intermediate layer to visualize is: %s'%(my_architecture_dict['visualize']))"
      ],
      "metadata": {
        "id": "jSSGZEoFVm-k",
        "trusted": true
      },
      "execution_count": 25,
      "outputs": []
    },
    {
      "cell_type": "markdown",
      "source": [
        "`my_architecture_dict['visualize']` doesn't seem to work. For the next parts we will use the second `conv2D` layer.\n",
        "\n"
      ],
      "metadata": {
        "id": "gsOYINhd0r-Q"
      }
    },
    {
      "cell_type": "code",
      "source": [
        "import sys\n",
        "from skimage import io\n",
        "import torchvision.utils as vutils\n",
        "\n",
        "##function for printing the loss during optimization\n",
        "def write_flush(text, stream=sys.stdout):\n",
        "    stream.write(text)\n",
        "    stream.flush()\n",
        "    return\n",
        "\n",
        "## Number of feature maps in the intermediate layer that you have chosen. \n",
        "# *****START CODE\n",
        "n_conv =  56 \n",
        "# *****END CODE\n",
        "\n",
        "## Size of visualised filter.\n",
        "img_size = 32\n",
        "\n",
        "##load your optimal model\n",
        "# *****START CODE\n",
        "model = ConvNet(3,3)\n",
        "model.load_state_dict(torch.load('/content/model-e10-lr0.01.pth')) \n",
        "# *****END CODE\n",
        "\n",
        "## Create a submodel, until the intermediate layer of your choice.\n",
        "## Hint: Use model.#name# to create the succession of layers, where #name#\n",
        "## stands for the layer names that you defined in the initialization function \n",
        "## of your model.\n",
        "# *****START CODE\n",
        "submodel = nn.Sequential(\n",
        "  model.conv1,\n",
        "  model.batch1,\n",
        "  model.relu1,\n",
        "  model.maxpool1,\n",
        "  model.conv2\n",
        ")\n",
        "# *****END CODE\n",
        "\n",
        "## Put submodel in eval mode.\n",
        "submodel.eval()\n",
        "\n",
        "## Tensor to visualised filters. \n",
        "img_stack = torch.zeros((n_conv, 3, img_size, img_size))\n",
        "\n",
        "## Number of epochs to run for every filter. \n",
        "# *****START CODE\n",
        "n_epochs_per_filt = 10  #e.g 30\n",
        "# *****END CODE\n"
      ],
      "metadata": {
        "id": "xk4FadJSRKmG",
        "trusted": true
      },
      "execution_count": 29,
      "outputs": []
    },
    {
      "cell_type": "code",
      "source": [
        "# we will save the conv layer weights in this dict\n",
        "model_weights =dict()\n",
        "#we will save the  conv layers in this dict\n",
        "conv_layers = dict()\n",
        "# get all the model children as dict\n",
        "model_children = dict(model.named_children())\n",
        "#counter to keep count of the conv layers\n",
        "counter = 0\n",
        "#append all the conv layers and their respective wights to the list\n",
        "for name, child in model_children.items():\n",
        "    if type(child) == nn.Conv2d:\n",
        "        counter+=1\n",
        "        model_weights[name] = child.weight\n",
        "        conv_layers[name] = child\n",
        "    elif type(child) == nn.Sequential:\n",
        "        for j in range(len(child)):\n",
        "            for sub_name, sub_child in child[j].named_children():\n",
        "                if type(sub_child) == nn.Conv2d:\n",
        "                    counter+=1\n",
        "                    model_weights[name+'_'+str(j)+'_'+sub_name] = sub_child.weight\n",
        "                    conv_layers[name+'_'+str(j)+'_'+sub_name] = sub_child\n",
        "print(f\"Total convolution layers: {counter}\")\n",
        "conv_layers"
      ],
      "metadata": {
        "id": "4AI6CTZu6kN8",
        "outputId": "4fd262cf-a54d-4100-8071-1d6df32cd3ba",
        "colab": {
          "base_uri": "https://localhost:8080/"
        }
      },
      "execution_count": 30,
      "outputs": [
        {
          "output_type": "stream",
          "name": "stdout",
          "text": [
            "Total convolution layers: 8\n"
          ]
        },
        {
          "output_type": "execute_result",
          "data": {
            "text/plain": [
              "{'conv1': Conv2d(3, 56, kernel_size=(3, 3), stride=(1, 1), padding=(1, 1)),\n",
              " 'conv2': Conv2d(56, 135, kernel_size=(3, 3), stride=(1, 1), padding=(1, 1)),\n",
              " 'conv3': Conv2d(135, 246, kernel_size=(3, 3), stride=(1, 1), padding=(1, 1)),\n",
              " 'conv4': Conv2d(246, 246, kernel_size=(3, 3), stride=(1, 1), padding=(1, 1)),\n",
              " 'conv5': Conv2d(246, 520, kernel_size=(3, 3), stride=(1, 1), padding=(1, 1)),\n",
              " 'conv6': Conv2d(520, 520, kernel_size=(3, 3), stride=(1, 1), padding=(1, 1)),\n",
              " 'conv7': Conv2d(520, 520, kernel_size=(3, 3), stride=(1, 1), padding=(1, 1)),\n",
              " 'conv8': Conv2d(520, 520, kernel_size=(3, 3), stride=(1, 1), padding=(1, 1))}"
            ]
          },
          "metadata": {},
          "execution_count": 30
        }
      ]
    },
    {
      "cell_type": "code",
      "source": [
        "\n",
        "## Visualise every convolution. \n",
        "#for c in range(n_conv):\n",
        "for name, module in conv_layers.items():\n",
        "    ## Initialise with random image. \n",
        "    img = torch.rand(1, 3, img_size, img_size).float()\n",
        "\n",
        "    ## Turn on gradient calculation on the image\n",
        "    # *****START CODE\n",
        "    gradients = model.get_activations_gradient()\n",
        "    # *****END CODE\n",
        "\n",
        "    ## Define optimizer.\n",
        "    # *****START CODE\n",
        "    optimizer = torch.optim.SGD(model.parameters(), lr=lr, momentum = 0.9)\n",
        "    # *****END CODE\n",
        "    \n",
        "    for f in range(n_epochs_per_filt):\n",
        "        optimizer.zero_grad()\n",
        "\n",
        "        model.eval()\n",
        "        ## Feedforward propagation\n",
        "        ## Hint: In order to find the loss, compupte the negative of the activation of the hidden layer. \n",
        "        ## The objective is to produce an input image which maximizes the activation \n",
        "        ## of neurons in a particular hidden layer. \n",
        "        # *****START CODE\n",
        "        \n",
        "        \n",
        "        \n",
        "        # *****END CODE\n",
        "        write_flush('\\rFilter %d. Epoch %d. Loss = %.4f'%(c, f+1, loss.item()))\n",
        "\n",
        "    write_flush('\\n')\n",
        "    img_stack[c, :, :, :] = img[0].detach()\n",
        "\n",
        "## Make grid out of visualized filters. \n",
        "##Here you may have to adjust the properties of vutils.make_grid, depending on your needs. \n",
        "##For example, you may need to change the number of rows.\n",
        "G = vutils.make_grid(img_stack, nrow=8, normalize=True, padding=1).permute(1,2,0).numpy()\n",
        "plt.figure(figsize=(10,5))\n",
        "plt.imshow(G)\n",
        "plt.axis('equal')\n",
        "plt.axis('off')\n",
        "plt.show()"
      ],
      "metadata": {
        "id": "z_-XH8Li5rzN",
        "outputId": "b32f4a7e-35ed-4464-c69a-6f728c4245cb",
        "colab": {
          "base_uri": "https://localhost:8080/",
          "height": 450
        }
      },
      "execution_count": 38,
      "outputs": [
        {
          "output_type": "display_data",
          "data": {
            "text/plain": [
              "<Figure size 2160x3600 with 0 Axes>"
            ]
          },
          "metadata": {}
        },
        {
          "output_type": "display_data",
          "data": {
            "text/plain": [
              "<Figure size 2160x3600 with 0 Axes>"
            ]
          },
          "metadata": {}
        },
        {
          "output_type": "display_data",
          "data": {
            "text/plain": [
              "<Figure size 2160x3600 with 0 Axes>"
            ]
          },
          "metadata": {}
        },
        {
          "output_type": "display_data",
          "data": {
            "text/plain": [
              "<Figure size 2160x3600 with 0 Axes>"
            ]
          },
          "metadata": {}
        },
        {
          "output_type": "display_data",
          "data": {
            "text/plain": [
              "<Figure size 2160x3600 with 0 Axes>"
            ]
          },
          "metadata": {}
        },
        {
          "output_type": "display_data",
          "data": {
            "text/plain": [
              "<Figure size 2160x3600 with 0 Axes>"
            ]
          },
          "metadata": {}
        },
        {
          "output_type": "display_data",
          "data": {
            "text/plain": [
              "<Figure size 2160x3600 with 0 Axes>"
            ]
          },
          "metadata": {}
        },
        {
          "output_type": "display_data",
          "data": {
            "text/plain": [
              "<Figure size 2160x3600 with 0 Axes>"
            ]
          },
          "metadata": {}
        },
        {
          "output_type": "display_data",
          "data": {
            "text/plain": [
              "<Figure size 720x360 with 1 Axes>"
            ],
            "image/png": "[encoded data removed]"
          },
          "metadata": {
            "needs_background": "light"
          }
        }
      ]
    },
    {
      "cell_type": "markdown",
      "source": [
        "## 1g) Use GradCAM algorithm to visualize the saliency maps of your trained model at the same intermediate layer\n",
        "*   Install pytorch grad cam package if needed (https://github.com/jacobgil/pytorch-grad-cam)\n",
        "*   Complete the following code that visualizes GradCAM heatmaps on an input image from your model\n",
        "*   Try on several input images / classes. \n",
        "*   Write a small description commenting on the visualized heatmaps. "
      ],
      "metadata": {
        "id": "4dfeLUNQVm-k"
      }
    },
    {
      "cell_type": "code",
      "source": [
        "# Install pytorch grad cam package\n",
        "'''UNCOMMENT IF NEEDED (using google colab for example)\n",
        "! pip install grad-cam\n",
        "'''\n",
        "!git clone https://github.com/jacobgil/pytorch-grad-cam.git"
      ],
      "metadata": {
        "id": "jkXGgb11Vm-l",
        "trusted": true,
        "colab": {
          "base_uri": "https://localhost:8080/"
        },
        "outputId": "ce6afce7-a113-4e6f-9f5c-39e8e2bcf77f"
      },
      "execution_count": 39,
      "outputs": [
        {
          "output_type": "stream",
          "name": "stdout",
          "text": [
            "Cloning into 'pytorch-grad-cam'...\n",
            "remote: Enumerating objects: 1097, done.\u001b[K\n",
            "remote: Total 1097 (delta 0), reused 0 (delta 0), pack-reused 1097\u001b[K\n",
            "Receiving objects: 100% (1097/1097), 110.16 MiB | 17.77 MiB/s, done.\n",
            "Resolving deltas: 100% (609/609), done.\n"
          ]
        }
      ]
    },
    {
      "cell_type": "code",
      "source": [
        "i = 0\n",
        "\n",
        "for name, layer in model.named_modules():\n",
        "    if isinstance(layer, nn.Conv2d):\n",
        "        if i == 1:\n",
        "          break\n",
        "        i+=1"
      ],
      "metadata": {
        "id": "RPyHzV68-Ox0"
      },
      "execution_count": 48,
      "outputs": []
    },
    {
      "cell_type": "code",
      "source": [
        "dataiter = trainset[0]\n",
        "print(dataiter)"
      ],
      "metadata": {
        "id": "9mankOupA6WV",
        "outputId": "26b1281d-dd17-4fd7-8d1c-515122eb4d5a",
        "colab": {
          "base_uri": "https://localhost:8080/"
        }
      },
      "execution_count": 58,
      "outputs": [
        {
          "output_type": "stream",
          "name": "stdout",
          "text": [
            "(tensor([[[-0.5373, -0.6627, -0.6078,  ...,  0.2392,  0.1922,  0.1608],\n",
            "         [-0.8745, -1.0000, -0.8588,  ..., -0.0353, -0.0667, -0.0431],\n",
            "         [-0.8039, -0.8745, -0.6157,  ..., -0.0745, -0.0588, -0.1451],\n",
            "         ...,\n",
            "         [ 0.6314,  0.5765,  0.5529,  ...,  0.2549, -0.5608, -0.5843],\n",
            "         [ 0.4118,  0.3569,  0.4588,  ...,  0.4431, -0.2392, -0.3490],\n",
            "         [ 0.3882,  0.3176,  0.4039,  ...,  0.6941,  0.1843, -0.0353]],\n",
            "\n",
            "        [[-0.5137, -0.6392, -0.6235,  ...,  0.0353, -0.0196, -0.0275],\n",
            "         [-0.8431, -1.0000, -0.9373,  ..., -0.3098, -0.3490, -0.3176],\n",
            "         [-0.8118, -0.9451, -0.7882,  ..., -0.3412, -0.3412, -0.4275],\n",
            "         ...,\n",
            "         [ 0.3333,  0.2000,  0.2627,  ...,  0.0431, -0.7569, -0.7333],\n",
            "         [ 0.0902, -0.0353,  0.1294,  ...,  0.1608, -0.5137, -0.5843],\n",
            "         [ 0.1294,  0.0118,  0.1137,  ...,  0.4431, -0.0745, -0.2784]],\n",
            "\n",
            "        [[-0.5059, -0.6471, -0.6627,  ..., -0.1529, -0.2000, -0.1922],\n",
            "         [-0.8431, -1.0000, -1.0000,  ..., -0.5686, -0.6078, -0.5529],\n",
            "         [-0.8353, -1.0000, -0.9373,  ..., -0.6078, -0.6078, -0.6706],\n",
            "         ...,\n",
            "         [-0.2471, -0.7333, -0.7961,  ..., -0.4510, -0.9451, -0.8431],\n",
            "         [-0.2471, -0.6706, -0.7647,  ..., -0.2627, -0.7333, -0.7333],\n",
            "         [-0.0902, -0.2627, -0.3176,  ...,  0.0980, -0.3412, -0.4353]]]), 6)\n"
          ]
        }
      ]
    },
    {
      "cell_type": "code",
      "source": [
        "# initialize the VGG model\n",
        "\n",
        "# set the evaluation mode\n",
        "model.eval()\n",
        "\n",
        "# get the image from the dataloader\n",
        "img, _ = next(iter(train_dataloader))\n",
        "\n",
        "# get the most likely prediction of the model\n",
        "pred = model(img).argmax(dim=1)\n",
        "model.get_activations_gradient()"
      ],
      "metadata": {
        "id": "5zx3hDfeCgBY",
        "outputId": "d9e0982a-834d-4c55-f260-7b3216e659a8",
        "colab": {
          "base_uri": "https://localhost:8080/",
          "height": 336
        }
      },
      "execution_count": 76,
      "outputs": [
        {
          "output_type": "error",
          "ename": "AttributeError",
          "evalue": "ignored",
          "traceback": [
            "\u001b[0;31m---------------------------------------------------------------------------\u001b[0m",
            "\u001b[0;31mAttributeError\u001b[0m                            Traceback (most recent call last)",
            "\u001b[0;32m<ipython-input-76-fa4e554c50b5>\u001b[0m in \u001b[0;36m<module>\u001b[0;34m\u001b[0m\n\u001b[1;32m      9\u001b[0m \u001b[0;31m# get the most likely prediction of the model\u001b[0m\u001b[0;34m\u001b[0m\u001b[0;34m\u001b[0m\u001b[0;34m\u001b[0m\u001b[0m\n\u001b[1;32m     10\u001b[0m \u001b[0mpred\u001b[0m \u001b[0;34m=\u001b[0m \u001b[0mmodel\u001b[0m\u001b[0;34m(\u001b[0m\u001b[0mimg\u001b[0m\u001b[0;34m)\u001b[0m\u001b[0;34m.\u001b[0m\u001b[0margmax\u001b[0m\u001b[0;34m(\u001b[0m\u001b[0mdim\u001b[0m\u001b[0;34m=\u001b[0m\u001b[0;36m1\u001b[0m\u001b[0;34m)\u001b[0m\u001b[0;34m\u001b[0m\u001b[0;34m\u001b[0m\u001b[0m\n\u001b[0;32m---> 11\u001b[0;31m \u001b[0mmodel\u001b[0m\u001b[0;34m.\u001b[0m\u001b[0mget_activations_gradient\u001b[0m\u001b[0;34m(\u001b[0m\u001b[0;34m)\u001b[0m\u001b[0;34m\u001b[0m\u001b[0;34m\u001b[0m\u001b[0m\n\u001b[0m",
            "\u001b[0;32m/usr/local/lib/python3.8/dist-packages/torch/nn/modules/module.py\u001b[0m in \u001b[0;36m__getattr__\u001b[0;34m(self, name)\u001b[0m\n\u001b[1;32m   1263\u001b[0m             \u001b[0;32mif\u001b[0m \u001b[0mname\u001b[0m \u001b[0;32min\u001b[0m \u001b[0mmodules\u001b[0m\u001b[0;34m:\u001b[0m\u001b[0;34m\u001b[0m\u001b[0;34m\u001b[0m\u001b[0m\n\u001b[1;32m   1264\u001b[0m                 \u001b[0;32mreturn\u001b[0m \u001b[0mmodules\u001b[0m\u001b[0;34m[\u001b[0m\u001b[0mname\u001b[0m\u001b[0;34m]\u001b[0m\u001b[0;34m\u001b[0m\u001b[0;34m\u001b[0m\u001b[0m\n\u001b[0;32m-> 1265\u001b[0;31m         raise AttributeError(\"'{}' object has no attribute '{}'\".format(\n\u001b[0m\u001b[1;32m   1266\u001b[0m             type(self).__name__, name))\n\u001b[1;32m   1267\u001b[0m \u001b[0;34m\u001b[0m\u001b[0m\n",
            "\u001b[0;31mAttributeError\u001b[0m: 'ConvNet' object has no attribute 'get_activations_gradient'"
          ]
        }
      ]
    },
    {
      "cell_type": "code",
      "source": [
        "img[0]"
      ],
      "metadata": {
        "id": "Bjx3oTefDA3y",
        "outputId": "0e3e6bff-e43b-4f04-d8e8-dd0dfe1fc777",
        "colab": {
          "base_uri": "https://localhost:8080/"
        }
      },
      "execution_count": 67,
      "outputs": [
        {
          "output_type": "execute_result",
          "data": {
            "text/plain": [
              "tensor([[[-0.6314, -0.4824, -0.4745,  ...,  0.6941,  0.6863,  0.7098],\n",
              "         [-0.4667, -0.4431, -0.4510,  ...,  0.6941,  0.7020,  0.7176],\n",
              "         [-0.5216, -0.5294, -0.4275,  ...,  0.1137,  0.1608,  0.2078],\n",
              "         ...,\n",
              "         [-0.0824, -0.1059, -0.0353,  ...,  0.0902,  0.1451,  0.0824],\n",
              "         [-0.0353, -0.0510, -0.0275,  ...,  0.1059,  0.0588, -0.0039],\n",
              "         [-0.0824, -0.0431,  0.0196,  ...,  0.2549,  0.2627,  0.2706]],\n",
              "\n",
              "        [[-0.5137, -0.3569, -0.3412,  ...,  0.8118,  0.8039,  0.8275],\n",
              "         [-0.3333, -0.3098, -0.3176,  ...,  0.8118,  0.8196,  0.8353],\n",
              "         [-0.3961, -0.3961, -0.2941,  ...,  0.2706,  0.3255,  0.3804],\n",
              "         ...,\n",
              "         [ 0.0980,  0.0745,  0.1373,  ...,  0.1922,  0.2235,  0.1686],\n",
              "         [ 0.1451,  0.1294,  0.1451,  ...,  0.1686,  0.1137,  0.0745],\n",
              "         [ 0.0980,  0.1294,  0.1922,  ...,  0.2471,  0.2549,  0.2627]],\n",
              "\n",
              "        [[-0.7490, -0.6549, -0.6627,  ...,  1.0000,  1.0000,  1.0000],\n",
              "         [-0.6392, -0.6471, -0.6627,  ...,  0.9529,  0.9765,  0.9843],\n",
              "         [-0.7098, -0.7255, -0.6078,  ...,  0.1686,  0.2235,  0.2392],\n",
              "         ...,\n",
              "         [-0.4980, -0.5216, -0.4353,  ..., -0.4745, -0.4588, -0.4353],\n",
              "         [-0.4667, -0.4902, -0.4275,  ..., -0.3098, -0.3490, -0.3804],\n",
              "         [-0.5059, -0.4667, -0.3882,  ..., -0.2157, -0.2000, -0.1922]]])"
            ]
          },
          "metadata": {},
          "execution_count": 67
        }
      ]
    },
    {
      "cell_type": "code",
      "source": [
        "from pytorch_grad_cam import GradCAM\n",
        "from pytorch_grad_cam.utils.image import show_cam_on_image\n",
        "use_cuda = True\n",
        "\n",
        "# *****START CODE\n",
        "model = ConvNet(3,3)\n",
        "model.load_state_dict(torch.load('drive/..../model.pt'))\n",
        "\n",
        "# Get your intermediate layer\n",
        "#target_layers = [model. ...]\n",
        "dataiter = trainset[0]\n",
        "rgb_img, target_category = dataiter\n",
        "\n",
        "input_tensor = # Create an input tensor from your image for your model..\n",
        "# Note: input_tensor can be a batch tensor with several images!\n",
        "# *****END CODE\n",
        "\n",
        "# Construct the CAM object once, and then re-use it on many images:\n",
        "cam = GradCAM(model=model, target_layers=layer, use_cuda=use_cuda)\n",
        "\n",
        "# You can also pass aug_smooth=True and eigen_smooth=True, to apply smoothing.\n",
        "grayscale_cam = cam(input_tensor=input_tensor, target_category=target_category)\n",
        "\n",
        "# In this example grayscale_cam has only one image in the batch:\n",
        "grayscale_cam = grayscale_cam[0, :]\n",
        "visualization = show_cam_on_image(rgb_img, grayscale_cam, use_rgb=True)\n",
        "\n",
        "# Plot figure\n",
        "plt.figure()\n",
        "plt.imshow(visualization)"
      ],
      "metadata": {
        "id": "FU7OPn3cVm-l",
        "trusted": true,
        "colab": {
          "base_uri": "https://localhost:8080/",
          "height": 134
        },
        "outputId": "8b94a48f-597b-4496-df65-862d61208cdd"
      },
      "execution_count": 55,
      "outputs": [
        {
          "output_type": "error",
          "ename": "SyntaxError",
          "evalue": "ignored",
          "traceback": [
            "\u001b[0;36m  File \u001b[0;32m\"<ipython-input-55-28e0e2913bb1>\"\u001b[0;36m, line \u001b[0;32m14\u001b[0m\n\u001b[0;31m    input_tensor = # Create an input tensor from your image for your model..\u001b[0m\n\u001b[0m                   ^\u001b[0m\n\u001b[0;31mSyntaxError\u001b[0m\u001b[0;31m:\u001b[0m invalid syntax\n"
          ]
        }
      ]
    },
    {
      "cell_type": "markdown",
      "source": [
        "### Question 2 - Train on geometrical shapes"
      ],
      "metadata": {
        "id": "o3QK7dhJRKmH"
      }
    },
    {
      "cell_type": "markdown",
      "source": [
        "Function 'generate_a_triangle' produces images depicting random triangles along with the (x,y) coordinates of the vertices. Create a convolutional neural network that receives as input the triangle image and predicts the corresponding (x,y) coordinates of the triangle's vertices. \n",
        "*  Read and understand the following code"
      ],
      "metadata": {
        "id": "-yudhcXrRKmH"
      }
    },
    {
      "cell_type": "code",
      "source": [
        "import matplotlib.pyplot as plt\n",
        "%matplotlib inline\n",
        "import numpy as np\n",
        "\n",
        "# On some implementations of matplotlib, you may need to change this value\n",
        "IMAGE_SIZE = 72\n",
        "\n",
        "def generate_a_drawing(figsize, U, V):\n",
        "    fig = plt.figure(figsize=(figsize,figsize))\n",
        "    ax = plt.subplot(111)\n",
        "    plt.axis('Off')\n",
        "    ax.set_xlim(0,figsize)\n",
        "    ax.set_ylim(0,figsize)\n",
        "    ax.fill(U, V, \"k\")\n",
        "    fig.canvas.draw()\n",
        "    imdata = np.frombuffer(fig.canvas.tostring_rgb(), dtype=np.uint8)[::3].astype(np.float32)\n",
        "    imdata = imdata + np.random.random(imdata.size)\n",
        "    plt.close(fig)\n",
        "    return imdata\n",
        "\n",
        "def generate_a_triangle():\n",
        "    figsize = 1.0\n",
        "    U = np.random.random(3)\n",
        "    V = np.random.random(3)\n",
        "    imdata = generate_a_drawing(figsize, U, V)\n",
        "    return [imdata, [U[0], V[0], U[1], V[1], U[2], V[2]]]\n",
        "\n",
        "[im, v] = generate_a_triangle()\n",
        "plt.imshow(im.reshape(IMAGE_SIZE,IMAGE_SIZE), cmap='gray')\n",
        "\n",
        "def generate_dataset_regression(nb_samples):\n",
        "    # Getting im_size:\n",
        "    im_size = generate_a_triangle()[0].shape[0]\n",
        "    X = np.zeros([nb_samples,im_size])\n",
        "    Y = np.zeros([nb_samples, 6])\n",
        "    print('Creating data:')\n",
        "    for i in range(nb_samples):\n",
        "        if i % 10 == 0:\n",
        "            print(i)\n",
        "        [X[i], Y[i]] = generate_a_triangle()\n",
        "    X = X / 255\n",
        "    return [X, Y]\n",
        "\n",
        "import matplotlib.patches as patches\n",
        "\n",
        "def visualize_prediction(x, y):\n",
        "    fig, ax = plt.subplots(figsize=(5, 5))\n",
        "    I = x.reshape((IMAGE_SIZE,IMAGE_SIZE))\n",
        "    ax.imshow(I, extent=[-0.15,1.15,-0.15,1.15],cmap='gray')\n",
        "    ax.set_xlim([0,1])\n",
        "    ax.set_ylim([0,1])\n",
        "\n",
        "    xy = y.reshape(3,2)\n",
        "    tri = patches.Polygon(xy, closed=True, fill = False, edgecolor = 'r', linewidth = 5, alpha = 0.5)\n",
        "    ax.add_patch(tri)\n",
        "\n",
        "    plt.show()\n",
        "\n",
        "def generate_test_set_regression():\n",
        "    np.random.seed(42)\n",
        "    [X_test, Y_test] = generate_dataset_regression(300)\n",
        "    return [X_test, Y_test]"
      ],
      "metadata": {
        "id": "aptobJOZbRZd",
        "trusted": true
      },
      "execution_count": null,
      "outputs": []
    },
    {
      "cell_type": "markdown",
      "source": [
        "2a) Use function 'generate_dataset_regression' to create the dataset. Split the dataset to training and validation parts."
      ],
      "metadata": {
        "id": "clB8r3jMRKmI"
      }
    },
    {
      "cell_type": "code",
      "source": [
        "##generate dataset\n",
        "# *****START CODE\n",
        "\n",
        "# *****END CODE"
      ],
      "metadata": {
        "id": "6Y7mW83fRKmJ",
        "trusted": true
      },
      "execution_count": null,
      "outputs": []
    },
    {
      "cell_type": "code",
      "source": [
        "##split the dataset to training and validation parts\n",
        "# *****START CODE\n",
        "\n",
        "# *****END CODE"
      ],
      "metadata": {
        "id": "xIwVanB4RKmK",
        "execution": {
          "iopub.status.busy": "2022-12-14T14:53:20.295512Z",
          "iopub.status.idle": "2022-12-14T14:53:20.296180Z",
          "shell.execute_reply.started": "2022-12-14T14:53:20.295882Z",
          "shell.execute_reply": "2022-12-14T14:53:20.295908Z"
        },
        "trusted": true
      },
      "execution_count": null,
      "outputs": []
    },
    {
      "cell_type": "markdown",
      "source": [
        "2b) Use function 'generate_test_set' to create the testing dataset."
      ],
      "metadata": {
        "id": "NEoZyhgZRKmK"
      }
    },
    {
      "cell_type": "code",
      "source": [
        "##generate test dataset\n",
        "# *****START CODE\n",
        "\n",
        "# *****END CODE"
      ],
      "metadata": {
        "id": "PE6e3nszRKmK",
        "execution": {
          "iopub.status.busy": "2022-12-14T14:53:20.297733Z",
          "iopub.status.idle": "2022-12-14T14:53:20.298463Z",
          "shell.execute_reply.started": "2022-12-14T14:53:20.298175Z",
          "shell.execute_reply": "2022-12-14T14:53:20.298200Z"
        },
        "trusted": true
      },
      "execution_count": null,
      "outputs": []
    },
    {
      "cell_type": "markdown",
      "source": [
        "2c) Create your own convolutional neural network.\n",
        "* Begin with the previous exercise model architecture\n",
        "* Optimize the architecture to perform well on predicting the different coordinates"
      ],
      "metadata": {
        "id": "tcsDj8eQRKmK"
      }
    },
    {
      "cell_type": "code",
      "source": [
        "import torch\n",
        "import torch.nn as nn\n",
        "import torch.nn.functional as F\n",
        "\n",
        "# *****START CODE\n",
        "class ConvNetR(nn.Module):\n",
        "    def __init__(self):\n",
        "        super(ConvNetR, self).__init__()\n",
        "\n",
        "\n",
        "\n",
        "    def forward(self, x):\n",
        "\n",
        "\n",
        "# *****END CODE"
      ],
      "metadata": {
        "id": "hQYXQV5LRKmL",
        "execution": {
          "iopub.status.busy": "2022-12-14T14:53:20.301455Z",
          "iopub.status.idle": "2022-12-14T14:53:20.302789Z",
          "shell.execute_reply.started": "2022-12-14T14:53:20.302489Z",
          "shell.execute_reply": "2022-12-14T14:53:20.302518Z"
        },
        "trusted": true
      },
      "execution_count": null,
      "outputs": []
    },
    {
      "cell_type": "markdown",
      "source": [
        "2d) Define learning rate, model, optimizer, criterion and number of epochs."
      ],
      "metadata": {
        "id": "U6PxmyfqRKmM"
      }
    },
    {
      "cell_type": "code",
      "source": [
        "# *****START CODE\n",
        "lr = \n",
        "model = \n",
        "optimizer = \n",
        "criterion = \n",
        "epochs = \n",
        "# *****END CODE"
      ],
      "metadata": {
        "id": "vS9LIDmlRKmM",
        "execution": {
          "iopub.status.busy": "2022-12-14T14:53:20.304202Z",
          "iopub.status.idle": "2022-12-14T14:53:20.304766Z",
          "shell.execute_reply.started": "2022-12-14T14:53:20.304463Z",
          "shell.execute_reply": "2022-12-14T14:53:20.304497Z"
        },
        "trusted": true
      },
      "execution_count": null,
      "outputs": []
    },
    {
      "cell_type": "markdown",
      "source": [
        "2e) What criterion did you choose and why?\n",
        "* Write a small description for the loss function that you want to use for this specific problem.\n",
        "* What was your intuition for using this loss?"
      ],
      "metadata": {
        "id": "JNtKYgzTRKmM"
      }
    },
    {
      "cell_type": "markdown",
      "source": [
        "2f) Train your model and validate it at the end of each epoch.\n",
        "* Similarly to the previous question train and validate your network for each epoch\n",
        "* Write a small description on how you decide which is the optimal epoch\n",
        "* Use this epoch and evaluate your model on the test set\n",
        "* Visualise some predictions using the function 'visualize_prediction'\n",
        "* What do you observe?"
      ],
      "metadata": {
        "id": "HmjN0W-KRKmN"
      }
    },
    {
      "cell_type": "code",
      "source": [
        "# *****START CODE\n",
        "\n",
        "\n",
        "\n",
        "# *****END CODE"
      ],
      "metadata": {
        "id": "VZfRftoFRKmN",
        "execution": {
          "iopub.status.busy": "2022-12-14T14:53:20.306222Z",
          "iopub.status.idle": "2022-12-14T14:53:20.306904Z",
          "shell.execute_reply.started": "2022-12-14T14:53:20.306580Z",
          "shell.execute_reply": "2022-12-14T14:53:20.306622Z"
        },
        "trusted": true
      },
      "execution_count": null,
      "outputs": []
    },
    {
      "cell_type": "markdown",
      "source": [
        "2g) Think and implement a preprocessing step that can boost the accuracy of your network"
      ],
      "metadata": {
        "id": "zTCMv88pRKmN"
      }
    },
    {
      "cell_type": "code",
      "source": [
        "# *****START CODE\n",
        "\n",
        "\n",
        "\n",
        "# *****END CODE"
      ],
      "metadata": {
        "id": "jTqLTm8LRKmN",
        "execution": {
          "iopub.status.busy": "2022-12-14T14:53:20.308652Z",
          "iopub.status.idle": "2022-12-14T14:53:20.309416Z",
          "shell.execute_reply.started": "2022-12-14T14:53:20.309202Z",
          "shell.execute_reply": "2022-12-14T14:53:20.309224Z"
        },
        "trusted": true
      },
      "execution_count": null,
      "outputs": []
    },
    {
      "cell_type": "markdown",
      "source": [
        "#Question 3\n",
        "Answer these generic questions:"
      ],
      "metadata": {
        "id": "qmogb4BZqanY"
      }
    },
    {
      "cell_type": "markdown",
      "source": [
        "3a) What is a metric? What is a loss? What is the difference between both?"
      ],
      "metadata": {
        "id": "UI7zK3GOqiPU"
      }
    },
    {
      "cell_type": "markdown",
      "source": [
        "Your answer:"
      ],
      "metadata": {
        "id": "Fse981-xqsaR"
      }
    },
    {
      "cell_type": "markdown",
      "source": [
        "3b) Why deep learning models are difficult to understand even on a particular prediction?"
      ],
      "metadata": {
        "id": "LEPKyXQzqu0T"
      }
    },
    {
      "cell_type": "markdown",
      "source": [
        "Your answer:"
      ],
      "metadata": {
        "id": "zkE-FQ3aq_Pi"
      }
    },
    {
      "cell_type": "markdown",
      "source": [
        "3c) What is \"out of domain data\"?"
      ],
      "metadata": {
        "id": "nB17ceedrBvD"
      }
    },
    {
      "cell_type": "markdown",
      "source": [
        "Your answer:"
      ],
      "metadata": {
        "id": "GSxTeaBbrN39"
      }
    },
    {
      "cell_type": "markdown",
      "source": [
        "3d) Name five tasks where Deep Learning models are the state-of-the-art:\n",
        "For example: Folding proteins in Biology"
      ],
      "metadata": {
        "id": "gW4zn1h6rO8J"
      }
    },
    {
      "cell_type": "markdown",
      "source": [
        "Your answer:"
      ],
      "metadata": {
        "id": "26X2qPH6ruN8"
      }
    },
    {
      "cell_type": "markdown",
      "source": [
        "3e)What is an “activation function” and what is it used for in Deep Learning models?"
      ],
      "metadata": {
        "id": "z9aeE0ikrvUI"
      }
    },
    {
      "cell_type": "markdown",
      "source": [
        "Your answer:"
      ],
      "metadata": {
        "id": "pIgnFkHGtA-k"
      }
    }
  ]
}